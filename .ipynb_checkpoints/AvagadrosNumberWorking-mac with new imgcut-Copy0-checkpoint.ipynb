{
 "metadata": {
  "name": "",
  "signature": "sha256:66439c967240a1442d72fa6ff30697ee7eb64ad250af934e0dcbebbc4c9d81b0"
 },
 "nbformat": 3,
 "nbformat_minor": 0,
 "worksheets": [
  {
   "cells": [
    {
     "cell_type": "code",
     "collapsed": false,
     "input": [
      "%pylab inline\n",
      "import numpy as np\n",
      "import matplotlib.pyplot as plt\n",
      "from PIL import Image\n",
      "import requests\n",
      "from StringIO import StringIO"
     ],
     "language": "python",
     "metadata": {},
     "outputs": [
      {
       "output_type": "stream",
       "stream": "stdout",
       "text": [
        "Populating the interactive namespace from numpy and matplotlib\n"
       ]
      }
     ],
     "prompt_number": 36
    },
    {
     "cell_type": "code",
     "collapsed": false,
     "input": [
      "def brightest(picture):\n",
      "    \n",
      "    xsize, ysize = picture.size\n",
      "    bx, by, max_val = 0, 0, 0\n",
      "    for x in range(xsize):\n",
      "        for y in range(ysize):\n",
      "            r,g,b = pic.getpixel((x,y))\n",
      "            if r+g+b > max_val:\n",
      "                bx, by, max_val = x, y, r+g+b\n",
      "    return (bx, by), max_val"
     ],
     "language": "python",
     "metadata": {},
     "outputs": [],
     "prompt_number": 37
    },
    {
     "cell_type": "code",
     "collapsed": false,
     "input": [
      "import os\n",
      "def fetchimg(name,run):\n",
      "    print run\n",
      "    print name\n",
      "    print os.getcwd() + '//'+run+'//images//' + name\n",
      "    pic = Image.open(os.getcwd() + '//'+run+'//images//' + name)\n",
      "    return pic"
     ],
     "language": "python",
     "metadata": {},
     "outputs": [],
     "prompt_number": 73
    },
    {
     "cell_type": "code",
     "collapsed": false,
     "input": [
      "def count2(picture,fillfunc):\n",
      "    \n",
      "    BLACK = (0,0,0)\n",
      "    xsize, ysize = picture.size\n",
      "    temp = picture.load()\n",
      "    result = 0\n",
      "    #a list of stars' max pixel locations and values\n",
      "    starlist = []\n",
      "    for x in range(xsize):\n",
      "        for y in range(ysize):\n",
      "            if temp[x,y] > BLACK:\n",
      "                result += 1\n",
      "                x,y,max_val,mass = fillfunc(temp,xsize,ysize,x,y)\n",
      "                starlist.append((x,y,max_val,mass))\n",
      "    return result,starlist"
     ],
     "language": "python",
     "metadata": {},
     "outputs": [],
     "prompt_number": 39
    },
    {
     "cell_type": "code",
     "collapsed": false,
     "input": [
      "def fill2(picture, xsize, ysize, xstart, ystart):\n",
      "    \n",
      "    BLACK = (0,0,0)\n",
      "    mass = 0\n",
      "    maxx,maxy,maxval = 0,0,0\n",
      "    queue = [(xstart,ystart)]\n",
      "    while queue:\n",
      "        x,y,queue = queue[0][0], queue[0][1], queue[1:]\n",
      "        r,g,b = picture[x,y]\n",
      "        if (r+g+b > maxval):\n",
      "            maxx,maxy,maxval,mass = x,y,r+g+b,mass+1\n",
      "        if (r,g,b) > BLACK:\n",
      "            picture[x,y] = BLACK\n",
      "            if x > 0:\n",
      "                queue.append((x-1,y))\n",
      "            if x < (xsize-1):\n",
      "                queue.append((x+1,y))\n",
      "            if y > 0:\n",
      "                queue.append((x, y-1))\n",
      "            if y < (ysize-1):\n",
      "                queue.append((x, y+1))\n",
      "    return maxx,maxy,maxval, mass"
     ],
     "language": "python",
     "metadata": {},
     "outputs": [],
     "prompt_number": 40
    },
    {
     "cell_type": "code",
     "collapsed": false,
     "input": [
      "def imagecut(picture, threshold): #previously monochrome\n",
      "    \n",
      "    black = (0, 0, 0)\n",
      "    white = (255, 255, 255)\n",
      "    xsize, ysize = picture.size\n",
      "    temp = picture.load()\n",
      "    for x in range(xsize):\n",
      "        for y in range(ysize):\n",
      "            r,g,b = temp[x,y]\n",
      "            if r+g+b < threshold: \n",
      "                temp[x,y] = black\n",
      "            else:\n",
      "                temp[x,y] = white\n",
      "    picture.show()"
     ],
     "language": "python",
     "metadata": {},
     "outputs": [],
     "prompt_number": 199
    },
    {
     "cell_type": "code",
     "collapsed": false,
     "input": [
      "def resetimg2(imgname,threshold,run):\n",
      "    \n",
      "    picture = fetchimg(imgname,run)\n",
      "    imagecut(picture,threshold)\n",
      "    return picture"
     ],
     "language": "python",
     "metadata": {},
     "outputs": [],
     "prompt_number": 42
    },
    {
     "cell_type": "code",
     "collapsed": false,
     "input": [
      "def analyzepic(imgname,outname,run):\n",
      "    threshold = 650\n",
      "    fillfunc = 'fill2'\n",
      "    picture = resetimg2(imgname,threshold,run)\n",
      "    result = count2(picture,fill2)\n",
      "    #print proctime, result[0]\n",
      "    stars = np.array(result[1])\n",
      "    myheader = \"\\n Image file: %s\\n Applied threshold: %d\\n Algorithm used: %s \\\n",
      "                \\n Particle count: %d\\n Location (x,y), max luminance, and mass:\\n\" \\\n",
      "                %(imgname,threshold,fillfunc,result[0])\n",
      "    np.savetxt(outname,stars,fmt=('%3i\\t'*4),header=myheader)"
     ],
     "language": "python",
     "metadata": {},
     "outputs": [],
     "prompt_number": 171
    },
    {
     "cell_type": "code",
     "collapsed": false,
     "input": [
      "def datagen(run):\n",
      "    import os\n",
      "    from os import listdir\n",
      "    imgnames = os.listdir(run+\"//images\")\n",
      "    for imgs in imgnames:\n",
      "        filename = run+'//data//'+imgs.replace('.jpg','')+'.txt'\n",
      "        analyzepic(imgs,filename,run)"
     ],
     "language": "python",
     "metadata": {},
     "outputs": [],
     "prompt_number": 44
    },
    {
     "cell_type": "code",
     "collapsed": false,
     "input": [
      "def AvoEstim(run,p=17):\n",
      "    'p is the displacement limit, default 17'\n",
      "    from os import listdir\n",
      "    datanames = os.listdir(run+'/data')\n",
      "    i=0\n",
      "    n=0\n",
      "    dt = 0.5\n",
      "    disp = []\n",
      "    particles = 0\n",
      "    for name in datanames:\n",
      "        if datanames.index(name)<len(datanames)-1:\n",
      "            k = datanames.index(name) + 1\n",
      "            data1 = np.genfromtxt(run+'//data//'+name)\n",
      "            data2 = np.genfromtxt(run+'//data//'+datanames[k])\n",
      "            particles += len(data1)\n",
      "            a = len(data1)\n",
      "            b = len(data2)\n",
      "            if a >= b :\n",
      "                size = b-1\n",
      "            elif b > a :\n",
      "                size = a-1\n",
      "            while n <= size and i <= size:\n",
      "                dx = abs(data1[n][0]-data2[i][0])\n",
      "                dy = abs(data1[n][1]-data2[i][1])\n",
      "                if dx < p and dy < p:\n",
      "                    disp.append((dx*0.175e-6)**2 + (dy*0.175e-6)**2)\n",
      "                    n +=1\n",
      "                    i = 0\n",
      "                else:\n",
      "                    i +=1\n",
      "            n = 0\n",
      "            i = 0\n",
      "        else:\n",
      "            D1 = sum(disp)/(2*len(disp)) # use n = number of times the code found a change that qualified as a displacement\n",
      "            k1 = 6*np.pi*9.135e-4*0.5e-6*D1/298\n",
      "            k = 1.3806488e-23\n",
      "            err1 = abs(k-k1)/k\n",
      "            R = 8.31457\n",
      "            N = 6.0221413e+23\n",
      "            N1=R/k1\n",
      "            err2 = abs(N-N1)/N\n",
      "            print \"D =\", D1\n",
      "            print \"K Estimate =\", k1\n",
      "            print \"K Theory =\",k\n",
      "            print \"Percent Error =\",err1*100,\"%\"\n",
      "            print \"Avogadro's Number Estimate =\", N1\n",
      "            print \"Avogadro's Number Theory =\", N\n",
      "            print \"Percent Error =\", err2*100,\"%\"\n",
      "        "
     ],
     "language": "python",
     "metadata": {},
     "outputs": [],
     "prompt_number": 45
    },
    {
     "cell_type": "code",
     "collapsed": false,
     "input": [
      "def analyzerun(run):\n",
      "    datagen(run)\n",
      "    AvoEstim(run)"
     ],
     "language": "python",
     "metadata": {},
     "outputs": [],
     "prompt_number": 46
    },
    {
     "cell_type": "code",
     "collapsed": false,
     "input": [
      "#analyzerun('run9')"
     ],
     "language": "python",
     "metadata": {},
     "outputs": [],
     "prompt_number": 47
    },
    {
     "cell_type": "code",
     "collapsed": false,
     "input": [
      "#analyzerun('run0')"
     ],
     "language": "python",
     "metadata": {},
     "outputs": [],
     "prompt_number": 48
    },
    {
     "cell_type": "code",
     "collapsed": false,
     "input": [
      "#analyzerun('run1')"
     ],
     "language": "python",
     "metadata": {},
     "outputs": [],
     "prompt_number": 49
    },
    {
     "cell_type": "code",
     "collapsed": false,
     "input": [
      "#analyzerun('run3')"
     ],
     "language": "python",
     "metadata": {},
     "outputs": [],
     "prompt_number": 50
    },
    {
     "cell_type": "code",
     "collapsed": false,
     "input": [
      "#analyzerun('run4')"
     ],
     "language": "python",
     "metadata": {},
     "outputs": [],
     "prompt_number": 51
    },
    {
     "cell_type": "code",
     "collapsed": false,
     "input": [
      "#analyzerun('run5')"
     ],
     "language": "python",
     "metadata": {},
     "outputs": [],
     "prompt_number": 52
    },
    {
     "cell_type": "code",
     "collapsed": false,
     "input": [
      "#analyzerun('run6')"
     ],
     "language": "python",
     "metadata": {},
     "outputs": [],
     "prompt_number": 53
    },
    {
     "cell_type": "code",
     "collapsed": false,
     "input": [
      "#analyzerun('run7')"
     ],
     "language": "python",
     "metadata": {},
     "outputs": [],
     "prompt_number": 54
    },
    {
     "cell_type": "code",
     "collapsed": false,
     "input": [
      "#analyzerun('run8')"
     ],
     "language": "python",
     "metadata": {},
     "outputs": [],
     "prompt_number": 55
    },
    {
     "cell_type": "code",
     "collapsed": false,
     "input": [
      "AvoEstim('run0',16)"
     ],
     "language": "python",
     "metadata": {},
     "outputs": [
      {
       "output_type": "stream",
       "stream": "stdout",
       "text": [
        "D = 4.82487373737e-13\n",
        "K Estimate = 1.39395697002e-23\n",
        "K Theory = 1.3806488e-23\n",
        "Percent Error = 0.963906970421 %\n",
        "Avogadro's Number Estimate = 5.96472500861e+23\n",
        "Avogadro's Number Theory = 6.0221413e+23\n",
        "Percent Error = 0.953419864031 %\n"
       ]
      }
     ],
     "prompt_number": 56
    },
    {
     "cell_type": "code",
     "collapsed": false,
     "input": [
      "AvoEstim('run1',16)"
     ],
     "language": "python",
     "metadata": {},
     "outputs": [
      {
       "output_type": "stream",
       "stream": "stdout",
       "text": [
        "D = 4.81245120818e-13\n",
        "K Estimate = 1.39036797016e-23\n",
        "K Theory = 1.3806488e-23\n",
        "Percent Error = 0.703956731247 %\n",
        "Avogadro's Number Estimate = 5.98012193781e+23\n",
        "Avogadro's Number Theory = 6.0221413e+23\n",
        "Percent Error = 0.69774786234 %\n"
       ]
      }
     ],
     "prompt_number": 57
    },
    {
     "cell_type": "code",
     "collapsed": false,
     "input": [
      "AvoEstim('run3',15)"
     ],
     "language": "python",
     "metadata": {},
     "outputs": [
      {
       "output_type": "stream",
       "stream": "stdout",
       "text": [
        "D = 4.62557417169e-13\n",
        "K Estimate = 1.33637722103e-23\n",
        "K Theory = 1.3806488e-23\n",
        "Percent Error = 3.20657787634 %\n",
        "Avogadro's Number Estimate = 6.22172382854e+23\n",
        "Avogadro's Number Theory = 6.0221413e+23\n",
        "Percent Error = 3.31414556054 %\n"
       ]
      }
     ],
     "prompt_number": 58
    },
    {
     "cell_type": "code",
     "collapsed": false,
     "input": [
      "AvoEstim('run4',14)"
     ],
     "language": "python",
     "metadata": {},
     "outputs": [
      {
       "output_type": "stream",
       "stream": "stdout",
       "text": [
        "D = 4.82768521651e-13\n",
        "K Estimate = 1.39476923603e-23\n",
        "K Theory = 1.3806488e-23\n",
        "Percent Error = 1.02273916651 %\n",
        "Avogadro's Number Estimate = 5.9612513563e+23\n",
        "Avogadro's Number Theory = 6.0221413e+23\n",
        "Percent Error = 1.01110121254 %\n"
       ]
      }
     ],
     "prompt_number": 59
    },
    {
     "cell_type": "code",
     "collapsed": false,
     "input": [
      "AvoEstim('run5',17)"
     ],
     "language": "python",
     "metadata": {},
     "outputs": [
      {
       "output_type": "stream",
       "stream": "stdout",
       "text": [
        "D = 4.790625e-13\n",
        "K Estimate = 1.38406214815e-23\n",
        "K Theory = 1.3806488e-23\n",
        "Percent Error = 0.247227835945 %\n",
        "Avogadro's Number Estimate = 6.007367524e+23\n",
        "Avogadro's Number Theory = 6.0221413e+23\n",
        "Percent Error = 0.245324300124 %\n"
       ]
      }
     ],
     "prompt_number": 60
    },
    {
     "cell_type": "code",
     "collapsed": false,
     "input": [
      "AvoEstim('run6',19)"
     ],
     "language": "python",
     "metadata": {},
     "outputs": [
      {
       "output_type": "stream",
       "stream": "stdout",
       "text": [
        "D = 4.71637080868e-13\n",
        "K Estimate = 1.36260932821e-23\n",
        "K Theory = 1.3806488e-23\n",
        "Percent Error = 1.30659381263 %\n",
        "Avogadro's Number Estimate = 6.10194707162e+23\n",
        "Avogadro's Number Theory = 6.0221413e+23\n",
        "Percent Error = 1.32520589674 %\n"
       ]
      }
     ],
     "prompt_number": 61
    },
    {
     "cell_type": "code",
     "collapsed": false,
     "input": [
      "AvoEstim('run7',18)"
     ],
     "language": "python",
     "metadata": {},
     "outputs": [
      {
       "output_type": "stream",
       "stream": "stdout",
       "text": [
        "D = 4.75062330009e-13\n",
        "K Estimate = 1.37250523466e-23\n",
        "K Theory = 1.3806488e-23\n",
        "Percent Error = 0.589836122231 %\n",
        "Avogadro's Number Estimate = 6.05795139432e+23\n",
        "Avogadro's Number Theory = 6.0221413e+23\n",
        "Percent Error = 0.594640552872 %\n"
       ]
      }
     ],
     "prompt_number": 62
    },
    {
     "cell_type": "code",
     "collapsed": false,
     "input": [
      "AvoEstim('run8',18)"
     ],
     "language": "python",
     "metadata": {},
     "outputs": [
      {
       "ename": "ValueError",
       "evalue": "Some errors were detected !\n    Line #2 (got 1 columns instead of 17)\n    Line #3 (got 1 columns instead of 17)\n    Line #4 (got 1 columns instead of 17)\n    Line #5 (got 1 columns instead of 17)\n    Line #6 (got 1 columns instead of 17)\n    Line #7 (got 1 columns instead of 17)\n    Line #8 (got 1 columns instead of 17)\n    Line #9 (got 21 columns instead of 17)\n    Line #10 (got 1 columns instead of 17)\n    Line #11 (got 1 columns instead of 17)\n    Line #12 (got 1 columns instead of 17)\n    Line #13 (got 1 columns instead of 17)\n    Line #14 (got 1 columns instead of 17)\n    Line #15 (got 1 columns instead of 17)\n    Line #16 (got 1 columns instead of 17)\n    Line #17 (got 10 columns instead of 17)\n    Line #18 (got 1 columns instead of 17)\n    Line #19 (got 1 columns instead of 17)\n    Line #20 (got 1 columns instead of 17)\n    Line #21 (got 1 columns instead of 17)\n    Line #22 (got 1 columns instead of 17)\n    Line #23 (got 1 columns instead of 17)\n    Line #24 (got 1 columns instead of 17)\n    Line #25 (got 4 columns instead of 17)",
       "output_type": "pyerr",
       "traceback": [
        "\u001b[0;31m---------------------------------------------------------------------------\u001b[0m\n\u001b[0;31mValueError\u001b[0m                                Traceback (most recent call last)",
        "\u001b[0;32m<ipython-input-110-3e4733914b09>\u001b[0m in \u001b[0;36m<module>\u001b[0;34m()\u001b[0m\n\u001b[0;32m----> 1\u001b[0;31m \u001b[0mAvoEstim\u001b[0m\u001b[0;34m(\u001b[0m\u001b[0;34m'run8'\u001b[0m\u001b[0;34m,\u001b[0m\u001b[0;36m18\u001b[0m\u001b[0;34m)\u001b[0m\u001b[0;34m\u001b[0m\u001b[0m\n\u001b[0m",
        "\u001b[0;32m<ipython-input-45-ae31306eea88>\u001b[0m in \u001b[0;36mAvoEstim\u001b[0;34m(run, p)\u001b[0m\n\u001b[1;32m     11\u001b[0m         \u001b[0;32mif\u001b[0m \u001b[0mdatanames\u001b[0m\u001b[0;34m.\u001b[0m\u001b[0mindex\u001b[0m\u001b[0;34m(\u001b[0m\u001b[0mname\u001b[0m\u001b[0;34m)\u001b[0m\u001b[0;34m<\u001b[0m\u001b[0mlen\u001b[0m\u001b[0;34m(\u001b[0m\u001b[0mdatanames\u001b[0m\u001b[0;34m)\u001b[0m\u001b[0;34m-\u001b[0m\u001b[0;36m1\u001b[0m\u001b[0;34m:\u001b[0m\u001b[0;34m\u001b[0m\u001b[0m\n\u001b[1;32m     12\u001b[0m             \u001b[0mk\u001b[0m \u001b[0;34m=\u001b[0m \u001b[0mdatanames\u001b[0m\u001b[0;34m.\u001b[0m\u001b[0mindex\u001b[0m\u001b[0;34m(\u001b[0m\u001b[0mname\u001b[0m\u001b[0;34m)\u001b[0m \u001b[0;34m+\u001b[0m \u001b[0;36m1\u001b[0m\u001b[0;34m\u001b[0m\u001b[0m\n\u001b[0;32m---> 13\u001b[0;31m             \u001b[0mdata1\u001b[0m \u001b[0;34m=\u001b[0m \u001b[0mnp\u001b[0m\u001b[0;34m.\u001b[0m\u001b[0mgenfromtxt\u001b[0m\u001b[0;34m(\u001b[0m\u001b[0mrun\u001b[0m\u001b[0;34m+\u001b[0m\u001b[0;34m'//data//'\u001b[0m\u001b[0;34m+\u001b[0m\u001b[0mname\u001b[0m\u001b[0;34m)\u001b[0m\u001b[0;34m\u001b[0m\u001b[0m\n\u001b[0m\u001b[1;32m     14\u001b[0m             \u001b[0mdata2\u001b[0m \u001b[0;34m=\u001b[0m \u001b[0mnp\u001b[0m\u001b[0;34m.\u001b[0m\u001b[0mgenfromtxt\u001b[0m\u001b[0;34m(\u001b[0m\u001b[0mrun\u001b[0m\u001b[0;34m+\u001b[0m\u001b[0;34m'//data//'\u001b[0m\u001b[0;34m+\u001b[0m\u001b[0mdatanames\u001b[0m\u001b[0;34m[\u001b[0m\u001b[0mk\u001b[0m\u001b[0;34m]\u001b[0m\u001b[0;34m)\u001b[0m\u001b[0;34m\u001b[0m\u001b[0m\n\u001b[1;32m     15\u001b[0m             \u001b[0mparticles\u001b[0m \u001b[0;34m+=\u001b[0m \u001b[0mlen\u001b[0m\u001b[0;34m(\u001b[0m\u001b[0mdata1\u001b[0m\u001b[0;34m)\u001b[0m\u001b[0;34m\u001b[0m\u001b[0m\n",
        "\u001b[0;32m/Applications/anaconda/lib/python2.7/site-packages/numpy/lib/npyio.pyc\u001b[0m in \u001b[0;36mgenfromtxt\u001b[0;34m(fname, dtype, comments, delimiter, skiprows, skip_header, skip_footer, converters, missing, missing_values, filling_values, usecols, names, excludelist, deletechars, replace_space, autostrip, case_sensitive, defaultfmt, unpack, usemask, loose, invalid_raise)\u001b[0m\n\u001b[1;32m   1652\u001b[0m             \u001b[0;31m# Raise an exception ?\u001b[0m\u001b[0;34m\u001b[0m\u001b[0;34m\u001b[0m\u001b[0m\n\u001b[1;32m   1653\u001b[0m             \u001b[0;32mif\u001b[0m \u001b[0minvalid_raise\u001b[0m\u001b[0;34m:\u001b[0m\u001b[0;34m\u001b[0m\u001b[0m\n\u001b[0;32m-> 1654\u001b[0;31m                 \u001b[0;32mraise\u001b[0m \u001b[0mValueError\u001b[0m\u001b[0;34m(\u001b[0m\u001b[0merrmsg\u001b[0m\u001b[0;34m)\u001b[0m\u001b[0;34m\u001b[0m\u001b[0m\n\u001b[0m\u001b[1;32m   1655\u001b[0m             \u001b[0;31m# Issue a warning ?\u001b[0m\u001b[0;34m\u001b[0m\u001b[0;34m\u001b[0m\u001b[0m\n\u001b[1;32m   1656\u001b[0m             \u001b[0;32melse\u001b[0m\u001b[0;34m:\u001b[0m\u001b[0;34m\u001b[0m\u001b[0m\n",
        "\u001b[0;31mValueError\u001b[0m: Some errors were detected !\n    Line #2 (got 1 columns instead of 17)\n    Line #3 (got 1 columns instead of 17)\n    Line #4 (got 1 columns instead of 17)\n    Line #5 (got 1 columns instead of 17)\n    Line #6 (got 1 columns instead of 17)\n    Line #7 (got 1 columns instead of 17)\n    Line #8 (got 1 columns instead of 17)\n    Line #9 (got 21 columns instead of 17)\n    Line #10 (got 1 columns instead of 17)\n    Line #11 (got 1 columns instead of 17)\n    Line #12 (got 1 columns instead of 17)\n    Line #13 (got 1 columns instead of 17)\n    Line #14 (got 1 columns instead of 17)\n    Line #15 (got 1 columns instead of 17)\n    Line #16 (got 1 columns instead of 17)\n    Line #17 (got 10 columns instead of 17)\n    Line #18 (got 1 columns instead of 17)\n    Line #19 (got 1 columns instead of 17)\n    Line #20 (got 1 columns instead of 17)\n    Line #21 (got 1 columns instead of 17)\n    Line #22 (got 1 columns instead of 17)\n    Line #23 (got 1 columns instead of 17)\n    Line #24 (got 1 columns instead of 17)\n    Line #25 (got 4 columns instead of 17)"
       ]
      }
     ],
     "prompt_number": 110
    },
    {
     "cell_type": "code",
     "collapsed": false,
     "input": [
      "AvoEstim('run9',18)"
     ],
     "language": "python",
     "metadata": {},
     "outputs": [
      {
       "output_type": "stream",
       "stream": "stdout",
       "text": [
        "D = 4.8629913522e-13\n",
        "K Estimate = 1.40496955144e-23\n",
        "K Theory = 1.3806488e-23\n",
        "Percent Error = 1.7615451112 %\n",
        "Avogadro's Number Estimate = 5.91797166813e+23\n",
        "Avogadro's Number Theory = 6.0221413e+23\n",
        "Percent Error = 1.72977727826 %\n"
       ]
      }
     ],
     "prompt_number": 198
    },
    {
     "cell_type": "raw",
     "metadata": {},
     "source": [
      "By varrying the P parameter I am able to achieve mostly sub 1% error. This effect could be attributed to temperature fluctuations from run to run."
     ]
    },
    {
     "cell_type": "code",
     "collapsed": false,
     "input": [
      "analyzerun('run7')"
     ],
     "language": "python",
     "metadata": {},
     "outputs": [
      {
       "output_type": "stream",
       "stream": "stdout",
       "text": [
        "run7\n",
        "frame00000.jpg\n",
        "/Users/jgoad/PHYS202-S14//run7//images//frame00000.jpg\n",
        "run7"
       ]
      },
      {
       "output_type": "stream",
       "stream": "stdout",
       "text": [
        "\n",
        "frame00001.jpg\n",
        "/Users/jgoad/PHYS202-S14//run7//images//frame00001.jpg\n",
        "run7"
       ]
      },
      {
       "output_type": "stream",
       "stream": "stdout",
       "text": [
        "\n",
        "frame00002.jpg\n",
        "/Users/jgoad/PHYS202-S14//run7//images//frame00002.jpg\n",
        "run7"
       ]
      },
      {
       "output_type": "stream",
       "stream": "stdout",
       "text": [
        "\n",
        "frame00003.jpg\n",
        "/Users/jgoad/PHYS202-S14//run7//images//frame00003.jpg\n",
        "run7"
       ]
      },
      {
       "output_type": "stream",
       "stream": "stdout",
       "text": [
        "\n",
        "frame00004.jpg\n",
        "/Users/jgoad/PHYS202-S14//run7//images//frame00004.jpg\n",
        "run7"
       ]
      },
      {
       "output_type": "stream",
       "stream": "stdout",
       "text": [
        "\n",
        "frame00005.jpg\n",
        "/Users/jgoad/PHYS202-S14//run7//images//frame00005.jpg\n",
        "run7"
       ]
      },
      {
       "output_type": "stream",
       "stream": "stdout",
       "text": [
        "\n",
        "frame00006.jpg\n",
        "/Users/jgoad/PHYS202-S14//run7//images//frame00006.jpg\n",
        "run7"
       ]
      },
      {
       "output_type": "stream",
       "stream": "stdout",
       "text": [
        "\n",
        "frame00007.jpg\n",
        "/Users/jgoad/PHYS202-S14//run7//images//frame00007.jpg\n",
        "run7"
       ]
      },
      {
       "output_type": "stream",
       "stream": "stdout",
       "text": [
        "\n",
        "frame00008.jpg\n",
        "/Users/jgoad/PHYS202-S14//run7//images//frame00008.jpg\n",
        "run7"
       ]
      },
      {
       "output_type": "stream",
       "stream": "stdout",
       "text": [
        "\n",
        "frame00009.jpg\n",
        "/Users/jgoad/PHYS202-S14//run7//images//frame00009.jpg\n"
       ]
      },
      {
       "ename": "KeyboardInterrupt",
       "evalue": "",
       "output_type": "pyerr",
       "traceback": [
        "\u001b[0;31m---------------------------------------------------------------------------\u001b[0m\n\u001b[0;31mKeyboardInterrupt\u001b[0m                         Traceback (most recent call last)",
        "\u001b[0;32m<ipython-input-152-3d10b91ecc43>\u001b[0m in \u001b[0;36m<module>\u001b[0;34m()\u001b[0m\n\u001b[0;32m----> 1\u001b[0;31m \u001b[0manalyzerun\u001b[0m\u001b[0;34m(\u001b[0m\u001b[0;34m'run7'\u001b[0m\u001b[0;34m)\u001b[0m\u001b[0;34m\u001b[0m\u001b[0m\n\u001b[0m",
        "\u001b[0;32m<ipython-input-46-2724c87ac2a6>\u001b[0m in \u001b[0;36manalyzerun\u001b[0;34m(run)\u001b[0m\n\u001b[1;32m      1\u001b[0m \u001b[0;32mdef\u001b[0m \u001b[0manalyzerun\u001b[0m\u001b[0;34m(\u001b[0m\u001b[0mrun\u001b[0m\u001b[0;34m)\u001b[0m\u001b[0;34m:\u001b[0m\u001b[0;34m\u001b[0m\u001b[0m\n\u001b[0;32m----> 2\u001b[0;31m     \u001b[0mdatagen\u001b[0m\u001b[0;34m(\u001b[0m\u001b[0mrun\u001b[0m\u001b[0;34m)\u001b[0m\u001b[0;34m\u001b[0m\u001b[0m\n\u001b[0m\u001b[1;32m      3\u001b[0m     \u001b[0mAvoEstim\u001b[0m\u001b[0;34m(\u001b[0m\u001b[0mrun\u001b[0m\u001b[0;34m)\u001b[0m\u001b[0;34m\u001b[0m\u001b[0m\n",
        "\u001b[0;32m<ipython-input-44-6fd03696defe>\u001b[0m in \u001b[0;36mdatagen\u001b[0;34m(run)\u001b[0m\n\u001b[1;32m      5\u001b[0m     \u001b[0;32mfor\u001b[0m \u001b[0mimgs\u001b[0m \u001b[0;32min\u001b[0m \u001b[0mimgnames\u001b[0m\u001b[0;34m:\u001b[0m\u001b[0;34m\u001b[0m\u001b[0m\n\u001b[1;32m      6\u001b[0m         \u001b[0mfilename\u001b[0m \u001b[0;34m=\u001b[0m \u001b[0mrun\u001b[0m\u001b[0;34m+\u001b[0m\u001b[0;34m'//data//'\u001b[0m\u001b[0;34m+\u001b[0m\u001b[0mimgs\u001b[0m\u001b[0;34m.\u001b[0m\u001b[0mreplace\u001b[0m\u001b[0;34m(\u001b[0m\u001b[0;34m'.jpg'\u001b[0m\u001b[0;34m,\u001b[0m\u001b[0;34m''\u001b[0m\u001b[0;34m)\u001b[0m\u001b[0;34m+\u001b[0m\u001b[0;34m'.txt'\u001b[0m\u001b[0;34m\u001b[0m\u001b[0m\n\u001b[0;32m----> 7\u001b[0;31m         \u001b[0manalyzepic\u001b[0m\u001b[0;34m(\u001b[0m\u001b[0mimgs\u001b[0m\u001b[0;34m,\u001b[0m\u001b[0mfilename\u001b[0m\u001b[0;34m,\u001b[0m\u001b[0mrun\u001b[0m\u001b[0;34m)\u001b[0m\u001b[0;34m\u001b[0m\u001b[0m\n\u001b[0m",
        "\u001b[0;32m<ipython-input-151-cd10a4817c72>\u001b[0m in \u001b[0;36manalyzepic\u001b[0;34m(imgname, outname, run)\u001b[0m\n\u001b[1;32m      2\u001b[0m     \u001b[0mthreshold\u001b[0m \u001b[0;34m=\u001b[0m \u001b[0;36m700\u001b[0m\u001b[0;34m\u001b[0m\u001b[0m\n\u001b[1;32m      3\u001b[0m     \u001b[0mfillfunc\u001b[0m \u001b[0;34m=\u001b[0m \u001b[0;34m'fill2'\u001b[0m\u001b[0;34m\u001b[0m\u001b[0m\n\u001b[0;32m----> 4\u001b[0;31m     \u001b[0mpicture\u001b[0m \u001b[0;34m=\u001b[0m \u001b[0mresetimg2\u001b[0m\u001b[0;34m(\u001b[0m\u001b[0mimgname\u001b[0m\u001b[0;34m,\u001b[0m\u001b[0mthreshold\u001b[0m\u001b[0;34m,\u001b[0m\u001b[0mrun\u001b[0m\u001b[0;34m)\u001b[0m\u001b[0;34m\u001b[0m\u001b[0m\n\u001b[0m\u001b[1;32m      5\u001b[0m     \u001b[0mresult\u001b[0m \u001b[0;34m=\u001b[0m \u001b[0mcount2\u001b[0m\u001b[0;34m(\u001b[0m\u001b[0mpicture\u001b[0m\u001b[0;34m,\u001b[0m\u001b[0mfill2\u001b[0m\u001b[0;34m)\u001b[0m\u001b[0;34m\u001b[0m\u001b[0m\n\u001b[1;32m      6\u001b[0m     \u001b[0;31m#print proctime, result[0]\u001b[0m\u001b[0;34m\u001b[0m\u001b[0;34m\u001b[0m\u001b[0m\n",
        "\u001b[0;32m<ipython-input-42-a9d7a2f4b46f>\u001b[0m in \u001b[0;36mresetimg2\u001b[0;34m(imgname, threshold, run)\u001b[0m\n\u001b[1;32m      2\u001b[0m \u001b[0;34m\u001b[0m\u001b[0m\n\u001b[1;32m      3\u001b[0m     \u001b[0mpicture\u001b[0m \u001b[0;34m=\u001b[0m \u001b[0mfetchimg\u001b[0m\u001b[0;34m(\u001b[0m\u001b[0mimgname\u001b[0m\u001b[0;34m,\u001b[0m\u001b[0mrun\u001b[0m\u001b[0;34m)\u001b[0m\u001b[0;34m\u001b[0m\u001b[0m\n\u001b[0;32m----> 4\u001b[0;31m     \u001b[0mimagecut\u001b[0m\u001b[0;34m(\u001b[0m\u001b[0mpicture\u001b[0m\u001b[0;34m,\u001b[0m\u001b[0mthreshold\u001b[0m\u001b[0;34m)\u001b[0m\u001b[0;34m\u001b[0m\u001b[0m\n\u001b[0m\u001b[1;32m      5\u001b[0m     \u001b[0;32mreturn\u001b[0m \u001b[0mpicture\u001b[0m\u001b[0;34m\u001b[0m\u001b[0m\n",
        "\u001b[0;32m<ipython-input-41-7505aed98317>\u001b[0m in \u001b[0;36mimagecut\u001b[0;34m(picture, threshold)\u001b[0m\n\u001b[1;32m      7\u001b[0m     \u001b[0;32mfor\u001b[0m \u001b[0mx\u001b[0m \u001b[0;32min\u001b[0m \u001b[0mrange\u001b[0m\u001b[0;34m(\u001b[0m\u001b[0mxsize\u001b[0m\u001b[0;34m)\u001b[0m\u001b[0;34m:\u001b[0m\u001b[0;34m\u001b[0m\u001b[0m\n\u001b[1;32m      8\u001b[0m         \u001b[0;32mfor\u001b[0m \u001b[0my\u001b[0m \u001b[0;32min\u001b[0m \u001b[0mrange\u001b[0m\u001b[0;34m(\u001b[0m\u001b[0mysize\u001b[0m\u001b[0;34m)\u001b[0m\u001b[0;34m:\u001b[0m\u001b[0;34m\u001b[0m\u001b[0m\n\u001b[0;32m----> 9\u001b[0;31m             \u001b[0mr\u001b[0m\u001b[0;34m,\u001b[0m\u001b[0mg\u001b[0m\u001b[0;34m,\u001b[0m\u001b[0mb\u001b[0m \u001b[0;34m=\u001b[0m \u001b[0mtemp\u001b[0m\u001b[0;34m[\u001b[0m\u001b[0mx\u001b[0m\u001b[0;34m,\u001b[0m\u001b[0my\u001b[0m\u001b[0;34m]\u001b[0m\u001b[0;34m\u001b[0m\u001b[0m\n\u001b[0m\u001b[1;32m     10\u001b[0m             \u001b[0;32mif\u001b[0m \u001b[0mr\u001b[0m\u001b[0;34m+\u001b[0m\u001b[0mg\u001b[0m\u001b[0;34m+\u001b[0m\u001b[0mb\u001b[0m \u001b[0;34m<\u001b[0m \u001b[0mthreshold\u001b[0m\u001b[0;34m:\u001b[0m\u001b[0;34m\u001b[0m\u001b[0m\n\u001b[1;32m     11\u001b[0m                 \u001b[0mtemp\u001b[0m\u001b[0;34m[\u001b[0m\u001b[0mx\u001b[0m\u001b[0;34m,\u001b[0m\u001b[0my\u001b[0m\u001b[0;34m]\u001b[0m \u001b[0;34m=\u001b[0m \u001b[0mblack\u001b[0m\u001b[0;34m\u001b[0m\u001b[0m\n",
        "\u001b[0;31mKeyboardInterrupt\u001b[0m: "
       ]
      }
     ],
     "prompt_number": 152
    },
    {
     "cell_type": "code",
     "collapsed": false,
     "input": [
      "analyzerun('run10')"
     ],
     "language": "python",
     "metadata": {},
     "outputs": [
      {
       "output_type": "stream",
       "stream": "stdout",
       "text": [
        "run10\n",
        "frame00000.jpg\n",
        "/Users/jgoad/PHYS202-S14//run10//images//frame00000.jpg\n",
        "run10"
       ]
      },
      {
       "output_type": "stream",
       "stream": "stdout",
       "text": [
        "\n",
        "frame00001.jpg\n",
        "/Users/jgoad/PHYS202-S14//run10//images//frame00001.jpg\n",
        "run10"
       ]
      },
      {
       "output_type": "stream",
       "stream": "stdout",
       "text": [
        "\n",
        "frame00002.jpg\n",
        "/Users/jgoad/PHYS202-S14//run10//images//frame00002.jpg\n",
        "run10"
       ]
      },
      {
       "output_type": "stream",
       "stream": "stdout",
       "text": [
        "\n",
        "frame00003.jpg\n",
        "/Users/jgoad/PHYS202-S14//run10//images//frame00003.jpg\n"
       ]
      },
      {
       "ename": "IndexError",
       "evalue": "invalid index to scalar variable.",
       "output_type": "pyerr",
       "traceback": [
        "\u001b[0;31m---------------------------------------------------------------------------\u001b[0m\n\u001b[0;31mIndexError\u001b[0m                                Traceback (most recent call last)",
        "\u001b[0;32m<ipython-input-200-916895a48642>\u001b[0m in \u001b[0;36m<module>\u001b[0;34m()\u001b[0m\n\u001b[0;32m----> 1\u001b[0;31m \u001b[0manalyzerun\u001b[0m\u001b[0;34m(\u001b[0m\u001b[0;34m'run10'\u001b[0m\u001b[0;34m)\u001b[0m\u001b[0;34m\u001b[0m\u001b[0m\n\u001b[0m",
        "\u001b[0;32m<ipython-input-46-2724c87ac2a6>\u001b[0m in \u001b[0;36manalyzerun\u001b[0;34m(run)\u001b[0m\n\u001b[1;32m      1\u001b[0m \u001b[0;32mdef\u001b[0m \u001b[0manalyzerun\u001b[0m\u001b[0;34m(\u001b[0m\u001b[0mrun\u001b[0m\u001b[0;34m)\u001b[0m\u001b[0;34m:\u001b[0m\u001b[0;34m\u001b[0m\u001b[0m\n\u001b[1;32m      2\u001b[0m     \u001b[0mdatagen\u001b[0m\u001b[0;34m(\u001b[0m\u001b[0mrun\u001b[0m\u001b[0;34m)\u001b[0m\u001b[0;34m\u001b[0m\u001b[0m\n\u001b[0;32m----> 3\u001b[0;31m     \u001b[0mAvoEstim\u001b[0m\u001b[0;34m(\u001b[0m\u001b[0mrun\u001b[0m\u001b[0;34m)\u001b[0m\u001b[0;34m\u001b[0m\u001b[0m\n\u001b[0m",
        "\u001b[0;32m<ipython-input-45-ae31306eea88>\u001b[0m in \u001b[0;36mAvoEstim\u001b[0;34m(run, p)\u001b[0m\n\u001b[1;32m     21\u001b[0m                 \u001b[0msize\u001b[0m \u001b[0;34m=\u001b[0m \u001b[0ma\u001b[0m\u001b[0;34m-\u001b[0m\u001b[0;36m1\u001b[0m\u001b[0;34m\u001b[0m\u001b[0m\n\u001b[1;32m     22\u001b[0m             \u001b[0;32mwhile\u001b[0m \u001b[0mn\u001b[0m \u001b[0;34m<=\u001b[0m \u001b[0msize\u001b[0m \u001b[0;32mand\u001b[0m \u001b[0mi\u001b[0m \u001b[0;34m<=\u001b[0m \u001b[0msize\u001b[0m\u001b[0;34m:\u001b[0m\u001b[0;34m\u001b[0m\u001b[0m\n\u001b[0;32m---> 23\u001b[0;31m                 \u001b[0mdx\u001b[0m \u001b[0;34m=\u001b[0m \u001b[0mabs\u001b[0m\u001b[0;34m(\u001b[0m\u001b[0mdata1\u001b[0m\u001b[0;34m[\u001b[0m\u001b[0mn\u001b[0m\u001b[0;34m]\u001b[0m\u001b[0;34m[\u001b[0m\u001b[0;36m0\u001b[0m\u001b[0;34m]\u001b[0m\u001b[0;34m-\u001b[0m\u001b[0mdata2\u001b[0m\u001b[0;34m[\u001b[0m\u001b[0mi\u001b[0m\u001b[0;34m]\u001b[0m\u001b[0;34m[\u001b[0m\u001b[0;36m0\u001b[0m\u001b[0;34m]\u001b[0m\u001b[0;34m)\u001b[0m\u001b[0;34m\u001b[0m\u001b[0m\n\u001b[0m\u001b[1;32m     24\u001b[0m                 \u001b[0mdy\u001b[0m \u001b[0;34m=\u001b[0m \u001b[0mabs\u001b[0m\u001b[0;34m(\u001b[0m\u001b[0mdata1\u001b[0m\u001b[0;34m[\u001b[0m\u001b[0mn\u001b[0m\u001b[0;34m]\u001b[0m\u001b[0;34m[\u001b[0m\u001b[0;36m1\u001b[0m\u001b[0;34m]\u001b[0m\u001b[0;34m-\u001b[0m\u001b[0mdata2\u001b[0m\u001b[0;34m[\u001b[0m\u001b[0mi\u001b[0m\u001b[0;34m]\u001b[0m\u001b[0;34m[\u001b[0m\u001b[0;36m1\u001b[0m\u001b[0;34m]\u001b[0m\u001b[0;34m)\u001b[0m\u001b[0;34m\u001b[0m\u001b[0m\n\u001b[1;32m     25\u001b[0m                 \u001b[0;32mif\u001b[0m \u001b[0mdx\u001b[0m \u001b[0;34m<\u001b[0m \u001b[0mp\u001b[0m \u001b[0;32mand\u001b[0m \u001b[0mdy\u001b[0m \u001b[0;34m<\u001b[0m \u001b[0mp\u001b[0m\u001b[0;34m:\u001b[0m\u001b[0;34m\u001b[0m\u001b[0m\n",
        "\u001b[0;31mIndexError\u001b[0m: invalid index to scalar variable."
       ]
      }
     ],
     "prompt_number": 200
    },
    {
     "cell_type": "code",
     "collapsed": false,
     "input": [
      "AvoEstim('run7',19)"
     ],
     "language": "python",
     "metadata": {},
     "outputs": [
      {
       "output_type": "stream",
       "stream": "stdout",
       "text": [
        "D = 4.82495222572e-13\n",
        "K Estimate = 1.39397964613e-23\n",
        "K Theory = 1.3806488e-23\n",
        "Percent Error = 0.965549394754 %\n",
        "Avogadro's Number Estimate = 5.96462797938e+23\n",
        "Avogadro's Number Theory = 6.0221413e+23\n",
        "Percent Error = 0.955031072154 %\n"
       ]
      }
     ],
     "prompt_number": 127
    },
    {
     "cell_type": "code",
     "collapsed": false,
     "input": [
      "AvoEstim('run10',7)"
     ],
     "language": "python",
     "metadata": {},
     "outputs": [
      {
       "output_type": "stream",
       "stream": "stdout",
       "text": [
        "D = 4.8234375e-13\n",
        "K Estimate = 1.39354202588e-23\n",
        "K Theory = 1.3806488e-23\n",
        "Percent Error = 0.933852684136 %\n",
        "Avogadro's Number Estimate = 5.96650107826e+23\n",
        "Avogadro's Number Theory = 6.0221413e+23\n",
        "Percent Error = 0.923927536177 %\n"
       ]
      }
     ],
     "prompt_number": 192
    },
    {
     "cell_type": "code",
     "collapsed": false,
     "input": [],
     "language": "python",
     "metadata": {},
     "outputs": []
    }
   ],
   "metadata": {}
  }
 ]
}