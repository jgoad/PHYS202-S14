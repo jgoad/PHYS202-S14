{
 "metadata": {
  "name": "",
  "signature": "sha256:c8018b5da4bcfb4c6cc0ee066ed95517b05ecbf1f2ee1dd499de17446f0295de"
 },
 "nbformat": 3,
 "nbformat_minor": 0,
 "worksheets": [
  {
   "cells": [
    {
     "cell_type": "heading",
     "level": 1,
     "metadata": {},
     "source": [
      "Question 1"
     ]
    },
    {
     "cell_type": "markdown",
     "metadata": {},
     "source": [
      "Let\u2019s compute the electric potential from a plane of charge as shown in the figure using Monte Carlo integration."
     ]
    },
    {
     "cell_type": "code",
     "collapsed": false,
     "input": [
      "from Electrostatics import *\n",
      "%pylab inline\n",
      "import numpy as np\n",
      "import matplotlib.pyplot as plt"
     ],
     "language": "python",
     "metadata": {},
     "outputs": [
      {
       "output_type": "stream",
       "stream": "stdout",
       "text": [
        "Populating the interactive namespace from numpy and matplotlib\n"
       ]
      }
     ],
     "prompt_number": 3
    },
    {
     "cell_type": "code",
     "collapsed": false,
     "input": [
      "def sampleMean(N=10000,xmin=-1,xmax=1,ymin = 0, ymax = 2):\n",
      "\n",
      "    #Set up the function\n",
      "    dx = 0.001\n",
      "    dy = 0.001\n",
      "    #Xc = np.arange(-1.,1.,0.001)\n",
      "    #Yc = np.arange(0.,2.,0.001)\n",
      "    sigma = 1e-6 #C/m^2\n",
      "    q = sigma*dx*dy\n",
      "    x = 2\n",
      "    y = 3\n",
      "    #f = pointPotential(x,y,q,Xc,Yc)\n",
      "\n",
      "    \n",
      "    #integration part:\n",
      "    samples_x = xmin + (xmax-xmin)*np.random.random_sample(N);\n",
      "    samples_y = ymin + (ymax-ymin)*np.random.random_sample(N);\n",
      "    \n",
      "    approx = pointPotential(x,y,q,samples_x,samples_y)\n",
      "    I = approx.mean()*(xmax-xmin)*(ymax-ymin)\n",
      "\n",
      "    #uncertainty\n",
      "    Iunc = (xmax-xmin)*np.sqrt( ((approx**2).mean()-(approx.mean())**2)/N )\n",
      "\n",
      "    #error\n",
      "    #Ierr = 100*np.abs(Iexact-I)/Iexact\n",
      "    \n",
      "\n",
      "    #find the maximum value of f within the boundary to set ymax\n",
      "    ymax = approx.max()\n",
      "    ymin = 0.\n",
      "    \n",
      "    #Print our results\n",
      "    #print \"I_exact =\", Iexact\n",
      "    print \"I_samplemean =\", I, \" +/- \",Iunc\n",
      "    #print \"Error on I =\", Ierr, \"%\""
     ],
     "language": "python",
     "metadata": {},
     "outputs": [],
     "prompt_number": 4
    },
    {
     "cell_type": "code",
     "collapsed": false,
     "input": [
      "ans = sampleMean()"
     ],
     "language": "python",
     "metadata": {},
     "outputs": [
      {
       "output_type": "stream",
       "stream": "stdout",
       "text": [
        "I_samplemean = 0.0130956066961  +/-  1.5058337586e-05\n"
       ]
      }
     ],
     "prompt_number": 5
    },
    {
     "cell_type": "raw",
     "metadata": {},
     "source": [
      "(a) Use the sample mean method to compute the potential at point P(2,3) due to the disk of charge for different numbers of samples N=(101,102,103,104,105,106). Report the value and its statistical uncertainty for each sample size. How does the result depend on N?"
     ]
    },
    {
     "cell_type": "code",
     "collapsed": false,
     "input": [
      "sampleMean(101)\n",
      "sampleMean(102)\n",
      "sampleMean(103)\n",
      "sampleMean(104)\n",
      "sampleMean(105)\n",
      "sampleMean(106)"
     ],
     "language": "python",
     "metadata": {},
     "outputs": [
      {
       "output_type": "stream",
       "stream": "stdout",
       "text": [
        "I_samplemean = 0.0135061026513  +/-  0.000430506095925\n",
        "I_samplemean = 0.0133547916737  +/-  0.000157581108979\n",
        "I_samplemean = 0.0127466980035  +/-  0.000133528605841\n",
        "I_samplemean = 0.0127779251091  +/-  0.000140169237798\n",
        "I_samplemean = 0.0132920287828  +/-  0.000171919731431\n",
        "I_samplemean = 0.0136044592922  +/-  0.000167939147929\n"
       ]
      }
     ],
     "prompt_number": 6
    },
    {
     "cell_type": "raw",
     "metadata": {},
     "source": [
      "(b) Now use the same method to compute the electric potential, V, at point P(2,3), from a disk centered on the origin with radius, R=1.2 m, and charge density, \u03c3 = 2 nC/m2 ."
     ]
    },
    {
     "cell_type": "code",
     "collapsed": false,
     "input": [
      "def sampleMeanDisk(N=10000,Rmin=0,Rmax=1.2,Thetamin = 0, Thetamax = 2*np.pi):\n",
      "\n",
      "    #Set up the function\n",
      "    dR = 0.001\n",
      "    dTheta = 0.001\n",
      "    Rc = np.arange(0.,1.2,0.001)\n",
      "    Thetac = np.arange(0.,2*np.pi,0.001)\n",
      "    sigma = 2e-9 #C/m^2\n",
      "    #q = sigma*dx*dy\n",
      "    #x = 2\n",
      "    #y = 3\n",
      "    k = 9e9\n",
      "    f = lambda r: k*sigma/abs(r-1.2)*r\n",
      "\n",
      "    \n",
      "    #integration part:\n",
      "    samples_R = Rmin + (Rmax-Rmin)*np.random.random_sample(N);\n",
      "    samples_Theta = Thetamin + (Thetamax-Thetamin)*np.random.random_sample(N);\n",
      "    \n",
      "    approx = f(samples_R)\n",
      "    I = approx.mean()*(Rmax-Rmin)*(Thetamax-Thetamin)\n",
      "\n",
      "    #uncertainty\n",
      "    Iunc = (Rmax-Rmin)*np.sqrt( ((approx**2).mean()-(approx.mean())**2)/N )\n",
      "\n",
      "    #error\n",
      "    #Ierr = 100*np.abs(Iexact-I)/Iexact\n",
      "    \n",
      "\n",
      "    #find the maximum value of f within the boundary to set ymax\n",
      "    #ymax = approx.max()\n",
      "    #ymin = 0.\n",
      "    \n",
      "    #Print our results\n",
      "    #print \"I_exact =\", Iexact\n",
      "    print \"I_samplemean =\", I, \" +/- \",Iunc\n",
      "    #print \"Error on I =\", Ierr, \"%\""
     ],
     "language": "python",
     "metadata": {},
     "outputs": [],
     "prompt_number": 7
    },
    {
     "cell_type": "code",
     "collapsed": false,
     "input": [
      "sampleMeanDisk(10000) #trying to get rid of unc... Clearly something is wrong."
     ],
     "language": "python",
     "metadata": {},
     "outputs": [
      {
       "output_type": "stream",
       "stream": "stdout",
       "text": [
        "I_samplemean = 2310.40679099  +/-  160.272066121\n"
       ]
      }
     ],
     "prompt_number": 8
    },
    {
     "cell_type": "heading",
     "level": 1,
     "metadata": {},
     "source": [
      "Question 2"
     ]
    },
    {
     "cell_type": "markdown",
     "metadata": {},
     "source": [
      "Use the sample mean method to compute the volume of a sphere with radius 1 using spherical coordinates: ...\n",
      "\n",
      "for N=(101,102,103,104,105,106). Report the value and statistical uncertainty for each sample size. How does the result depend on N?"
     ]
    },
    {
     "cell_type": "code",
     "collapsed": false,
     "input": [
      "def sampleMeanSphere(N=10000,Rmin=0,Rmax=1,Thetamin = 0, Thetamax = 2*np.pi, \n",
      "                   Phimin = 0, Phimax = np.pi):\n",
      "\n",
      "    f = lambda r,theta,phi: r**2*np.sin(theta)\n",
      "\n",
      "    \n",
      "    #integration part:\n",
      "    samples_R = Rmin + (Rmax-Rmin)*np.random.random_sample(N);\n",
      "    samples_Theta = Thetamin + (Thetamax-Thetamin)*np.random.random_sample(N);\n",
      "    samples_Phi = Phimin + (Phimax-Phimin)*np.random.random_sample(N);\n",
      "    \n",
      "    approx = f(samples_R,samples_Theta,samples_Phi)\n",
      "    I = approx.mean()*(Rmax-Rmin)*(Thetamax-Thetamin)*(Phimax-Phimin)\n",
      "\n",
      "    #uncertainty\n",
      "    Iunc = (Rmax-Rmin)*np.sqrt( ((approx**2).mean()-(approx.mean())**2)/N )\n",
      "\n",
      "    #error\n",
      "    #Ierr = 100*np.abs(Iexact-I)/Iexact\n",
      "    \n",
      "\n",
      "    #find the maximum value of f within the boundary to set ymax\n",
      "    #ymax = approx.max()\n",
      "    #ymin = 0.\n",
      "    \n",
      "    #Print our results\n",
      "    #print \"I_exact =\", Iexact\n",
      "    print \"I_samplemean =\", I, \" +/- \",Iunc\n",
      "    #print \"Error on I =\", Ierr, \"%\""
     ],
     "language": "python",
     "metadata": {},
     "outputs": [],
     "prompt_number": 9
    },
    {
     "cell_type": "code",
     "collapsed": false,
     "input": [
      "sampleMeanSphere(10)\n",
      "sampleMeanSphere(100)\n",
      "sampleMeanSphere(1000)\n",
      "sampleMeanSphere(10000)\n",
      "sampleMeanSphere(100000)\n",
      "sampleMeanSphere(1000000)"
     ],
     "language": "python",
     "metadata": {},
     "outputs": [
      {
       "output_type": "stream",
       "stream": "stdout",
       "text": [
        "I_samplemean = -0.430029843174  +/-  0.0794293041468\n",
        "I_samplemean = 0.0771164707995  +/-  0.0306592490014\n",
        "I_samplemean = -0.251569060895  +/-  0.0100057312936\n",
        "I_samplemean = -0.0774382706677  +/-  0.00316135936504\n",
        "I_samplemean = 0.013571828026  +/-  0.000998128270414\n",
        "I_samplemean ="
       ]
      },
      {
       "output_type": "stream",
       "stream": "stdout",
       "text": [
        " -0.00393076888039  +/-  0.000316444343366\n"
       ]
      }
     ],
     "prompt_number": 10
    },
    {
     "cell_type": "markdown",
     "metadata": {},
     "source": [
      "Although obviously wrong, Uncertainty decreases as sample size increases. However, I can tell you with 0 uncertainty the volume should not be negative and approaching zero. "
     ]
    },
    {
     "cell_type": "heading",
     "level": 1,
     "metadata": {},
     "source": [
      "Question 3"
     ]
    },
    {
     "cell_type": "raw",
     "metadata": {},
     "source": [
      "(a) Use the hit or miss Monte Carlo method to estimate the integral of f(x)=41\u2212x2\u2212\u2212\u2212\u2212\u2212\u221a in the interval 0\u2264x\u22641 as a function of N, the number of samples. Let N range from 101 to 106 and use at least 100 different values for N.\n",
      "(np.logspace might be useful here to get evenly spaced values for N.)"
     ]
    },
    {
     "cell_type": "code",
     "collapsed": false,
     "input": [
      "def HitOrMissMC(N):\n",
      "    f = lambda x: 4*sqrt(1-x**2)\n",
      "    xmin = 0\n",
      "    xmax = 1\n",
      "\n",
      "    #find the maximum value of f within the boundary to set ymax\n",
      "    x = np.arange(0.,2.,0.001)\n",
      "    subx = x[logical_and((x > xmin),(x < xmax))]\n",
      "    ymax = f(subx).max()*1.05 #Don't really know why\n",
      "    ymin = 0.\n",
      "\n",
      "    samples_x = xmin + (xmax-xmin)*np.random.random_sample(N);\n",
      "    samples_y = ymin + (ymax-ymin)*np.random.random_sample(N);\n",
      "    newmask = (samples_y < f(samples_x))\n",
      "    I = (xmax-xmin)*(ymax-ymin)*newmask.sum()/newmask.size\n",
      "    print \"Estimated Integral =\", I\n",
      "    \n",
      "    return I\n",
      "\n",
      "for N in np.logspace(1,6,100):\n",
      "    HitOrMissMC(N)"
     ],
     "language": "python",
     "metadata": {},
     "outputs": [
      {
       "output_type": "stream",
       "stream": "stdout",
       "text": [
        "Estimated Integral = 2.09999895\n",
        "Estimated Integral = 3.05454392727\n",
        "Estimated Integral = 2.449998775\n",
        "Estimated Integral = 2.3999988\n",
        "Estimated Integral = 3.63999818\n",
        "Estimated Integral = 2.9647044\n",
        "Estimated Integral = 2.93999853\n",
        "Estimated Integral = 2.29090794545\n",
        "Estimated Integral = 3.35999832\n",
        "Estimated Integral = 3.449998275\n",
        "Estimated Integral = 3.52257888387\n",
        "Estimated Integral = 3.23999838\n",
        "Estimated Integral = 3.0449984775\n",
        "Estimated Integral = 3.63999818\n",
        "Estimated Integral = 2.687998656\n",
        "Estimated Integral = 3.68420868421\n",
        "Estimated Integral = 3.6749981625\n",
        "Estimated Integral = 3.03333181667\n",
        "Estimated Integral = 3.21481320741\n",
        "Estimated Integral = 3.50769055385\n",
        "Estimated Integral = 3.33529245\n",
        "Estimated Integral = 3.27894572895\n",
        "Estimated Integral = 2.93023109302\n",
        "Estimated Integral = 2.98344678414\n",
        "Estimated Integral = 3.26666503333\n",
        "Estimated Integral = 3.32786718852\n",
        "Estimated Integral = 3.09365698976\n",
        "Estimated Integral = 3.25454382727\n",
        "Estimated Integral = 3.30810645405\n",
        "Estimated Integral = 3.23298807423\n",
        "Estimated Integral = 3.33944787156\n",
        "Estimated Integral = 3.02125189537\n",
        "Estimated Integral = 3.25423566102\n",
        "Estimated Integral = 3.15905014461\n",
        "Estimated Integral = 2.9988468691\n",
        "Estimated Integral = 3.07281897641\n",
        "Estimated Integral = 3.13241852511\n",
        "Estimated Integral = 2.98376034844\n",
        "Estimated Integral = 3.21831164386\n",
        "Estimated Integral = 3.149998425\n",
        "Estimated Integral = 3.15300701948\n",
        "Estimated Integral = 3.11071273036\n",
        "Estimated Integral = 3.08084630212\n",
        "Estimated Integral = 3.15282861226\n",
        "Estimated Integral = 3.13740850324\n",
        "Estimated Integral = 3.08328729979\n",
        "Estimated Integral = 3.15199462172\n",
        "Estimated Integral = 3.20152124188\n",
        "Estimated Integral = 3.15632372304\n",
        "Estimated Integral = 3.07361562712\n",
        "Estimated Integral = 3.08451054369\n",
        "Estimated Integral = 3.16450426259\n",
        "Estimated Integral = 3.13137701081\n",
        "Estimated Integral = 3.15574579055\n",
        "Estimated Integral = 3.12953366762\n",
        "Estimated Integral = 3.12932776466\n",
        "Estimated Integral = 3.15155767578\n",
        "Estimated Integral = 3.1155722127\n",
        "Estimated Integral = 3.16791650478\n",
        "Estimated Integral = 3.14262807772\n",
        "Estimated Integral = 3.17604765652\n",
        "Estimated Integral = 3.13369706329\n",
        "Estimated Integral = 3.13028668319\n",
        "Estimated Integral = 3.16623303758\n",
        "Estimated Integral = 3.15473396999\n",
        "Estimated Integral = 3.140527133\n",
        "Estimated Integral = 3.12290040661\n",
        "Estimated Integral = 3.14448832487\n",
        "Estimated Integral = 3.14231220482\n",
        "Estimated Integral = 3.13053743532\n",
        "Estimated Integral = 3.12453201982\n",
        "Estimated Integral = 3.13449434556\n",
        "Estimated Integral = 3.1387190627\n",
        "Estimated Integral = 3.13518536944\n",
        "Estimated Integral = 3.147268757\n",
        "Estimated Integral = 3.14984441344\n",
        "Estimated Integral = 3.13595293395\n",
        "Estimated Integral = 3.1356505387\n",
        "Estimated Integral ="
       ]
      },
      {
       "output_type": "stream",
       "stream": "stdout",
       "text": [
        " 3.13935042057\n",
        "Estimated Integral = 3.14238942164\n",
        "Estimated Integral = 3.14258378256\n",
        "Estimated Integral = 3.14206065927\n",
        "Estimated Integral = 3.14887630668\n",
        "Estimated Integral = 3.13900348941\n",
        "Estimated Integral = 3.13822174164\n",
        "Estimated Integral ="
       ]
      },
      {
       "output_type": "stream",
       "stream": "stdout",
       "text": [
        " 3.14375097519\n",
        "Estimated Integral = 3.13728013357\n",
        "Estimated Integral = 3.1413638328\n",
        "Estimated Integral = 3.14418343806\n",
        "Estimated Integral ="
       ]
      },
      {
       "output_type": "stream",
       "stream": "stdout",
       "text": [
        " 3.14779140754\n",
        "Estimated Integral = 3.13980402307\n",
        "Estimated Integral = 3.13993555289\n",
        "Estimated Integral ="
       ]
      },
      {
       "output_type": "stream",
       "stream": "stdout",
       "text": [
        " 3.14149059062\n",
        "Estimated Integral = 3.13607865667\n",
        "Estimated Integral ="
       ]
      },
      {
       "output_type": "stream",
       "stream": "stdout",
       "text": [
        " 3.14503465658\n",
        "Estimated Integral = 3.14246987515\n",
        "Estimated Integral ="
       ]
      },
      {
       "output_type": "stream",
       "stream": "stdout",
       "text": [
        " 3.14150889021\n",
        "Estimated Integral ="
       ]
      },
      {
       "output_type": "stream",
       "stream": "stdout",
       "text": [
        " 3.13869129686\n",
        "Estimated Integral ="
       ]
      },
      {
       "output_type": "stream",
       "stream": "stdout",
       "text": [
        " 3.14292030696\n",
        "Estimated Integral ="
       ]
      },
      {
       "output_type": "stream",
       "stream": "stdout",
       "text": [
        " 3.14433262783\n"
       ]
      }
     ],
     "prompt_number": 73
    },
    {
     "cell_type": "raw",
     "metadata": {},
     "source": [
      "(b) Calculate the percent error for the N values from part (a) using the exact result \u03c0. Make a log-log plot of the error as a function of N.\n",
      "What is the approximate functional dependence of the error on N for large N, for example N\u2265104?"
     ]
    },
    {
     "cell_type": "code",
     "collapsed": false,
     "input": [
      "def HitOrMissMC(N):\n",
      "    f = lambda x: 4*sqrt(1-x**2)\n",
      "    xmin = 0\n",
      "    xmax = 1\n",
      "\n",
      "    #find the maximum value of f within the boundary to set ymax\n",
      "    x = np.arange(0.,2.,0.001)\n",
      "    subx = x[logical_and((x > xmin),(x < xmax))]\n",
      "    ymax = f(subx).max()*1.05 #Don't really know why\n",
      "    ymin = 0.\n",
      "\n",
      "    samples_x = xmin + (xmax-xmin)*np.random.random_sample(N);\n",
      "    samples_y = ymin + (ymax-ymin)*np.random.random_sample(N);\n",
      "    newmask = (samples_y < f(samples_x))\n",
      "    I = (xmax-xmin)*(ymax-ymin)*newmask.sum()/newmask.size\n",
      "    #print \"Estimated Integral =\", I\n",
      "    \n",
      "    return I\n",
      "\n",
      "I = []\n",
      "N = np.logspace(1,6,100)\n",
      "for n in N:\n",
      "    i = HitOrMissMC(n)\n",
      "    I.append(i)\n",
      "\n",
      "Err = []\n",
      "for i in I:\n",
      "    err = abs(i - np.pi)*100\n",
      "    Err.append(err)\n",
      "\n",
      "plt.semilogx(N,Err)\n",
      "plt.ylabel(\"Percent Error\")\n",
      "plt.xlabel(\"Number of Samples\")\n",
      "plt.show()\n"
     ],
     "language": "python",
     "metadata": {},
     "outputs": [
      {
       "metadata": {},
       "output_type": "display_data",
       "png": "[encoded data removed]",
       "text": [
        "<matplotlib.figure.Figure at 0xc378710>"
       ]
      }
     ],
     "prompt_number": 130
    },
    {
     "cell_type": "markdown",
     "metadata": {},
     "source": [
      "Had to use a semilogx plot to show this, but it looks like exponential decay."
     ]
    },
    {
     "cell_type": "raw",
     "metadata": {},
     "source": [
      "c) Estimate the same integral using the sample mean method and compute the statistical uncertainty and error as a function of the number of samples N for N\u2265104. Use at least 100 different values for N.\n",
      "Make a log-log plot of both the statistical uncertainty and the error as a function of N.\n",
      "How many samples are needed to determine the result to two decimal places? What is the approximate functional dependence of the error on N for large N?"
     ]
    },
    {
     "cell_type": "code",
     "collapsed": false,
     "input": [
      "def sampleMean(N=10000,xmin = 0,xmax = 1):\n",
      "\n",
      "    f = lambda x: 4*sqrt(1-x**2) \n",
      "\n",
      "    \n",
      "    #integration part:\n",
      "    samples_x = xmin + (xmax-xmin)*np.random.random_sample(N);\n",
      "    \n",
      "    approx = f(samples_x)\n",
      "    I = approx.mean()*(xmax-xmin)\n",
      "\n",
      "    #uncertainty\n",
      "    Iunc = (xmax-xmin)*np.sqrt( ((approx**2).mean()-(approx.mean())**2)/N )\n",
      "\n",
      "    #error\n",
      "    #Ierr = 100*np.abs(Iexact-I)/Iexact\n",
      "    \n",
      "\n",
      "    #find the maximum value of f within the boundary to set ymax\n",
      "    #ymax = approx.max()\n",
      "    #ymin = 0.\n",
      "    \n",
      "    #Print our results\n",
      "    #print \"I_exact =\", Iexact\n",
      "    return I, Iunc\n",
      "    #print \"I_samplemean =\", I, \" +/- \",Iunc\n",
      "    #print \"Error on I =\", Ierr, \"%\""
     ],
     "language": "python",
     "metadata": {},
     "outputs": [],
     "prompt_number": 107
    },
    {
     "cell_type": "code",
     "collapsed": false,
     "input": [
      "sampleMean()"
     ],
     "language": "python",
     "metadata": {},
     "outputs": [
      {
       "metadata": {},
       "output_type": "pyout",
       "prompt_number": 108,
       "text": [
        "(3.143440291510692, 0.0089242807309268084)"
       ]
      }
     ],
     "prompt_number": 108
    },
    {
     "cell_type": "code",
     "collapsed": false,
     "input": [
      "I = []\n",
      "Unc = []\n",
      "N1 = np.logspace(4,10,100)\n",
      "\n",
      "for n in N:\n",
      "    i,unc = sampleMean(n)\n",
      "    I.append(i)\n",
      "    Unc.append(unc)\n",
      "\n",
      "Err1 = []\n",
      "\n",
      "for i in I:\n",
      "    err = abs(i - np.pi)\n",
      "    Err1.append(err)\n",
      "\n",
      "plt.loglog(N1,Err1)\n",
      "plt.ylabel(\"Error\")\n",
      "plt.xlabel(\"Number of Samples\")\n",
      "plt.show()"
     ],
     "language": "python",
     "metadata": {},
     "outputs": [
      {
       "metadata": {},
       "output_type": "display_data",
       "png": "[encoded data removed]",
       "text": [
        "<matplotlib.figure.Figure at 0xcaca550>"
       ]
      }
     ],
     "prompt_number": 128
    },
    {
     "cell_type": "markdown",
     "metadata": {},
     "source": [
      "Looks like at N = 10e7 the Error falls below 10e-2. As N increases, Error drops off exponentially."
     ]
    },
    {
     "cell_type": "code",
     "collapsed": false,
     "input": [],
     "language": "python",
     "metadata": {},
     "outputs": []
    },
    {
     "cell_type": "code",
     "collapsed": false,
     "input": [],
     "language": "python",
     "metadata": {},
     "outputs": []
    }
   ],
   "metadata": {}
  }
 ]
}