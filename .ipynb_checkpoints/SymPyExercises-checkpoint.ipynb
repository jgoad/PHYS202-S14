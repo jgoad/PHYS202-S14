{
 "metadata": {
  "name": "",
  "signature": "sha256:a822b57c2dcbefc2123dd043a82ed1c59d505d39a141e0dc1f850e9b135fe606"
 },
 "nbformat": 3,
 "nbformat_minor": 0,
 "worksheets": [
  {
   "cells": [
    {
     "cell_type": "heading",
     "level": 1,
     "metadata": {},
     "source": [
      "SymPy Exercises"
     ]
    },
    {
     "cell_type": "code",
     "collapsed": false,
     "input": [
      "from IPython.html.widgets import interact\n",
      "from IPython.display import display\n",
      "%matplotlib inline\n",
      "import numpy as np\n",
      "import matplotlib.pyplot as plt\n",
      "from sympy import *\n",
      "init_printing(use_latex='mathjax')"
     ],
     "language": "python",
     "metadata": {},
     "outputs": [],
     "prompt_number": 1
    },
    {
     "cell_type": "heading",
     "level": 1,
     "metadata": {},
     "source": [
      "Question 1"
     ]
    },
    {
     "cell_type": "markdown",
     "metadata": {},
     "source": [
      "This question looks at a class of integrals that appears often in physics, the so called Gaussian integrals of the form:\n",
      "\\begin{equation}\n",
      "I_n(a) = \\int_{-\\infty}^{\\infty} z^n e^{-a z^2} dz\n",
      "\\end{equation}\n",
      "(a) Define SymPy symbols for the following variables:\n",
      "\n",
      "z that is real\n",
      "\n",
      "a that is real and positive\n",
      "\n",
      "n that is a positive integer"
     ]
    },
    {
     "cell_type": "code",
     "collapsed": false,
     "input": [
      "z = Symbol('z', real=True)\n",
      "a = Symbol('a', real=True, positive=True)\n",
      "n = Symbol('n', positive=True, integer=True)"
     ],
     "language": "python",
     "metadata": {},
     "outputs": [],
     "prompt_number": 14
    },
    {
     "cell_type": "markdown",
     "metadata": {},
     "source": [
      "(b). Compute the integral I0(a) symbolically by passing the full integrand to the integrate function. Save the result as variable I0 and display it using IPython.display.display."
     ]
    },
    {
     "cell_type": "code",
     "collapsed": false,
     "input": [
      "I0 = integrate(z**0*exp(-a*z**2), (z, -oo, oo))"
     ],
     "language": "python",
     "metadata": {},
     "outputs": [],
     "prompt_number": 65
    },
    {
     "cell_type": "code",
     "collapsed": false,
     "input": [
      "display(I0)"
     ],
     "language": "python",
     "metadata": {},
     "outputs": [
      {
       "latex": [
        "$$\\frac{\\sqrt{\\pi}}{\\sqrt{a}}$$"
       ],
       "metadata": {},
       "output_type": "display_data",
       "text": [
        "  ___\n",
        "\u2572\u2571 \u03c0 \n",
        "\u2500\u2500\u2500\u2500\u2500\n",
        "  ___\n",
        "\u2572\u2571 a "
       ]
      }
     ],
     "prompt_number": 66
    },
    {
     "cell_type": "markdown",
     "metadata": {},
     "source": [
      "(c) Verify that Im(a)=0 if m is odd by computing the integral symbolically for m=[1,3,5,7,9]. Use a loop or other control structure to interate through values of m. Why should you not use the variable n for this part?"
     ]
    },
    {
     "cell_type": "code",
     "collapsed": false,
     "input": [
      "m = [1,3,5,7,9]\n",
      "for num in m:\n",
      "    Im = integrate(z**num*exp(-a*z**2), (z, -oo, oo))\n",
      "    display(Im)"
     ],
     "language": "python",
     "metadata": {},
     "outputs": [
      {
       "latex": [
        "$$0$$"
       ],
       "metadata": {},
       "output_type": "display_data",
       "text": [
        "0"
       ]
      },
      {
       "latex": [
        "$$0$$"
       ],
       "metadata": {},
       "output_type": "display_data",
       "text": [
        "0"
       ]
      },
      {
       "latex": [
        "$$0$$"
       ],
       "metadata": {},
       "output_type": "display_data",
       "text": [
        "0"
       ]
      },
      {
       "latex": [
        "$$0$$"
       ],
       "metadata": {},
       "output_type": "display_data",
       "text": [
        "0"
       ]
      },
      {
       "latex": [
        "$$0$$"
       ],
       "metadata": {},
       "output_type": "display_data",
       "text": [
        "0"
       ]
      }
     ],
     "prompt_number": 67
    },
    {
     "cell_type": "markdown",
     "metadata": {},
     "source": [
      "I suppose I shouldn't use n for this part because it is already defined as a symbol."
     ]
    },
    {
     "cell_type": "markdown",
     "metadata": {},
     "source": [
      "(d) Define a symbolic expression, saved under the variable In, for the unevaluated integral In(a) using SymPy's Integral class. Use symbolic manipulations to verify the following identity:\n",
      "\\begin{equation}\n",
      "I_2(a) = - \\frac{\\partial I_0}{\\partial a}\n",
      "\\end{equation}\n",
      "It may be helpful to use Eq(lhs,rhs).doit() to verify mathematical equality."
     ]
    },
    {
     "cell_type": "code",
     "collapsed": false,
     "input": [
      "In = Integral(z**n*exp(-a*z**2), (z, -oo, oo))\n",
      "dInda = -diff(In,a)"
     ],
     "language": "python",
     "metadata": {},
     "outputs": [],
     "prompt_number": 68
    },
    {
     "cell_type": "code",
     "collapsed": false,
     "input": [
      "eq = Eq(In.subs(n, 2), dInda.subs(n,0)).doit()"
     ],
     "language": "python",
     "metadata": {},
     "outputs": [],
     "prompt_number": 70
    },
    {
     "cell_type": "code",
     "collapsed": false,
     "input": [
      "eq"
     ],
     "language": "python",
     "metadata": {},
     "outputs": [
      {
       "metadata": {},
       "output_type": "pyout",
       "prompt_number": 71,
       "text": [
        "True"
       ]
      }
     ],
     "prompt_number": 71
    },
    {
     "cell_type": "heading",
     "level": 1,
     "metadata": {},
     "source": [
      "Question 2"
     ]
    },
    {
     "cell_type": "markdown",
     "metadata": {},
     "source": [
      "(a) Define and display the following matrix symbolically, where a is a positive real number:"
     ]
    },
    {
     "cell_type": "code",
     "collapsed": false,
     "input": [
      "H = Matrix([[-a+1,0,0], [0,1,a],[0,a,2]])\n",
      "display(H)"
     ],
     "language": "python",
     "metadata": {},
     "outputs": [
      {
       "latex": [
        "$$\\left[\\begin{matrix}- a + 1 & 0 & 0\\\\0 & 1 & a\\\\0 & a & 2\\end{matrix}\\right]$$"
       ],
       "metadata": {},
       "output_type": "display_data",
       "text": [
        "\u23a1-a + 1  0  0\u23a4\n",
        "\u23a2            \u23a5\n",
        "\u23a2  0     1  a\u23a5\n",
        "\u23a2            \u23a5\n",
        "\u23a3  0     a  2\u23a6"
       ]
      }
     ],
     "prompt_number": 77
    },
    {
     "cell_type": "markdown",
     "metadata": {},
     "source": [
      "(b) Find the eigenvalues of H and store them in a list."
     ]
    },
    {
     "cell_type": "code",
     "collapsed": false,
     "input": [
      "dct = H.eigenvals()"
     ],
     "language": "python",
     "metadata": {},
     "outputs": [
      {
       "latex": [
        "$$\\begin{Bmatrix}- a + 1 : 1, & - \\frac{1}{2} \\sqrt{4 a^{2} + 1} + \\frac{3}{2} : 1, & \\frac{1}{2} \\sqrt{4 a^{2} + 1} + \\frac{3}{2} : 1\\end{Bmatrix}$$"
       ],
       "metadata": {},
       "output_type": "pyout",
       "prompt_number": 89,
       "text": [
        "\u23a7                __________            __________       \u23ab\n",
        "\u23aa               \u2571    2                \u2571    2            \u23aa\n",
        "\u23a8             \u2572\u2571  4\u22c5a  + 1    3     \u2572\u2571  4\u22c5a  + 1    3   \u23ac\n",
        "\u23aa-a + 1: 1, - \u2500\u2500\u2500\u2500\u2500\u2500\u2500\u2500\u2500\u2500\u2500\u2500\u2500 + \u2500: 1, \u2500\u2500\u2500\u2500\u2500\u2500\u2500\u2500\u2500\u2500\u2500\u2500\u2500 + \u2500: 1\u23aa\n",
        "\u23a9                   2         2           2         2   \u23ad"
       ]
      }
     ],
     "prompt_number": 89
    },
    {
     "cell_type": "code",
     "collapsed": false,
     "input": [
      "exprs = []\n",
      "for key, value in dct.iteritems():\n",
      "    exprs.append(key)"
     ],
     "language": "python",
     "metadata": {},
     "outputs": [],
     "prompt_number": 204
    },
    {
     "cell_type": "code",
     "collapsed": false,
     "input": [
      "exprs"
     ],
     "language": "python",
     "metadata": {},
     "outputs": [
      {
       "latex": [
        "$$\\begin{bmatrix}- a + 1, & - \\frac{1}{2} \\sqrt{4 a^{2} + 1} + \\frac{3}{2}, & \\frac{1}{2} \\sqrt{4 a^{2} + 1} + \\frac{3}{2}\\end{bmatrix}$$"
       ],
       "metadata": {},
       "output_type": "pyout",
       "prompt_number": 205,
       "text": [
        "\u23a1             __________         __________    \u23a4\n",
        "\u23a2            \u2571    2             \u2571    2         \u23a5\n",
        "\u23a2          \u2572\u2571  4\u22c5a  + 1    3  \u2572\u2571  4\u22c5a  + 1    3\u23a5\n",
        "\u23a2-a + 1, - \u2500\u2500\u2500\u2500\u2500\u2500\u2500\u2500\u2500\u2500\u2500\u2500\u2500 + \u2500, \u2500\u2500\u2500\u2500\u2500\u2500\u2500\u2500\u2500\u2500\u2500\u2500\u2500 + \u2500\u23a5\n",
        "\u23a3                2         2        2         2\u23a6"
       ]
      }
     ],
     "prompt_number": 205
    },
    {
     "cell_type": "markdown",
     "metadata": {},
     "source": [
      "(c) Write a Python function with the signature shown below. This function should return two NumPy arrays, which, when passed to the matplotlib.pyplot.plot function will plot the expression as a function of the symbol over some range."
     ]
    },
    {
     "cell_type": "code",
     "collapsed": false,
     "input": [
      "def expr_to_data(expr, (x,xmin,xmax) , n=100):\n",
      "    \"\"\"Evaluate an expression numerically over a range.\"\"\"\n",
      "    vals = np.linspace(xmin,xmax,n)\n",
      "    xdata = np.zeros(n)\n",
      "    ydata = np.zeros(n)\n",
      "    i = 0\n",
      "    f = lambdify([x], expr, modules='numpy')\n",
      "    for val in vals:\n",
      "        xdata[i] = val\n",
      "        ydata[i] = f(val) \n",
      "        i +=1\n",
      "    return xdata, ydata"
     ],
     "language": "python",
     "metadata": {},
     "outputs": [
      {
       "metadata": {},
       "output_type": "display_data",
       "png": "[encoded data removed]",
       "text": [
        "<matplotlib.figure.Figure at 0xe0bc518>"
       ]
      }
     ],
     "prompt_number": 213
    },
    {
     "cell_type": "markdown",
     "metadata": {},
     "source": [
      "(d) Use your expr_to_data function to generate data that can be used to plot the above eigenvalues as functions of the parameter a over the range [0,1]. The plots of all three eigenvalues should appear on the same plot."
     ]
    },
    {
     "cell_type": "code",
     "collapsed": false,
     "input": [
      "for expr in exprs:\n",
      "    x,y = expr_to_data(expr, (a,0,1) )\n",
      "    plt.plot(x,y,label = str(expr))\n",
      "plt.xlabel('$a$', fontsize = 20)\n",
      "plt.ylabel('$Eigen Value (a)$', fontsize = 20)\n",
      "plt.legend(loc = 'best')\n",
      "plt.show()"
     ],
     "language": "python",
     "metadata": {},
     "outputs": [
      {
       "metadata": {},
       "output_type": "display_data",
       "png": "[encoded data removed]",
       "text": [
        "<matplotlib.figure.Figure at 0xdd147b8>"
       ]
      }
     ],
     "prompt_number": 228
    },
    {
     "cell_type": "code",
     "collapsed": false,
     "input": [],
     "language": "python",
     "metadata": {},
     "outputs": []
    }
   ],
   "metadata": {}
  }
 ]
}