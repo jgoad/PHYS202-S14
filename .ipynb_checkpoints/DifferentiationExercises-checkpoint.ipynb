{
 "metadata": {
  "name": "",
  "signature": "sha256:bb135f1eba44154ff208296cad579842e46fa16aaa662eab75c48a20bff6a6ff"
 },
 "nbformat": 3,
 "nbformat_minor": 0,
 "worksheets": []
}