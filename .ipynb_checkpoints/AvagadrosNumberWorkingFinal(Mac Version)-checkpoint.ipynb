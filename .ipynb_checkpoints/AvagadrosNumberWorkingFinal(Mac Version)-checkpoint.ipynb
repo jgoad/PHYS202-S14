{
 "metadata": {
  "name": "",
  "signature": "sha256:178e229a0df549c7d3bd3b48e601865b73ed6437ab91f29dede01fd8cf00b6df"
 },
 "nbformat": 3,
 "nbformat_minor": 0,
 "worksheets": [
  {
   "cells": [
    {
     "cell_type": "code",
     "collapsed": false,
     "input": [
      "%pylab inline\n",
      "import numpy as np\n",
      "import matplotlib.pyplot as plt\n",
      "from PIL import Image\n",
      "#import requests\n",
      "from StringIO import StringIO\n",
      "import os"
     ],
     "language": "python",
     "metadata": {},
     "outputs": [
      {
       "output_type": "stream",
       "stream": "stdout",
       "text": [
        "Populating the interactive namespace from numpy and matplotlib\n"
       ]
      }
     ],
     "prompt_number": 1
    },
    {
     "cell_type": "code",
     "collapsed": false,
     "input": [
      "def fetchimg(name,run):\n",
      "    \"Constructs the path of the image to analyze\"\n",
      "    \n",
      "    pic = Image.open(os.getcwd() + '//'+run+'//images//' + name)\n",
      "    return pic"
     ],
     "language": "python",
     "metadata": {},
     "outputs": [],
     "prompt_number": 92
    },
    {
     "cell_type": "code",
     "collapsed": false,
     "input": [
      "def conv(run):\n",
      "    \"converted all the greyscale images that were in mode = L to mode = RGB\"\n",
      "    \n",
      "    import os\n",
      "    from os import listdir\n",
      "    imgnames = os.listdir(run+\"//images\")\n",
      "    for imgs in imgnames:\n",
      "        name = imgs\n",
      "        pic = Image.open(os.getcwd() + '//'+run+'//images//' + name)\n",
      "        rgbimg = Image.new(\"RGBA\", pic.size)\n",
      "        rgbimg.paste(pic)\n",
      "        rgbimg.save(os.getcwd() + '//'+run+'//images//' + name)"
     ],
     "language": "python",
     "metadata": {},
     "outputs": [],
     "prompt_number": 93
    },
    {
     "cell_type": "code",
     "collapsed": false,
     "input": [
      "def count2(picture,fillfunc):\n",
      "    \"counts the blobs and appends them to a list\"\n",
      "    \n",
      "    BLACK = (0,0,0)\n",
      "    xsize, ysize = picture.size\n",
      "    #print picture\n",
      "    temp = picture.load()\n",
      "    result = 0\n",
      "    \n",
      "    particlelist = []\n",
      "    for x in range(xsize):\n",
      "        for y in range(ysize):\n",
      "            if temp[x,y] > BLACK:\n",
      "                result += 1\n",
      "                x,y,max_val,mass = fillfunc(temp,xsize,ysize,x,y)\n",
      "                particlelist.append((x,y,max_val,mass))\n",
      "    return result,particlelist"
     ],
     "language": "python",
     "metadata": {},
     "outputs": [],
     "prompt_number": 94
    },
    {
     "cell_type": "code",
     "collapsed": false,
     "input": [
      "def fill2(picture, xsize, ysize, xstart, ystart):\n",
      "    \n",
      "    BLACK = (0,0,0)\n",
      "    mass = 0\n",
      "    maxx,maxy,maxval = 0,0,0\n",
      "    queue = [(xstart,ystart)]\n",
      "    while queue:\n",
      "        x,y,queue = queue[0][0], queue[0][1], queue[1:]\n",
      "        r,g,b = picture[x,y]\n",
      "        if (r+g+b > maxval):\n",
      "            maxx,maxy,maxval,mass = x,y,r+g+b,mass+1 #increments the mass column for ever pixel it finds.\n",
      "        if (r,g,b) > BLACK:\n",
      "            picture[x,y] = BLACK\n",
      "            if x > 0:\n",
      "                queue.append((x-1,y))\n",
      "            if x < (xsize-1):\n",
      "                queue.append((x+1,y))\n",
      "            if y > 0:\n",
      "                queue.append((x, y-1))\n",
      "            if y < (ysize-1):\n",
      "                queue.append((x, y+1))\n",
      "    return maxx,maxy,maxval, mass"
     ],
     "language": "python",
     "metadata": {},
     "outputs": [],
     "prompt_number": 95
    },
    {
     "cell_type": "code",
     "collapsed": false,
     "input": [
      "def imagecut(picture, threshold): #previously monochrome\n",
      "    \"Takes the image and monochromes it following a specific threshold\"\n",
      "    \n",
      "    black = (0, 0, 0)\n",
      "    white = (255, 255, 255)\n",
      "    xsize, ysize = picture.size\n",
      "    temp = picture.load()\n",
      "    for x in range(xsize):\n",
      "        for y in range(ysize):\n",
      "            \n",
      "            r,g,b = temp[x,y]\n",
      "            if r+g+b < threshold: \n",
      "                temp[x,y] = black\n",
      "            else:\n",
      "                temp[x,y] = white"
     ],
     "language": "python",
     "metadata": {},
     "outputs": [],
     "prompt_number": 96
    },
    {
     "cell_type": "code",
     "collapsed": false,
     "input": [
      "def resetimg2(imgname,threshold,run):\n",
      "    \n",
      "    picture = fetchimg(imgname,run)\n",
      "    imagecut(picture,threshold)\n",
      "    return picture"
     ],
     "language": "python",
     "metadata": {},
     "outputs": [],
     "prompt_number": 97
    },
    {
     "cell_type": "code",
     "collapsed": false,
     "input": [
      "def analyzepic(imgname,outname,run,threshold):\n",
      "    \" Just passes the imagename, the name of the .txt file it will be \"\n",
      "    \"  saved under, the file name, and the monochroming threshold.    \"\n",
      "    \n",
      "    fillfunc = 'fill2'\n",
      "    picture = resetimg2(imgname,threshold,run)\n",
      "    result = count2(picture,fill2)\n",
      "    #print proctime, result[0]\n",
      "    stars = np.array(result[1])\n",
      "    myheader = \"\\n Image file: %s\\n Applied threshold: %d\\n Algorithm used: %s \\\n",
      "                \\n Particle count: %d\\n Location (x,y), max luminance, and mass:\\n\" \\\n",
      "                %(imgname,threshold,fillfunc,result[0])\n",
      "    np.savetxt(outname,stars,fmt=('%3i\\t'*4),header=myheader)"
     ],
     "language": "python",
     "metadata": {},
     "outputs": [],
     "prompt_number": 98
    },
    {
     "cell_type": "code",
     "collapsed": false,
     "input": [
      "def datagen(run,threshold):\n",
      "    \" Takes in the folder and the threshold and runs 'analyzepic' on each\"\n",
      "    \" image in the folder.                                               \"\n",
      "    \n",
      "    import os\n",
      "    from os import listdir\n",
      "    imgnames = os.listdir(run+\"//images\")\n",
      "    for imgs in imgnames:\n",
      "        filename = run+'//data//'+imgs.replace('.jpg','')+'.txt'\n",
      "        analyzepic(imgs,filename,run,threshold)"
     ],
     "language": "python",
     "metadata": {},
     "outputs": [],
     "prompt_number": 99
    },
    {
     "cell_type": "code",
     "collapsed": false,
     "input": [
      "def AvoEstim(run,p=17,dt=0.5):\n",
      "    \"'run' is the file name of the folder containing the images you \"\n",
      "    \" want to analyze. 'p' is the displacement limit, default 17. 'dt' \"\n",
      "    \" is the time between frames of the images. Default is 0.5s. \"\n",
      "    \n",
      "    from os import listdir\n",
      "    datanames = os.listdir(run+'//data')\n",
      "    i=0\n",
      "    n=0\n",
      "    disp = []\n",
      "    particles = 0\n",
      "    for name in datanames:\n",
      "        if datanames.index(name)<len(datanames)-1:\n",
      "            k = datanames.index(name) + 1\n",
      "            data1 = np.genfromtxt(run+'//data//'+name)\n",
      "            data2 = np.genfromtxt(run+'//data//'+datanames[k])\n",
      "            particles += len(data1)\n",
      "            a = len(data1)\n",
      "            b = len(data2)\n",
      "            if a >= b :\n",
      "                size = b-1\n",
      "            elif b > a :\n",
      "                size = a-1\n",
      "            while n <= size and i <= size:\n",
      "                dx = abs(data1[n][0]-data2[i][0])\n",
      "                dy = abs(data1[n][1]-data2[i][1])\n",
      "                if dx < p and dy < p:\n",
      "                    disp.append((dx*0.175e-6)**2 + (dy*0.175e-6)**2)\n",
      "                    n +=1\n",
      "                    i = 0\n",
      "                else:\n",
      "                    i +=1\n",
      "            n = 0\n",
      "            i = 0\n",
      "        else:\n",
      "            D1 = dt/0.5*sum(disp)/(2*len(disp)) # Self-diffusion constant with correction (dt)\n",
      "            k1 = 6*np.pi*9.135e-4*0.5e-6*D1/298 # solving for Boltzmann's Const\n",
      "            k = 1.3806488e-23\n",
      "            err1 = abs(k-k1)/k\n",
      "            R = 8.31457\n",
      "            N = 6.0221413e+23\n",
      "            N1=R/k1\n",
      "            err2 = abs(N-N1)/N\n",
      "            print \"D =\", D1\n",
      "            print \"K Estimate =\", '%.5g'%k1\n",
      "            print \"K Theory =\", '%.5g'%k\n",
      "            print \"Percent Error =\", err1*100,\"%\"\n",
      "            print \"Avogadro's Number Estimate =\", '%.5g'%N1\n",
      "            print \"Avogadro's Number Theory =\", '%.5g'%N\n",
      "            print \"Percent Error =\", err2*100, \"%\"\n",
      "        "
     ],
     "language": "python",
     "metadata": {},
     "outputs": [],
     "prompt_number": 134
    },
    {
     "cell_type": "code",
     "collapsed": false,
     "input": [
      "def analyzerun(run,threshold=500):\n",
      "    \" Runs the two primary functions, one after the other, giving \"\n",
      "    \" preliminary outputs.                                        \"\n",
      "    datagen(run,threshold)\n",
      "    AvoEstim(run)"
     ],
     "language": "python",
     "metadata": {},
     "outputs": [],
     "prompt_number": 102
    },
    {
     "cell_type": "code",
     "collapsed": false,
     "input": [
      "#analyzerun('run0')"
     ],
     "language": "python",
     "metadata": {},
     "outputs": [],
     "prompt_number": 13
    },
    {
     "cell_type": "code",
     "collapsed": false,
     "input": [
      "#analyzerun('run1')"
     ],
     "language": "python",
     "metadata": {},
     "outputs": [],
     "prompt_number": 14
    },
    {
     "cell_type": "code",
     "collapsed": false,
     "input": [
      "#analyzerun('run3')"
     ],
     "language": "python",
     "metadata": {},
     "outputs": [],
     "prompt_number": 15
    },
    {
     "cell_type": "code",
     "collapsed": false,
     "input": [
      "#analyzerun('run4')"
     ],
     "language": "python",
     "metadata": {},
     "outputs": [],
     "prompt_number": 16
    },
    {
     "cell_type": "code",
     "collapsed": false,
     "input": [
      "#analyzerun('run5')"
     ],
     "language": "python",
     "metadata": {},
     "outputs": [],
     "prompt_number": 17
    },
    {
     "cell_type": "code",
     "collapsed": false,
     "input": [
      "#analyzerun('run6')"
     ],
     "language": "python",
     "metadata": {},
     "outputs": [],
     "prompt_number": 18
    },
    {
     "cell_type": "code",
     "collapsed": false,
     "input": [
      "#analyzerun('run7')"
     ],
     "language": "python",
     "metadata": {},
     "outputs": [],
     "prompt_number": 19
    },
    {
     "cell_type": "code",
     "collapsed": false,
     "input": [
      "#analyzerun('run8')"
     ],
     "language": "python",
     "metadata": {},
     "outputs": [],
     "prompt_number": 20
    },
    {
     "cell_type": "code",
     "collapsed": false,
     "input": [
      "#analyzerun('run9')"
     ],
     "language": "python",
     "metadata": {},
     "outputs": [],
     "prompt_number": 21
    },
    {
     "cell_type": "code",
     "collapsed": false,
     "input": [
      "#analyzerun('run10',650)"
     ],
     "language": "python",
     "metadata": {},
     "outputs": [],
     "prompt_number": 105
    },
    {
     "cell_type": "code",
     "collapsed": false,
     "input": [
      "#analyzerun('run11',575)"
     ],
     "language": "python",
     "metadata": {},
     "outputs": [],
     "prompt_number": 23
    },
    {
     "cell_type": "code",
     "collapsed": false,
     "input": [
      "#analyzerun('run12',575)"
     ],
     "language": "python",
     "metadata": {},
     "outputs": [],
     "prompt_number": 24
    },
    {
     "cell_type": "code",
     "collapsed": false,
     "input": [
      "AvoEstim('run0',16)"
     ],
     "language": "python",
     "metadata": {},
     "outputs": [
      {
       "output_type": "stream",
       "stream": "stdout",
       "text": [
        "D = 4.8232165404e-13\n",
        "K Estimate = 1.3935e-23\n",
        "K Theory = 1.3806e-23\n",
        "Percent Error = 0.929228947785 %\n",
        "Avogadro's Number Estimate = 5.9668e+23\n",
        "Avogadro's Number Theory = 6.0221e+23\n",
        "Percent Error = 0.919388696016 %\n"
       ]
      }
     ],
     "prompt_number": 135
    },
    {
     "cell_type": "code",
     "collapsed": false,
     "input": [
      "AvoEstim('run1',16)"
     ],
     "language": "python",
     "metadata": {},
     "outputs": [
      {
       "output_type": "stream",
       "stream": "stdout",
       "text": [
        "D = 4.88692170819e-13\n",
        "K Estimate = 1.4119e-23\n",
        "K Theory = 1.3806e-23\n",
        "Percent Error = 2.26230479256 %\n",
        "Avogadro's Number Estimate = 5.889e+23\n",
        "Avogadro's Number Theory = 6.0221e+23\n",
        "Percent Error = 2.21098846861 %\n"
       ]
      }
     ],
     "prompt_number": 136
    },
    {
     "cell_type": "code",
     "collapsed": false,
     "input": [
      "AvoEstim('run3',15)"
     ],
     "language": "python",
     "metadata": {},
     "outputs": [
      {
       "output_type": "stream",
       "stream": "stdout",
       "text": [
        "D = 4.64013752826e-13\n",
        "K Estimate = 1.3406e-23\n",
        "K Theory = 1.3806e-23\n",
        "Percent Error = 2.90182930504 %\n",
        "Avogadro's Number Estimate = 6.2022e+23\n",
        "Avogadro's Number Theory = 6.0221e+23\n",
        "Percent Error = 2.98988777042 %\n"
       ]
      }
     ],
     "prompt_number": 137
    },
    {
     "cell_type": "code",
     "collapsed": false,
     "input": [
      "AvoEstim('run4',14)"
     ],
     "language": "python",
     "metadata": {},
     "outputs": [
      {
       "output_type": "stream",
       "stream": "stdout",
       "text": [
        "D = 4.77132527064e-13\n",
        "K Estimate = 1.3785e-23\n",
        "K Theory = 1.3806e-23\n",
        "Percent Error = 0.156632697227 %\n",
        "Avogadro's Number Estimate = 6.0317e+23\n",
        "Avogadro's Number Theory = 6.0221e+23\n",
        "Percent Error = 0.158177480744 %\n"
       ]
      }
     ],
     "prompt_number": 138
    },
    {
     "cell_type": "code",
     "collapsed": false,
     "input": [
      "AvoEstim('run5',17)"
     ],
     "language": "python",
     "metadata": {},
     "outputs": [
      {
       "output_type": "stream",
       "stream": "stdout",
       "text": [
        "D = 4.75607136397e-13\n",
        "K Estimate = 1.3741e-23\n",
        "K Theory = 1.3806e-23\n",
        "Percent Error = 0.475831519387 %\n",
        "Avogadro's Number Estimate = 6.051e+23\n",
        "Avogadro's Number Theory = 6.0221e+23\n",
        "Percent Error = 0.479409727841 %\n"
       ]
      }
     ],
     "prompt_number": 139
    },
    {
     "cell_type": "code",
     "collapsed": false,
     "input": [
      "AvoEstim('run6',19)"
     ],
     "language": "python",
     "metadata": {},
     "outputs": [
      {
       "output_type": "stream",
       "stream": "stdout",
       "text": [
        "D = 4.67046174464e-13\n",
        "K Estimate = 1.3493e-23\n",
        "K Theory = 1.3806e-23\n",
        "Percent Error = 2.26727355743 %\n",
        "Avogadro's Number Estimate = 6.1619e+23\n",
        "Avogadro's Number Theory = 6.0221e+23\n",
        "Percent Error = 2.32119850317 %\n"
       ]
      }
     ],
     "prompt_number": 140
    },
    {
     "cell_type": "code",
     "collapsed": false,
     "input": [
      "AvoEstim('run7',18)"
     ],
     "language": "python",
     "metadata": {},
     "outputs": [
      {
       "output_type": "stream",
       "stream": "stdout",
       "text": [
        "D = 4.74292426601e-13\n",
        "K Estimate = 1.3703e-23\n",
        "K Theory = 1.3806e-23\n",
        "Percent Error = 0.75094387397 %\n",
        "Avogadro's Number Estimate = 6.0678e+23\n",
        "Avogadro's Number Theory = 6.0221e+23\n",
        "Percent Error = 0.75793254787 %\n"
       ]
      }
     ],
     "prompt_number": 141
    },
    {
     "cell_type": "code",
     "collapsed": false,
     "input": [
      "AvoEstim('run8',18)"
     ],
     "language": "python",
     "metadata": {},
     "outputs": [
      {
       "output_type": "stream",
       "stream": "stdout",
       "text": [
        "D = 4.77290479582e-13\n",
        "K Estimate = 1.3789e-23\n",
        "K Theory = 1.3806e-23\n",
        "Percent Error = 0.123580011797 %\n",
        "Avogadro's Number Estimate = 6.0297e+23\n",
        "Avogadro's Number Theory = 6.0221e+23\n",
        "Percent Error = 0.125031551666 %\n"
       ]
      }
     ],
     "prompt_number": 142
    },
    {
     "cell_type": "code",
     "collapsed": false,
     "input": [
      "AvoEstim('run9',17)"
     ],
     "language": "python",
     "metadata": {},
     "outputs": [
      {
       "output_type": "stream",
       "stream": "stdout",
       "text": [
        "D = 4.86944405299e-13\n",
        "K Estimate = 1.4068e-23\n",
        "K Theory = 1.3806e-23\n",
        "Percent Error = 1.89657245437 %\n",
        "Avogadro's Number Estimate = 5.9101e+23\n",
        "Avogadro's Number Theory = 6.0221e+23\n",
        "Percent Error = 1.85999919611 %\n"
       ]
      }
     ],
     "prompt_number": 143
    },
    {
     "cell_type": "raw",
     "metadata": {},
     "source": [
      "By varrying the P parameter I am able to achieve mostly sub 1% error."
     ]
    },
    {
     "cell_type": "code",
     "collapsed": false,
     "input": [
      "AvoEstim('run10',14,0.25) #only 4 images in this run."
     ],
     "language": "python",
     "metadata": {},
     "outputs": [
      {
       "output_type": "stream",
       "stream": "stdout",
       "text": [
        "D = 5.39765625e-13\n",
        "K Estimate = 1.5594e-23\n",
        "K Theory = 1.3806e-23\n",
        "Percent Error = 12.9497875275 %\n",
        "Avogadro's Number Estimate = 5.3318e+23\n",
        "Avogadro's Number Theory = 6.0221e+23\n",
        "Percent Error = 11.4639352451 %\n"
       ]
      }
     ],
     "prompt_number": 144
    },
    {
     "cell_type": "code",
     "collapsed": false,
     "input": [
      "AvoEstim('run11',14,0.25)"
     ],
     "language": "python",
     "metadata": {},
     "outputs": [
      {
       "output_type": "stream",
       "stream": "stdout",
       "text": [
        "D = 4.85117753623e-13\n",
        "K Estimate = 1.4016e-23\n",
        "K Theory = 1.3806e-23\n",
        "Percent Error = 1.51433262826 %\n",
        "Avogadro's Number Estimate = 5.9324e+23\n",
        "Avogadro's Number Theory = 6.0221e+23\n",
        "Percent Error = 1.49046500452 %\n"
       ]
      }
     ],
     "prompt_number": 145
    },
    {
     "cell_type": "code",
     "collapsed": false,
     "input": [
      "AvoEstim('run12',14,0.25)"
     ],
     "language": "python",
     "metadata": {},
     "outputs": [
      {
       "output_type": "stream",
       "stream": "stdout",
       "text": [
        "D = 4.72306825249e-13\n",
        "K Estimate = 1.3645e-23\n",
        "K Theory = 1.3806e-23\n",
        "Percent Error = 1.16644504802 %\n",
        "Avogadro's Number Estimate = 6.0933e+23\n",
        "Avogadro's Number Theory = 6.0221e+23\n",
        "Percent Error = 1.18152390091 %\n"
       ]
      }
     ],
     "prompt_number": 146
    },
    {
     "cell_type": "markdown",
     "metadata": {},
     "source": [
      "I can't actually show the images on windows, so I'm not sure, but I'm pretty sure i'm monochroming the images to death and then watching single bright pixels, which apparently worked really well!"
     ]
    },
    {
     "cell_type": "code",
     "collapsed": false,
     "input": [],
     "language": "python",
     "metadata": {},
     "outputs": []
    }
   ],
   "metadata": {}
  }
 ]
}