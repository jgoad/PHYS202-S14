{
 "metadata": {
  "name": "",
  "signature": "sha256:2d1028c0b04b8b60a6613cd95dcb71a04db81a153f53ad52c8027c05390a1bb3"
 },
 "nbformat": 3,
 "nbformat_minor": 0,
 "worksheets": [
  {
   "cells": [
    {
     "cell_type": "heading",
     "level": 1,
     "metadata": {},
     "source": [
      "Interpolation Exercises"
     ]
    },
    {
     "cell_type": "code",
     "collapsed": false,
     "input": [
      "%pylab inline\n",
      "import numpy as np\n",
      "import matplotlib.pyplot as plt"
     ],
     "language": "python",
     "metadata": {},
     "outputs": [
      {
       "output_type": "stream",
       "stream": "stdout",
       "text": [
        "Populating the interactive namespace from numpy and matplotlib\n"
       ]
      }
     ],
     "prompt_number": 1
    },
    {
     "cell_type": "code",
     "collapsed": false,
     "input": [
      "from Electrostatics import *\n",
      "x,y = np.meshgrid(np.arange(-5,5.01,0.5),np.arange(-5,5.01,0.5))\n",
      "Vdipole = dipolePotential(x,y,1e-9,2.)\n",
      "plt.contour(x,y,Vdipole,cmap=cm.coolwarm)\n",
      "plt.show()"
     ],
     "language": "python",
     "metadata": {},
     "outputs": [
      {
       "output_type": "stream",
       "stream": "stderr",
       "text": [
        "Electrostatics.py:13: RuntimeWarning: divide by zero encountered in divide\n",
        "  Vxy = k*q/np.sqrt(((x-Xc)**2 + (y-Yc)**2))\n"
       ]
      },
      {
       "metadata": {},
       "output_type": "display_data",
       "png": "[encoded data removed]",
       "text": [
        "<matplotlib.figure.Figure at 0x1063b4910>"
       ]
      }
     ],
     "prompt_number": 2
    },
    {
     "cell_type": "markdown",
     "metadata": {},
     "source": [
      "\n",
      "(a) Use a boolean mask to locate the positions where x=0."
     ]
    },
    {
     "cell_type": "code",
     "collapsed": false,
     "input": [
      "ii = (x == 0)\n",
      "plt.contour(x,y,Vdipole,cmap=cm.coolwarm)\n",
      "plt.plot(Vdipole[ii],y)\n",
      "plt.show()"
     ],
     "language": "python",
     "metadata": {},
     "outputs": [
      {
       "metadata": {},
       "output_type": "display_data",
       "png": "[encoded data removed]",
       "text": [
        "<matplotlib.figure.Figure at 0x1063e9290>"
       ]
      }
     ],
     "prompt_number": 13
    },
    {
     "cell_type": "markdown",
     "metadata": {},
     "source": [
      "(b) Check that Vdipole for these locations is zero. i.e. print the value of Vdipole for these locations using your mask from part (a)."
     ]
    },
    {
     "cell_type": "code",
     "collapsed": false,
     "input": [
      "print Vdipole[ii]"
     ],
     "language": "python",
     "metadata": {},
     "outputs": [
      {
       "output_type": "stream",
       "stream": "stdout",
       "text": [
        "[ 0.  0.  0.  0.  0.  0.  0.  0.  0.  0.  0.  0.  0.  0.  0.  0.  0.  0.\n",
        "  0.  0.  0.]\n"
       ]
      }
     ],
     "prompt_number": 15
    },
    {
     "cell_type": "raw",
     "metadata": {},
     "source": [
      "2. Thermistors are electrical devices that measure temperature. They are made out of a material whose resistance changes very predictably with temperature. In the lab we measure the resistance of the thermistor and then compute the temperature from the engineering data that the manufacturer sends with the devices. The table below is data for a set of thermistors used in PHYS 340. The temperature values are in \u2218C and the resistances in mega-Ohms, M\u03a9.\n",
      "\n",
      "(a) Let's turn this look-up table into a continuous function. Write a reusable function Temp(Resistance) that takes any value of Resistance and returns the interpolated temperature. Be sure to include a docstring in your function.\n",
      "\n",
      "Temp   Res   Temp   Res   Temp   Res   Temp   Res   Temp   Res\n",
      "--------------------------------------------------------------- \n",
      " 10   3.239   16   2.610   22   2.169   28   1.857   34   1.634\n",
      " 11   3.118   17   2.526   23   2.110   29   1.815   35   1.603\n",
      " 12   3.004   18   2.446   24   2.053   30   1.774   36   1.574\n",
      " 13   2.897   19   2.371   25   2.000   31   1.736   37   1.547\n",
      " 14   2.795   20   2.300   26   1.950   32   1.700   38   1.521\n",
      " 15   2.700   21   2.233   27   1.902   33   1.666   39   1.496"
     ]
    },
    {
     "cell_type": "code",
     "collapsed": false,
     "input": [
      "f = loadtxt('tempdata.dat',unpack=True)"
     ],
     "language": "python",
     "metadata": {},
     "outputs": [],
     "prompt_number": 50
    },
    {
     "cell_type": "code",
     "collapsed": false,
     "input": [
      "f"
     ],
     "language": "python",
     "metadata": {},
     "outputs": [
      {
       "metadata": {},
       "output_type": "pyout",
       "prompt_number": 51,
       "text": [
        "array([[ 10.   ,  11.   ,  12.   ,  13.   ,  14.   ,  15.   ],\n",
        "       [  3.239,   3.118,   3.004,   2.897,   2.795,   2.7  ],\n",
        "       [ 16.   ,  17.   ,  18.   ,  19.   ,  20.   ,  21.   ],\n",
        "       [  2.61 ,   2.526,   2.446,   2.371,   2.3  ,   2.233],\n",
        "       [ 22.   ,  23.   ,  24.   ,  25.   ,  26.   ,  27.   ],\n",
        "       [  2.169,   2.11 ,   2.053,   2.   ,   1.95 ,   1.902],\n",
        "       [ 28.   ,  29.   ,  30.   ,  31.   ,  32.   ,  33.   ],\n",
        "       [  1.857,   1.815,   1.774,   1.736,   1.7  ,   1.666],\n",
        "       [ 34.   ,  35.   ,  36.   ,  37.   ,  38.   ,  39.   ],\n",
        "       [  1.634,   1.603,   1.574,   1.547,   1.521,   1.496]])"
       ]
      }
     ],
     "prompt_number": 51
    },
    {
     "cell_type": "code",
     "collapsed": false,
     "input": [
      "f[1]"
     ],
     "language": "python",
     "metadata": {},
     "outputs": [
      {
       "metadata": {},
       "output_type": "pyout",
       "prompt_number": 45,
       "text": [
        "array([ 3.239,  3.118,  3.004,  2.897,  2.795,  2.7  ])"
       ]
      }
     ],
     "prompt_number": 45
    },
    {
     "cell_type": "code",
     "collapsed": false,
     "input": [
      "temp = np.array([ 10.   ,  11.   ,  12.   ,  13.   ,  14.   ,  15. ,\n",
      "        16.   ,  17.   ,  18.   ,  19.   ,  20.   ,  21.  , 22.   ,\n",
      "        23.   ,  24.   ,  25.   ,  26.   ,  27.   ,\n",
      "        28.   ,  29.   ,  30.   ,  31.   ,  32.   ,  33. , \n",
      "        34.   ,  35.   ,  36.   ,  37.   ,  38.   ,  39. ])\n",
      "res = np.array([3.239,   3.118,   3.004,   2.897,   2.795,   2.7,2.61 ,\n",
      "       2.526,   2.446,   2.371,   2.3  ,   2.233,2.169,\n",
      "       2.11 ,   2.053,   2.   ,   1.95 ,   1.902, 1.857,\n",
      "       1.815,   1.774,   1.736,   1.7  ,   1.666, 1.634,\n",
      "       1.603,   1.574,   1.547,   1.521,   1.496])"
     ],
     "language": "python",
     "metadata": {},
     "outputs": [],
     "prompt_number": 68
    },
    {
     "cell_type": "code",
     "collapsed": false,
     "input": [
      "temp = temp[::-1]"
     ],
     "language": "python",
     "metadata": {},
     "outputs": [],
     "prompt_number": 69
    },
    {
     "cell_type": "code",
     "collapsed": false,
     "input": [
      "res = res[::-1]"
     ],
     "language": "python",
     "metadata": {},
     "outputs": [],
     "prompt_number": 71
    },
    {
     "cell_type": "code",
     "collapsed": false,
     "input": [
      "def Temp(Resistance):\n",
      "    from scipy.interpolate import interp1d \n",
      "    #that's a \"one\" as in \"one-dimensional\", not an \"ell\"\n",
      "    \n",
      "    #Create the \"interpolating function\":\n",
      "    tempInterp = interp1d(res, temp)\n",
      "    \n",
      "    #Set the x value where we want to know the function and \n",
      "    #extract it from the interpolating function:\n",
      "    newres = Resistance\n",
      "    return tempInterp(newres)"
     ],
     "language": "python",
     "metadata": {},
     "outputs": [],
     "prompt_number": 72
    },
    {
     "cell_type": "code",
     "collapsed": false,
     "input": [
      "print Temp(1.8)"
     ],
     "language": "python",
     "metadata": {},
     "outputs": [
      {
       "output_type": "stream",
       "stream": "stdout",
       "text": [
        "29.3658536585\n"
       ]
      }
     ],
     "prompt_number": 74
    },
    {
     "cell_type": "code",
     "collapsed": false,
     "input": [
      "print Temp(3.239)"
     ],
     "language": "python",
     "metadata": {},
     "outputs": [
      {
       "output_type": "stream",
       "stream": "stdout",
       "text": [
        "10.0\n"
       ]
      }
     ],
     "prompt_number": 76
    },
    {
     "cell_type": "code",
     "collapsed": false,
     "input": [],
     "language": "python",
     "metadata": {},
     "outputs": []
    }
   ],
   "metadata": {}
  }
 ]
}