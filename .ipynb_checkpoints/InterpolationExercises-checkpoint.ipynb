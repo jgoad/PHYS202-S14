{
 "metadata": {
  "name": "",
  "signature": "sha256:8e36b2db3b252f429dc29c7e48e90c3ff7e85676935045eb3d4f6fc0b147216a"
 },
 "nbformat": 3,
 "nbformat_minor": 0,
 "worksheets": [
  {
   "cells": [
    {
     "cell_type": "heading",
     "level": 1,
     "metadata": {},
     "source": [
      "Interpolation Exercises"
     ]
    },
    {
     "cell_type": "code",
     "collapsed": false,
     "input": [
      "%pylab inline\n",
      "import numpy as np\n",
      "import matplotlib.pyplot as plt"
     ],
     "language": "python",
     "metadata": {},
     "outputs": [
      {
       "output_type": "stream",
       "stream": "stdout",
       "text": [
        "Populating the interactive namespace from numpy and matplotlib\n"
       ]
      },
      {
       "output_type": "stream",
       "stream": "stderr",
       "text": [
        "WARNING: pylab import has clobbered these variables: ['f']\n",
        "`%matplotlib` prevents importing * from pylab and numpy\n"
       ]
      }
     ],
     "prompt_number": 20
    },
    {
     "cell_type": "code",
     "collapsed": false,
     "input": [
      "from Electrostatics import *\n",
      "x,y = np.meshgrid(np.arange(-5,5.01,0.5),np.arange(-5,5.01,0.5))\n",
      "Vdipole = dipolePotential(x,y,1e-9,2.)\n",
      "plt.contour(x,y,Vdipole,cmap=cm.coolwarm)\n",
      "plt.show()"
     ],
     "language": "python",
     "metadata": {},
     "outputs": [
      {
       "metadata": {},
       "output_type": "display_data",
       "png": "[encoded data removed]",
       "text": [
        "<matplotlib.figure.Figure at 0xa864588>"
       ]
      }
     ],
     "prompt_number": 21
    },
    {
     "cell_type": "markdown",
     "metadata": {},
     "source": [
      "\n",
      "(a) Use a boolean mask to locate the positions where x=0."
     ]
    },
    {
     "cell_type": "code",
     "collapsed": false,
     "input": [
      "ii = (x == 0)\n",
      "plt.contour(x,y,Vdipole,cmap=cm.coolwarm)\n",
      "plt.plot(Vdipole[ii],y)\n",
      "plt.show()"
     ],
     "language": "python",
     "metadata": {},
     "outputs": [
      {
       "metadata": {},
       "output_type": "display_data",
       "png": "[encoded data removed]",
       "text": [
        "<matplotlib.figure.Figure at 0xa7d2940>"
       ]
      }
     ],
     "prompt_number": 22
    },
    {
     "cell_type": "markdown",
     "metadata": {},
     "source": [
      "(b) Check that Vdipole for these locations is zero. i.e. print the value of Vdipole for these locations using your mask from part (a)."
     ]
    },
    {
     "cell_type": "code",
     "collapsed": false,
     "input": [
      "print Vdipole[ii]"
     ],
     "language": "python",
     "metadata": {},
     "outputs": [
      {
       "output_type": "stream",
       "stream": "stdout",
       "text": [
        "[ 0.  0.  0.  0.  0.  0.  0.  0.  0.  0.  0.  0.  0.  0.  0.  0.  0.  0.\n",
        "  0.  0.  0.]\n"
       ]
      }
     ],
     "prompt_number": 23
    },
    {
     "cell_type": "raw",
     "metadata": {},
     "source": [
      "2. Thermistors are electrical devices that measure temperature. They are made out of a material whose resistance changes very predictably with temperature. In the lab we measure the resistance of the thermistor and then compute the temperature from the engineering data that the manufacturer sends with the devices. The table below is data for a set of thermistors used in PHYS 340. The temperature values are in \u2218C and the resistances in mega-Ohms, M\u03a9.\n",
      "\n",
      "(a) Let's turn this look-up table into a continuous function. Write a reusable function Temp(Resistance) that takes any value of Resistance and returns the interpolated temperature. Be sure to include a docstring in your function.\n",
      "\n",
      "Temp   Res   Temp   Res   Temp   Res   Temp   Res   Temp   Res\n",
      "--------------------------------------------------------------- \n",
      " 10   3.239   16   2.610   22   2.169   28   1.857   34   1.634\n",
      " 11   3.118   17   2.526   23   2.110   29   1.815   35   1.603\n",
      " 12   3.004   18   2.446   24   2.053   30   1.774   36   1.574\n",
      " 13   2.897   19   2.371   25   2.000   31   1.736   37   1.547\n",
      " 14   2.795   20   2.300   26   1.950   32   1.700   38   1.521\n",
      " 15   2.700   21   2.233   27   1.902   33   1.666   39   1.496"
     ]
    },
    {
     "cell_type": "code",
     "collapsed": false,
     "input": [
      "f = loadtxt('tempdata.dat',unpack=True)"
     ],
     "language": "python",
     "metadata": {},
     "outputs": [],
     "prompt_number": 24
    },
    {
     "cell_type": "code",
     "collapsed": false,
     "input": [
      "f"
     ],
     "language": "python",
     "metadata": {},
     "outputs": [
      {
       "metadata": {},
       "output_type": "pyout",
       "prompt_number": 25,
       "text": [
        "array([[ 10.   ,  11.   ,  12.   ,  13.   ,  14.   ,  15.   ],\n",
        "       [  3.239,   3.118,   3.004,   2.897,   2.795,   2.7  ],\n",
        "       [ 16.   ,  17.   ,  18.   ,  19.   ,  20.   ,  21.   ],\n",
        "       [  2.61 ,   2.526,   2.446,   2.371,   2.3  ,   2.233],\n",
        "       [ 22.   ,  23.   ,  24.   ,  25.   ,  26.   ,  27.   ],\n",
        "       [  2.169,   2.11 ,   2.053,   2.   ,   1.95 ,   1.902],\n",
        "       [ 28.   ,  29.   ,  30.   ,  31.   ,  32.   ,  33.   ],\n",
        "       [  1.857,   1.815,   1.774,   1.736,   1.7  ,   1.666],\n",
        "       [ 34.   ,  35.   ,  36.   ,  37.   ,  38.   ,  39.   ],\n",
        "       [  1.634,   1.603,   1.574,   1.547,   1.521,   1.496]])"
       ]
      }
     ],
     "prompt_number": 25
    },
    {
     "cell_type": "code",
     "collapsed": false,
     "input": [
      "f[1]"
     ],
     "language": "python",
     "metadata": {},
     "outputs": [
      {
       "metadata": {},
       "output_type": "pyout",
       "prompt_number": 7,
       "text": [
        "array([ 3.239,  3.118,  3.004,  2.897,  2.795,  2.7  ])"
       ]
      }
     ],
     "prompt_number": 7
    },
    {
     "cell_type": "code",
     "collapsed": false,
     "input": [
      "temp = np.array([ 10.   ,  11.   ,  12.   ,  13.   ,  14.   ,  15. ,\n",
      "        16.   ,  17.   ,  18.   ,  19.   ,  20.   ,  21.  , 22.   ,\n",
      "        23.   ,  24.   ,  25.   ,  26.   ,  27.   ,\n",
      "        28.   ,  29.   ,  30.   ,  31.   ,  32.   ,  33. , \n",
      "        34.   ,  35.   ,  36.   ,  37.   ,  38.   ,  39. ])\n",
      "res = np.array([3.239,   3.118,   3.004,   2.897,   2.795,   2.7,2.61 ,\n",
      "       2.526,   2.446,   2.371,   2.3  ,   2.233,2.169,\n",
      "       2.11 ,   2.053,   2.   ,   1.95 ,   1.902, 1.857,\n",
      "       1.815,   1.774,   1.736,   1.7  ,   1.666, 1.634,\n",
      "       1.603,   1.574,   1.547,   1.521,   1.496])"
     ],
     "language": "python",
     "metadata": {},
     "outputs": [],
     "prompt_number": 8
    },
    {
     "cell_type": "code",
     "collapsed": false,
     "input": [
      "temp = temp[::-1]"
     ],
     "language": "python",
     "metadata": {},
     "outputs": [],
     "prompt_number": 63
    },
    {
     "cell_type": "code",
     "collapsed": false,
     "input": [
      "res = res[::-1]"
     ],
     "language": "python",
     "metadata": {},
     "outputs": [],
     "prompt_number": 64
    },
    {
     "cell_type": "code",
     "collapsed": false,
     "input": [
      "def Temp(Resistance):\n",
      "    from scipy.interpolate import interp1d \n",
      "    tempInterp = interp1d(res, temp)\n",
      "    newres = Resistance\n",
      "    return tempInterp(newres)"
     ],
     "language": "python",
     "metadata": {},
     "outputs": [],
     "prompt_number": 30
    },
    {
     "cell_type": "code",
     "collapsed": false,
     "input": [
      "print Temp(1.8)"
     ],
     "language": "python",
     "metadata": {},
     "outputs": [
      {
       "output_type": "stream",
       "stream": "stdout",
       "text": [
        "19.6341463415\n"
       ]
      }
     ],
     "prompt_number": 65
    },
    {
     "cell_type": "code",
     "collapsed": false,
     "input": [
      "print Temp(3.239)"
     ],
     "language": "python",
     "metadata": {},
     "outputs": [
      {
       "output_type": "stream",
       "stream": "stdout",
       "text": [
        "39.0\n"
       ]
      }
     ],
     "prompt_number": 66
    },
    {
     "cell_type": "code",
     "collapsed": false,
     "input": [
      "from scipy.interpolate import interp1d\n",
      "resNew = np.arange(3.239,1.496,-.1)\n",
      "tempNew = interp1d(res,temp)(resNew)\n",
      "plt.plot(res,temp,'b.', resNew,tempNew,'r.')\n",
      "plt.ylabel('Temperature (C)', fontsize = 15)\n",
      "plt.xlabel('Resistance (Ohms)',fontsize = 15)\n",
      "plt.show()"
     ],
     "language": "python",
     "metadata": {},
     "outputs": [
      {
       "metadata": {},
       "output_type": "display_data",
       "png": "[encoded data removed]",
       "text": [
        "<matplotlib.figure.Figure at 0xee1c748>"
       ]
      }
     ],
     "prompt_number": 86
    },
    {
     "cell_type": "code",
     "collapsed": false,
     "input": [],
     "language": "python",
     "metadata": {},
     "outputs": [
      {
       "output_type": "stream",
       "stream": "stderr",
       "text": [
        "'plt.plot' is not recognized as an internal or external command,\n",
        "operable program or batch file.\n"
       ]
      }
     ],
     "prompt_number": 81
    },
    {
     "cell_type": "code",
     "collapsed": false,
     "input": [
      "temp"
     ],
     "language": "python",
     "metadata": {},
     "outputs": [
      {
       "metadata": {},
       "output_type": "pyout",
       "prompt_number": 69,
       "text": [
        "array([ 10.,  11.,  12.,  13.,  14.,  15.,  16.,  17.,  18.,  19.,  20.,\n",
        "        21.,  22.,  23.,  24.,  25.,  26.,  27.,  28.,  29.,  30.,  31.,\n",
        "        32.,  33.,  34.,  35.,  36.,  37.,  38.,  39.])"
       ]
      }
     ],
     "prompt_number": 69
    },
    {
     "cell_type": "code",
     "collapsed": false,
     "input": [
      "res"
     ],
     "language": "python",
     "metadata": {},
     "outputs": [
      {
       "metadata": {},
       "output_type": "pyout",
       "prompt_number": 70,
       "text": [
        "array([ 1.496,  1.521,  1.547,  1.574,  1.603,  1.634,  1.666,  1.7  ,\n",
        "        1.736,  1.774,  1.815,  1.857,  1.902,  1.95 ,  2.   ,  2.053,\n",
        "        2.11 ,  2.169,  2.233,  2.3  ,  2.371,  2.446,  2.526,  2.61 ,\n",
        "        2.7  ,  2.795,  2.897,  3.004,  3.118,  3.239])"
       ]
      }
     ],
     "prompt_number": 70
    },
    {
     "cell_type": "code",
     "collapsed": false,
     "input": [
      "resNew"
     ],
     "language": "python",
     "metadata": {},
     "outputs": [
      {
       "metadata": {},
       "output_type": "pyout",
       "prompt_number": 71,
       "text": [
        "array([ 3.239,  3.229,  3.219,  3.209,  3.199,  3.189,  3.179,  3.169,\n",
        "        3.159,  3.149,  3.139,  3.129,  3.119,  3.109,  3.099,  3.089,\n",
        "        3.079,  3.069,  3.059,  3.049,  3.039,  3.029,  3.019,  3.009,\n",
        "        2.999,  2.989,  2.979,  2.969,  2.959,  2.949,  2.939,  2.929,\n",
        "        2.919,  2.909,  2.899,  2.889,  2.879,  2.869,  2.859,  2.849,\n",
        "        2.839,  2.829,  2.819,  2.809,  2.799,  2.789,  2.779,  2.769,\n",
        "        2.759,  2.749,  2.739,  2.729,  2.719,  2.709,  2.699,  2.689,\n",
        "        2.679,  2.669,  2.659,  2.649,  2.639,  2.629,  2.619,  2.609,\n",
        "        2.599,  2.589,  2.579,  2.569,  2.559,  2.549,  2.539,  2.529,\n",
        "        2.519,  2.509,  2.499,  2.489,  2.479,  2.469,  2.459,  2.449,\n",
        "        2.439,  2.429,  2.419,  2.409,  2.399,  2.389,  2.379,  2.369,\n",
        "        2.359,  2.349,  2.339,  2.329,  2.319,  2.309,  2.299,  2.289,\n",
        "        2.279,  2.269,  2.259,  2.249,  2.239,  2.229,  2.219,  2.209,\n",
        "        2.199,  2.189,  2.179,  2.169,  2.159,  2.149,  2.139,  2.129,\n",
        "        2.119,  2.109,  2.099,  2.089,  2.079,  2.069,  2.059,  2.049,\n",
        "        2.039,  2.029,  2.019,  2.009,  1.999,  1.989,  1.979,  1.969,\n",
        "        1.959,  1.949,  1.939,  1.929,  1.919,  1.909,  1.899,  1.889,\n",
        "        1.879,  1.869,  1.859,  1.849,  1.839,  1.829,  1.819,  1.809,\n",
        "        1.799,  1.789,  1.779,  1.769,  1.759,  1.749,  1.739,  1.729,\n",
        "        1.719,  1.709,  1.699,  1.689,  1.679,  1.669,  1.659,  1.649,\n",
        "        1.639,  1.629,  1.619,  1.609,  1.599,  1.589,  1.579,  1.569,\n",
        "        1.559,  1.549,  1.539,  1.529,  1.519,  1.509,  1.499])"
       ]
      }
     ],
     "prompt_number": 71
    },
    {
     "cell_type": "code",
     "collapsed": false,
     "input": [],
     "language": "python",
     "metadata": {},
     "outputs": []
    }
   ],
   "metadata": {}
  }
 ]
}