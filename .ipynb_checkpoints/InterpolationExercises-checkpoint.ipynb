{
 "metadata": {
  "name": "",
  "signature": "sha256:0fb1f8b2130937913e9bccb36430801219106e91bf08f0a60115911c97b99404"
 },
 "nbformat": 3,
 "nbformat_minor": 0,
 "worksheets": [
  {
   "cells": [
    {
     "cell_type": "heading",
     "level": 1,
     "metadata": {},
     "source": [
      "Interpolation Exercises"
     ]
    },
    {
     "cell_type": "code",
     "collapsed": false,
     "input": [
      "%pylab inline\n",
      "import numpy as np\n",
      "import matplotlib.pyplot as plt"
     ],
     "language": "python",
     "metadata": {},
     "outputs": [
      {
       "output_type": "stream",
       "stream": "stdout",
       "text": [
        "Populating the interactive namespace from numpy and matplotlib\n"
       ]
      }
     ],
     "prompt_number": 34
    },
    {
     "cell_type": "code",
     "collapsed": false,
     "input": [
      "from Electrostatics import *\n",
      "x,y = np.meshgrid(np.arange(-5,5.01,0.5),np.arange(-5,5.01,0.5))\n",
      "Vdipole = dipolePotential(x,y,1e-9,2.)\n",
      "plt.contour(x,y,Vdipole,cmap=cm.coolwarm)\n",
      "plt.show()"
     ],
     "language": "python",
     "metadata": {},
     "outputs": [
      {
       "metadata": {},
       "output_type": "display_data",
       "png": "[encoded data removed]",
       "text": [
        "<matplotlib.figure.Figure at 0x10fbb3c8>"
       ]
      }
     ],
     "prompt_number": 35
    },
    {
     "cell_type": "markdown",
     "metadata": {},
     "source": [
      "\n",
      "(a) Use a boolean mask to locate the positions where x=0."
     ]
    },
    {
     "cell_type": "code",
     "collapsed": false,
     "input": [
      "ii = (x == 0)\n",
      "plt.contour(x,y,Vdipole,cmap=cm.coolwarm)\n",
      "plt.plot(Vdipole[ii],y)\n",
      "plt.show()"
     ],
     "language": "python",
     "metadata": {},
     "outputs": [
      {
       "metadata": {},
       "output_type": "display_data",
       "png": "[encoded data removed]",
       "text": [
        "<matplotlib.figure.Figure at 0x10faa908>"
       ]
      }
     ],
     "prompt_number": 36
    },
    {
     "cell_type": "markdown",
     "metadata": {},
     "source": [
      "(b) Check that Vdipole for these locations is zero. i.e. print the value of Vdipole for these locations using your mask from part (a)."
     ]
    },
    {
     "cell_type": "code",
     "collapsed": false,
     "input": [
      "print Vdipole[ii]"
     ],
     "language": "python",
     "metadata": {},
     "outputs": [
      {
       "output_type": "stream",
       "stream": "stdout",
       "text": [
        "[ 0.  0.  0.  0.  0.  0.  0.  0.  0.  0.  0.  0.  0.  0.  0.  0.  0.  0.\n",
        "  0.  0.  0.]\n"
       ]
      }
     ],
     "prompt_number": 37
    },
    {
     "cell_type": "raw",
     "metadata": {},
     "source": [
      "2. Thermistors are electrical devices that measure temperature. They are made out of a material whose resistance changes very predictably with temperature. In the lab we measure the resistance of the thermistor and then compute the temperature from the engineering data that the manufacturer sends with the devices. The table below is data for a set of thermistors used in PHYS 340. The temperature values are in \u2218C and the resistances in mega-Ohms, M\u03a9.\n",
      "\n",
      "(a) Let's turn this look-up table into a continuous function. Write a reusable function Temp(Resistance) that takes any value of Resistance and returns the interpolated temperature. Be sure to include a docstring in your function.\n",
      "\n",
      "Temp   Res   Temp   Res   Temp   Res   Temp   Res   Temp   Res\n",
      "--------------------------------------------------------------- \n",
      " 10   3.239   16   2.610   22   2.169   28   1.857   34   1.634\n",
      " 11   3.118   17   2.526   23   2.110   29   1.815   35   1.603\n",
      " 12   3.004   18   2.446   24   2.053   30   1.774   36   1.574\n",
      " 13   2.897   19   2.371   25   2.000   31   1.736   37   1.547\n",
      " 14   2.795   20   2.300   26   1.950   32   1.700   38   1.521\n",
      " 15   2.700   21   2.233   27   1.902   33   1.666   39   1.496"
     ]
    },
    {
     "cell_type": "code",
     "collapsed": false,
     "input": [
      "f = loadtxt('tempdata.dat',unpack=True)"
     ],
     "language": "python",
     "metadata": {},
     "outputs": [],
     "prompt_number": 38
    },
    {
     "cell_type": "code",
     "collapsed": false,
     "input": [
      "f"
     ],
     "language": "python",
     "metadata": {},
     "outputs": [
      {
       "metadata": {},
       "output_type": "pyout",
       "prompt_number": 39,
       "text": [
        "array([[ 10.   ,  11.   ,  12.   ,  13.   ,  14.   ,  15.   ],\n",
        "       [  3.239,   3.118,   3.004,   2.897,   2.795,   2.7  ],\n",
        "       [ 16.   ,  17.   ,  18.   ,  19.   ,  20.   ,  21.   ],\n",
        "       [  2.61 ,   2.526,   2.446,   2.371,   2.3  ,   2.233],\n",
        "       [ 22.   ,  23.   ,  24.   ,  25.   ,  26.   ,  27.   ],\n",
        "       [  2.169,   2.11 ,   2.053,   2.   ,   1.95 ,   1.902],\n",
        "       [ 28.   ,  29.   ,  30.   ,  31.   ,  32.   ,  33.   ],\n",
        "       [  1.857,   1.815,   1.774,   1.736,   1.7  ,   1.666],\n",
        "       [ 34.   ,  35.   ,  36.   ,  37.   ,  38.   ,  39.   ],\n",
        "       [  1.634,   1.603,   1.574,   1.547,   1.521,   1.496]])"
       ]
      }
     ],
     "prompt_number": 39
    },
    {
     "cell_type": "code",
     "collapsed": false,
     "input": [
      "f[1]"
     ],
     "language": "python",
     "metadata": {},
     "outputs": [
      {
       "metadata": {},
       "output_type": "pyout",
       "prompt_number": 40,
       "text": [
        "array([ 3.239,  3.118,  3.004,  2.897,  2.795,  2.7  ])"
       ]
      }
     ],
     "prompt_number": 40
    },
    {
     "cell_type": "code",
     "collapsed": false,
     "input": [
      "temp = np.array([ 10.   ,  11.   ,  12.   ,  13.   ,  14.   ,  15. ,\n",
      "        16.   ,  17.   ,  18.   ,  19.   ,  20.   ,  21.  , 22.   ,\n",
      "        23.   ,  24.   ,  25.   ,  26.   ,  27.   ,\n",
      "        28.   ,  29.   ,  30.   ,  31.   ,  32.   ,  33. , \n",
      "        34.   ,  35.   ,  36.   ,  37.   ,  38.   ,  39. ])\n",
      "res = np.array([3.239,   3.118,   3.004,   2.897,   2.795,   2.7,2.61 ,\n",
      "       2.526,   2.446,   2.371,   2.3  ,   2.233,2.169,\n",
      "       2.11 ,   2.053,   2.   ,   1.95 ,   1.902, 1.857,\n",
      "       1.815,   1.774,   1.736,   1.7  ,   1.666, 1.634,\n",
      "       1.603,   1.574,   1.547,   1.521,   1.496])"
     ],
     "language": "python",
     "metadata": {},
     "outputs": [],
     "prompt_number": 41
    },
    {
     "cell_type": "code",
     "collapsed": false,
     "input": [
      "temp = temp[::-1]"
     ],
     "language": "python",
     "metadata": {},
     "outputs": [],
     "prompt_number": 42
    },
    {
     "cell_type": "code",
     "collapsed": false,
     "input": [
      "res = res[::-1]"
     ],
     "language": "python",
     "metadata": {},
     "outputs": [],
     "prompt_number": 43
    },
    {
     "cell_type": "code",
     "collapsed": false,
     "input": [
      "def Temp(Resistance):\n",
      "    from scipy.interpolate import interp1d \n",
      "    tempInterp = interp1d(res, temp)\n",
      "    newres = Resistance\n",
      "    return tempInterp(newres)"
     ],
     "language": "python",
     "metadata": {},
     "outputs": [],
     "prompt_number": 44
    },
    {
     "cell_type": "code",
     "collapsed": false,
     "input": [
      "print Temp(1.8)"
     ],
     "language": "python",
     "metadata": {},
     "outputs": [
      {
       "output_type": "stream",
       "stream": "stdout",
       "text": [
        "29.3658536585\n"
       ]
      }
     ],
     "prompt_number": 45
    },
    {
     "cell_type": "code",
     "collapsed": false,
     "input": [
      "print Temp(3.239)"
     ],
     "language": "python",
     "metadata": {},
     "outputs": [
      {
       "output_type": "stream",
       "stream": "stdout",
       "text": [
        "10.0\n"
       ]
      }
     ],
     "prompt_number": 46
    },
    {
     "cell_type": "markdown",
     "metadata": {},
     "source": [
      "(c) Create a new array Resistance that spans the full range covered by the thermistor data and has reasonably fine sampling (number of elements). Plot the interpolated temperatures Temp(Resistance) as a function of Resistance. Include as an annotation on the plot the value of the temperature for a resistance of 1.75 M\u03a9."
     ]
    },
    {
     "cell_type": "code",
     "collapsed": false,
     "input": [
      "from scipy.interpolate import interp1d\n",
      "resNew = np.arange(3.239,1.496,-.1)\n",
      "tempNew = interp1d(res,temp)(resNew)\n",
      "annot = str(Temp(1.75))\n",
      "plt.plot(res,temp,'b.', resNew,tempNew,'r.')\n",
      "plt.annotate('Temp(1.75) = '+annot, xy=(10, 10), fontsize=16)\n",
      "plt.ylabel('Temperature (C)', fontsize = 15)\n",
      "plt.xlabel('Resistance (MOhms)',fontsize = 15)\n",
      "plt.show()"
     ],
     "language": "python",
     "metadata": {},
     "outputs": [
      {
       "metadata": {},
       "output_type": "display_data",
       "png": "[encoded data removed]",
       "text": [
        "<matplotlib.figure.Figure at 0x11e3a518>"
       ]
      }
     ],
     "prompt_number": 93
    },
    {
     "cell_type": "code",
     "collapsed": false,
     "input": [
      "fig = plt.figure()\n",
      "ax = fig.add_subplot(111)\n",
      "\n",
      "t = resNew\n",
      "s = tempNew\n",
      "line, = ax.plot(t, s, lw=2)\n",
      "\n",
      "ax.annotate('local max', xy=(2, 1), xytext=(3, 1.5),\n",
      "            arrowprops=dict(facecolor='black', shrink=0.05),)"
     ],
     "language": "python",
     "metadata": {},
     "outputs": [
      {
       "metadata": {},
       "output_type": "pyout",
       "prompt_number": 90,
       "text": [
        "<matplotlib.text.Annotation at 0x10d434e0>"
       ]
      },
      {
       "metadata": {},
       "output_type": "display_data",
       "png": "[encoded data removed]",
       "text": [
        "<matplotlib.figure.Figure at 0x10fc8ba8>"
       ]
      }
     ],
     "prompt_number": 90
    },
    {
     "cell_type": "code",
     "collapsed": false,
     "input": [
      "temp"
     ],
     "language": "python",
     "metadata": {},
     "outputs": [
      {
       "metadata": {},
       "output_type": "pyout",
       "prompt_number": 48,
       "text": [
        "array([ 39.,  38.,  37.,  36.,  35.,  34.,  33.,  32.,  31.,  30.,  29.,\n",
        "        28.,  27.,  26.,  25.,  24.,  23.,  22.,  21.,  20.,  19.,  18.,\n",
        "        17.,  16.,  15.,  14.,  13.,  12.,  11.,  10.])"
       ]
      }
     ],
     "prompt_number": 48
    },
    {
     "cell_type": "code",
     "collapsed": false,
     "input": [
      "res"
     ],
     "language": "python",
     "metadata": {},
     "outputs": [
      {
       "metadata": {},
       "output_type": "pyout",
       "prompt_number": 49,
       "text": [
        "array([ 1.496,  1.521,  1.547,  1.574,  1.603,  1.634,  1.666,  1.7  ,\n",
        "        1.736,  1.774,  1.815,  1.857,  1.902,  1.95 ,  2.   ,  2.053,\n",
        "        2.11 ,  2.169,  2.233,  2.3  ,  2.371,  2.446,  2.526,  2.61 ,\n",
        "        2.7  ,  2.795,  2.897,  3.004,  3.118,  3.239])"
       ]
      }
     ],
     "prompt_number": 49
    },
    {
     "cell_type": "code",
     "collapsed": false,
     "input": [
      "resNew"
     ],
     "language": "python",
     "metadata": {},
     "outputs": [
      {
       "metadata": {},
       "output_type": "pyout",
       "prompt_number": 50,
       "text": [
        "array([ 3.239,  3.139,  3.039,  2.939,  2.839,  2.739,  2.639,  2.539,\n",
        "        2.439,  2.339,  2.239,  2.139,  2.039,  1.939,  1.839,  1.739,\n",
        "        1.639,  1.539])"
       ]
      }
     ],
     "prompt_number": 50
    },
    {
     "cell_type": "code",
     "collapsed": false,
     "input": [],
     "language": "python",
     "metadata": {},
     "outputs": [
      {
       "metadata": {},
       "output_type": "display_data",
       "png": "[encoded data removed]",
       "text": [
        "<matplotlib.figure.Figure at 0x10d78278>"
       ]
      }
     ],
     "prompt_number": 86
    },
    {
     "cell_type": "code",
     "collapsed": false,
     "input": [
      "s"
     ],
     "language": "python",
     "metadata": {},
     "outputs": [
      {
       "metadata": {},
       "output_type": "pyout",
       "prompt_number": 84,
       "text": [
        "array([ 10.        ,  10.82644628,  11.69298246,  12.60747664,\n",
        "        13.56862745,  14.58947368,  15.67777778,  16.8452381 ,\n",
        "        18.09333333,  19.45070423,  20.91044776,  22.50847458,\n",
        "        24.26415094,  26.22916667,  28.42857143,  30.92105263,\n",
        "        33.84375   ,  37.30769231])"
       ]
      }
     ],
     "prompt_number": 84
    },
    {
     "cell_type": "code",
     "collapsed": false,
     "input": [
      "t"
     ],
     "language": "python",
     "metadata": {},
     "outputs": [
      {
       "metadata": {},
       "output_type": "pyout",
       "prompt_number": 85,
       "text": [
        "array([ 3.239,  3.139,  3.039,  2.939,  2.839,  2.739,  2.639,  2.539,\n",
        "        2.439,  2.339,  2.239,  2.139,  2.039,  1.939,  1.839,  1.739,\n",
        "        1.639,  1.539])"
       ]
      }
     ],
     "prompt_number": 85
    },
    {
     "cell_type": "code",
     "collapsed": false,
     "input": [],
     "language": "python",
     "metadata": {},
     "outputs": []
    }
   ],
   "metadata": {}
  }
 ]
}