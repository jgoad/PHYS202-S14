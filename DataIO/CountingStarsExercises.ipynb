{
 "metadata": {
  "name": "",
  "signature": "sha256:98410080668744e6e73d9c556fbd8b8dcfb7a19eeadfd1a318393cca4c67f366"
 },
 "nbformat": 3,
 "nbformat_minor": 0,
 "worksheets": [
  {
   "cells": [
    {
     "cell_type": "heading",
     "level": 1,
     "metadata": {},
     "source": [
      "Counting Stars Exercises"
     ]
    },
    {
     "cell_type": "code",
     "collapsed": false,
     "input": [
      "%pylab inline\n",
      "import numpy as np\n",
      "import matplotlib.pyplot as plt\n",
      "from PIL import Image\n",
      "import requests\n",
      "from StringIO import StringIO"
     ],
     "language": "python",
     "metadata": {},
     "outputs": [
      {
       "output_type": "stream",
       "stream": "stdout",
       "text": [
        "Populating the interactive namespace from numpy and matplotlib\n"
       ]
      },
      {
       "output_type": "stream",
       "stream": "stderr",
       "text": [
        "WARNING: pylab import has clobbered these variables: ['fill']\n",
        "`%matplotlib` prevents importing * from pylab and numpy\n"
       ]
      }
     ],
     "prompt_number": 137
    },
    {
     "cell_type": "markdown",
     "metadata": {},
     "source": [
      "1. Modify the fill function so that it never looks at the same pixel twice. There are at least two ways to do this. Name your new function fastfill. The function prototype might look something like this:\n",
      "def fastfill(picture, xsize, ysize, xstart, ystart):\n",
      "    \"\"\"Faster fill algorithm that doesn't look at any pixel more than once.\"\"\"\n",
      "Be sure to include comments and add detail to the docstring to describe what it is doing."
     ]
    },
    {
     "cell_type": "code",
     "collapsed": false,
     "input": [
      "def fill(picture, xsize, ysize, xstart, ystart):\n",
      "    \"\"\"keep a list of pixels that need to be looked at, \n",
      "    but haven't yet been filled in - a list of the (x,y) \n",
      "    coordinates of pixels that are neighbors of ones we have \n",
      "    already examined.  Keep looping until there's nothing \n",
      "    left in this list\"\"\"\n",
      "    max_val = 0\n",
      "    BLACK = (0,0,0)\n",
      "    RED = (255,0,0)\n",
      "    queue = [(xstart,ystart)]\n",
      "    while queue:\n",
      "        x,y,queue = queue[0][0], queue[0][1], queue[1:]\n",
      "        if picture[x,y] == BLACK:\n",
      "            picture[x,y] = RED\n",
      "            if x > 0:\n",
      "                queue.append((x-1,y))\n",
      "            if x < (xsize-1):\n",
      "                queue.append((x+1,y))\n",
      "            if y > 0:\n",
      "                queue.append((x, y-1))\n",
      "            if y < (ysize-1):\n",
      "                queue.append((x, y+1))"
     ],
     "language": "python",
     "metadata": {},
     "outputs": [],
     "prompt_number": 138
    },
    {
     "cell_type": "code",
     "collapsed": false,
     "input": [
      "def fillrec(picture, xsize, ysize, x, y):\n",
      "    \"\"\"each call to 'fillrec' takes care of one pixel, \n",
      "    then calls 'fillrec' again to take care of the neighbors\"\"\"\n",
      "    if picture[x,y] != (0,0,0):\n",
      "        return\n",
      "        picture[x,y] = RED\n",
      "    if x > 0:\n",
      "        fillrec(picture, xsize, ysize, x-1, y)\n",
      "    if x < (xsize-1):\n",
      "        fillrec(picture, xsize, ysize, x+1, y)\n",
      "    if y > 0:\n",
      "        fillrec(picture, xsize, ysize, x, y-1)\n",
      "    if y < (ysize-1):\n",
      "        fillrec(picture, xsize, ysize, x, y+1)"
     ],
     "language": "python",
     "metadata": {},
     "outputs": [],
     "prompt_number": 139
    },
    {
     "cell_type": "code",
     "collapsed": false,
     "input": [
      "def monochrome(picture,threshold):\n",
      "    \"\"\"loops over the pixels in the loaded image, \n",
      "    replacing the RGB values of each with either \n",
      "    black or white depending on whether its total \n",
      "    luminance is above or below some threshold \n",
      "    passed in by the user\"\"\"\n",
      "    BLACK = (0,0,0)\n",
      "    white = (255,255,255)\n",
      "    xsize , ysize = picture.size\n",
      "    temp = picture.load()\n",
      "    for x in range(xsize):\n",
      "        for y in range(ysize):\n",
      "            r,g,b = temp[x,y]\n",
      "            if r+g+b >= threshold:\n",
      "                temp[x,y] = BLACK\n",
      "            else:\n",
      "                temp[x,y] = white"
     ],
     "language": "python",
     "metadata": {},
     "outputs": [],
     "prompt_number": 11
    },
    {
     "cell_type": "code",
     "collapsed": false,
     "input": [
      "def count(picture,func):\n",
      "    BLACK = (0,0,0)\n",
      "    RED = (255,0,0)\n",
      "    \"\"\"scan the image top to bottom and left to right using a nested loop.\n",
      "    when black pixel is found, increment the count, then call the fill\n",
      "    function to fill in all the pixels connected to that one !!so that they wont be counted again!!.\"\"\"\n",
      "    xsize, ysize = picture.size\n",
      "    temp = picture.load()\n",
      "    result = 0\n",
      "    if func == fill:\n",
      "        for x in range(xsize):\n",
      "            for y in range(ysize):\n",
      "                if temp[x,y] == BLACK:\n",
      "                    result += 1\n",
      "                    fill(temp,xsize,ysize,x,y)\n",
      "        return result\n",
      "    elif func == fillrec:\n",
      "        for x in range(xsize):\n",
      "            for y in range(ysize):\n",
      "                if temp[x,y] == BLACK:\n",
      "                    result += 1\n",
      "                    fillrec(picture, xsize, ysize, x, y)\n",
      "    "
     ],
     "language": "python",
     "metadata": {},
     "outputs": [],
     "prompt_number": 141
    },
    {
     "cell_type": "markdown",
     "metadata": {},
     "source": [
      "3. Use the fastest algorithm from question 2 to count the stars above a threshold in all of the images listed at the top of the page. How does the count for each image change if you lower the threshold from 600 to 500? Comment on any changes to the count. Why do they happen?"
     ]
    },
    {
     "cell_type": "code",
     "collapsed": false,
     "input": [
      "response = requests.get(\"http://imgsrc.hubblesite.org/hu/db/images/hs-2004-20-a-large_web.jpg\")\n",
      "bwpic = Image.open(StringIO(response.content))\n",
      "thr = 600\n",
      "monochrome(bwpic,thr)\n",
      "plt.imshow(bwpic);"
     ],
     "language": "python",
     "metadata": {},
     "outputs": [
      {
       "metadata": {},
       "output_type": "display_data",
       "png": "[encoded data removed]",
       "text": [
        "<matplotlib.figure.Figure at 0x11f196a0>"
       ]
      }
     ],
     "prompt_number": 142
    },
    {
     "cell_type": "code",
     "collapsed": false,
     "input": [
      "#can't get fillrec to work,\n",
      "\n",
      "count(bwpic,fill)"
     ],
     "language": "python",
     "metadata": {},
     "outputs": [
      {
       "metadata": {},
       "output_type": "pyout",
       "prompt_number": 143,
       "text": [
        "121"
       ]
      }
     ],
     "prompt_number": 143
    },
    {
     "cell_type": "code",
     "collapsed": false,
     "input": [
      "response = requests.get(\"http://imgsrc.hubblesite.org/hu/db/images/hs-1993-13-a-large_web.jpg\")\n",
      "bwpic = Image.open(StringIO(response.content))\n",
      "thr = 500\n",
      "monochrome(bwpic,thr)\n",
      "plt.imshow(bwpic);\n",
      "count(bwpic,fill)"
     ],
     "language": "python",
     "metadata": {},
     "outputs": [
      {
       "metadata": {},
       "output_type": "pyout",
       "prompt_number": 144,
       "text": [
        "77"
       ]
      },
      {
       "metadata": {},
       "output_type": "display_data",
       "png": "[encoded data removed]",
       "text": [
        "<matplotlib.figure.Figure at 0xa7d8da0>"
       ]
      }
     ],
     "prompt_number": 144
    },
    {
     "cell_type": "code",
     "collapsed": false,
     "input": [
      "response = requests.get(\"http://imgsrc.hubblesite.org/hu/db/images/hs-1995-32-c-full_jpg.jpg\")\n",
      "bwpic = Image.open(StringIO(response.content))\n",
      "monochrome(bwpic,200+200+200)\n",
      "plt.imshow(bwpic);\n",
      "count(bwpic,fill)"
     ],
     "language": "python",
     "metadata": {},
     "outputs": [
      {
       "metadata": {},
       "output_type": "pyout",
       "prompt_number": 145,
       "text": [
        "82"
       ]
      },
      {
       "metadata": {},
       "output_type": "display_data",
       "png": "[encoded data removed]",
       "text": [
        "<matplotlib.figure.Figure at 0x12011f60>"
       ]
      }
     ],
     "prompt_number": 145
    },
    {
     "cell_type": "code",
     "collapsed": false,
     "input": [
      "response = requests.get(\"http://imgsrc.hubblesite.org/hu/db/images/hs-1993-13-a-large_web.jpg\")\n",
      "bwpic = Image.open(StringIO(response.content))\n",
      "monochrome(bwpic,200+200+200)\n",
      "plt.imshow(bwpic);\n",
      "count(bwpic,fill)"
     ],
     "language": "python",
     "metadata": {},
     "outputs": [
      {
       "metadata": {},
       "output_type": "pyout",
       "prompt_number": 146,
       "text": [
        "72"
       ]
      },
      {
       "metadata": {},
       "output_type": "display_data",
       "png": "[encoded data removed]",
       "text": [
        "<matplotlib.figure.Figure at 0x120155f8>"
       ]
      }
     ],
     "prompt_number": 146
    },
    {
     "cell_type": "code",
     "collapsed": false,
     "input": [
      "response = requests.get(\"http://imgsrc.hubblesite.org/hu/db/images/hs-2002-10-c-large_web.jpg\")\n",
      "bwpic = Image.open(StringIO(response.content))\n",
      "monochrome(bwpic,200+200+200)\n",
      "plt.imshow(bwpic);\n",
      "count(bwpic,fill)"
     ],
     "language": "python",
     "metadata": {},
     "outputs": [
      {
       "metadata": {},
       "output_type": "pyout",
       "prompt_number": 147,
       "text": [
        "246"
       ]
      },
      {
       "metadata": {},
       "output_type": "display_data",
       "png": "[encoded data removed]",
       "text": [
        "<matplotlib.figure.Figure at 0xa67b320>"
       ]
      }
     ],
     "prompt_number": 147
    },
    {
     "cell_type": "code",
     "collapsed": false,
     "input": [
      "response = requests.get(\"http://imgsrc.hubblesite.org/hu/db/images/hs-1999-30-b-full_jpg.jpg\")\n",
      "bwpic = Image.open(StringIO(response.content))\n",
      "monochrome(bwpic,200+200+200)\n",
      "plt.imshow(bwpic);\n",
      "count(bwpic,fill)"
     ],
     "language": "python",
     "metadata": {},
     "outputs": [
      {
       "metadata": {},
       "output_type": "pyout",
       "prompt_number": 148,
       "text": [
        "320"
       ]
      },
      {
       "metadata": {},
       "output_type": "display_data",
       "png": "[encoded data removed]",
       "text": [
        "<matplotlib.figure.Figure at 0x1201e320>"
       ]
      }
     ],
     "prompt_number": 148
    },
    {
     "cell_type": "markdown",
     "metadata": {},
     "source": [
      "The lower the threshhold in monochromatic function the more \"counts\" you get. It would be cool to use a slider to adjust the threshold and watch the image refresh to see where you think the threshold should sit. Also, maybe plot counts against threshold and see if at some point the counts start to shoot off and use that threshold point to automatically adjust the code as it executes. Use it to weight the average counts per threshold...? "
     ]
    },
    {
     "cell_type": "markdown",
     "metadata": {},
     "source": [
      "4. Write a variation on your count function to keep track of the pixels in a given blob and use the brightest pixel in the blob as the \"location\" of the star. Use the data I/O skills we learned to write out a text (not binary) file containing"
     ]
    },
    {
     "cell_type": "code",
     "collapsed": false,
     "input": [
      "def brightest(picture):\n",
      "    \"\"\"add up each pixel's color values \n",
      "    to approximate its overall luminance\"\"\"\n",
      "    xsize, ysize = picture.size\n",
      "    bx, by, max_val = 0, 0, 0\n",
      "    for x in range(xsize):\n",
      "        for y in range(ysize):\n",
      "            r,g,b = pic.getpixel((x,y))\n",
      "            if r+g+b > max_val:\n",
      "                bx, by, max_val = x, y, r+g+b\n",
      "    return (bx, by), max_val"
     ],
     "language": "python",
     "metadata": {},
     "outputs": [],
     "prompt_number": 149
    },
    {
     "cell_type": "code",
     "collapsed": false,
     "input": [
      "def count(picture,thr,func):\n",
      "    response = requests.get(picture)\n",
      "    colorpic = Image.open(StringIO(response.content))\n",
      "    bwpic = Image.open(StringIO(response.content))\n",
      "    monochrome(bwpic,thr)\n",
      "    plt.imshow(bwpic);\n",
      "    BLACK = (0,0,0)\n",
      "    RED = (255,0,0)\n",
      "    \"\"\"scan the image top to bottom and left to right using a nested loop.\n",
      "    when black pixel is found, increment the count, then call the fill\n",
      "    function to fill in all the pixels connected to that one !!so that they wont be counted again!!.\"\"\"\n",
      "    xsize, ysize = bwpic.size\n",
      "    temp = bwpic.load()\n",
      "    result = 0\n",
      "    if func == fill:\n",
      "        for x in range(xsize):\n",
      "            for y in range(ysize):\n",
      "                if temp[x,y] == BLACK:\n",
      "                    result += 1\n",
      "                    fill(temp,xsize,ysize,x,y)\n",
      "        return result\n",
      "    if func == fillrec:\n",
      "        for x in range(xsize):\n",
      "            for y in range(ysize):\n",
      "                if temp[x,y] == BLACK:\n",
      "                    result += 1\n",
      "                    fillrec(bwpic, xsize, ysize, x, y)\n",
      "    \n",
      "    %%file picture.dat\n",
      "    np.savetxt('test.out', result, fmt='%.2e', header = \"response,thr,func,result\")"
     ],
     "language": "python",
     "metadata": {},
     "outputs": [],
     "prompt_number": 161
    },
    {
     "cell_type": "code",
     "collapsed": false,
     "input": [
      "count(\"http://imgsrc.hubblesite.org/hu/db/images/hs-2002-10-c-large_web.jpg\",600,fill)"
     ],
     "language": "python",
     "metadata": {},
     "outputs": [
      {
       "metadata": {},
       "output_type": "pyout",
       "prompt_number": 162,
       "text": [
        "246"
       ]
      },
      {
       "metadata": {},
       "output_type": "display_data",
       "png": "[encoded data removed]",
       "text": [
        "<matplotlib.figure.Figure at 0x1200cf28>"
       ]
      }
     ],
     "prompt_number": 162
    },
    {
     "cell_type": "markdown",
     "metadata": {},
     "source": [
      "DataIO portion solution (Just copied and annotated. Won't run with my code)"
     ]
    },
    {
     "cell_type": "code",
     "collapsed": false,
     "input": [
      "def analyzepic(imgname,outname):\n",
      "    threshold = 600\n",
      "    fillfunc = 'fill2' # I'm not sure why this isn't dynamically assigned. Every time this function runs it \n",
      "    #will save the function used to fill as \"fill2\"\n",
      "    picture = resetimg2(imgname,threshold)#monochromes the image with resetimg2 to turn the picture monochrome\n",
      "    proctime, result = elapsed(count2,fill2,picture)\n",
      "    #print proctime, result[0]\n",
      "    stars = np.array(result[1])\n",
      "    myheader = \"\\n Image file: %s\\n Applied threshold: %d\\n Algorithm used: %s \\\n",
      "                \\n Processing time: %.6f (s)\\n Star count: %d\\n Location (x,y) and max luminance:\\n\" \\\n",
      "                %(imgname,threshold,fillfunc,proctime,result[0])\n",
      "        \n",
      "    np.savetxt(outname,stars,fmt=('%3i\\t'*3),header=myheader)"
     ],
     "language": "python",
     "metadata": {},
     "outputs": [],
     "prompt_number": 12
    },
    {
     "cell_type": "markdown",
     "metadata": {},
     "source": [
      "Elapsed function:"
     ]
    },
    {
     "cell_type": "code",
     "collapsed": false,
     "input": [
      "def elapsed(func, fillfunc, picture): #Takes the function you're using, like count, and the fill function, and then the picture. \n",
      "    #Seemes like Elapsed should just be put in the count function since it can' be used with any other function.\n",
      "    \"\"\"takes a function and a picture as arguments, \n",
      "    applies the function to the picture, and returns \n",
      "    the elapsed time along with whatever the function \n",
      "    itself returned.\"\"\"    \n",
      "    start = time() #gets current time\n",
      "    result = func(picture,fillfunc) #returns results of func\n",
      "    return time() - start, result #gets time again and returns the difference in times and the results of func. "
     ],
     "language": "python",
     "metadata": {},
     "outputs": [],
     "prompt_number": 1
    },
    {
     "cell_type": "markdown",
     "metadata": {},
     "source": [
      "Count function that creates a list of the bightest pixel "
     ]
    },
    {
     "cell_type": "code",
     "collapsed": false,
     "input": [
      "def count2(picture,fillfunc):\n",
      "    \"\"\"scan the image top to bottom and left to right using a nested loop.\n",
      "    when non-black pixel is found, increment the count, then call the fill\n",
      "    function to fill in all the pixels connected to that one.  \n",
      "    \n",
      "    Return the count plus a list of star brightest pixel locations and value\"\"\"\n",
      "    xsize, ysize = picture.size\n",
      "    temp = picture.load()\n",
      "    result = 0\n",
      "    #a list of stars' max pixel locations and values\n",
      "    starlist = []\n",
      "    for x in range(xsize):\n",
      "        for y in range(ysize):\n",
      "            if temp[x,y] > BLACK:\n",
      "                result += 1\n",
      "                x,y,max_val = fillfunc(temp,xsize,ysize,x,y)\n",
      "                starlist.append((x,y,max_val)) #has to be in the fill function, else it would get reinitialized \n",
      "                #every time fill2 is called\n",
      "    return result,starlist"
     ],
     "language": "python",
     "metadata": {},
     "outputs": [],
     "prompt_number": 2
    },
    {
     "cell_type": "code",
     "collapsed": false,
     "input": [
      "def fill2(picture, xsize, ysize, xstart, ystart):\n",
      "    \"\"\"keep a list of pixels that need to be looked at, \n",
      "    but haven't yet been filled in - a list of the (x,y) \n",
      "    coordinates of pixels that are neighbors of ones we have \n",
      "    already examined.  Keep looping until there's nothing \n",
      "    left in this list\"\"\"\n",
      "    maxx,maxy,maxval = 0,0,0\n",
      "    queue = [(xstart,ystart)]\n",
      "    while queue:\n",
      "        x,y,queue = queue[0][0], queue[0][1], queue[1:]\n",
      "        r,g,b = picture[x,y]\n",
      "        if (r+g+b > maxval):\n",
      "            maxx,maxy,maxval = x,y,r+g+b #This area is where the brightest pixel is found and stored, \n",
      "            #tested against each x,y in the blob.\n",
      "        if (r,g,b) > BLACK:\n",
      "            picture[x,y] = BLACK\n",
      "            if x > 0:\n",
      "                queue.append((x-1,y))\n",
      "            if x < (xsize-1):\n",
      "                queue.append((x+1,y))\n",
      "            if y > 0:\n",
      "                queue.append((x, y-1))\n",
      "            if y < (ysize-1):\n",
      "                queue.append((x, y+1))\n",
      "    return maxx,maxy,maxval"
     ],
     "language": "python",
     "metadata": {},
     "outputs": [],
     "prompt_number": 3
    },
    {
     "cell_type": "code",
     "collapsed": false,
     "input": [
      "analyzepic(\"http://imgsrc.hubblesite.org/hu/db/images/hs-2002-10-c-large_web.jpg\",\"test.txt\")"
     ],
     "language": "python",
     "metadata": {},
     "outputs": [
      {
       "ename": "AttributeError",
       "evalue": "'str' object has no attribute 'size'",
       "output_type": "pyerr",
       "traceback": [
        "\u001b[1;31m---------------------------------------------------------------------------\u001b[0m\n\u001b[1;31mAttributeError\u001b[0m                            Traceback (most recent call last)",
        "\u001b[1;32m<ipython-input-13-fdb8e8ef0a82>\u001b[0m in \u001b[0;36m<module>\u001b[1;34m()\u001b[0m\n\u001b[1;32m----> 1\u001b[1;33m \u001b[0manalyzepic\u001b[0m\u001b[1;33m(\u001b[0m\u001b[1;34m\"http://imgsrc.hubblesite.org/hu/db/images/hs-2002-10-c-large_web.jpg\"\u001b[0m\u001b[1;33m,\u001b[0m\u001b[1;34m\"test.txt\"\u001b[0m\u001b[1;33m)\u001b[0m\u001b[1;33m\u001b[0m\u001b[0m\n\u001b[0m",
        "\u001b[1;32m<ipython-input-12-570e68b49041>\u001b[0m in \u001b[0;36manalyzepic\u001b[1;34m(imgname, outname)\u001b[0m\n\u001b[0;32m      3\u001b[0m     \u001b[0mfillfunc\u001b[0m \u001b[1;33m=\u001b[0m \u001b[1;34m'fill2'\u001b[0m \u001b[1;31m# I'm not sure why this isn't dynamically assigned. Every time this function runs it\u001b[0m\u001b[1;33m\u001b[0m\u001b[0m\n\u001b[0;32m      4\u001b[0m     \u001b[1;31m#will save the function used to fill as \"fill2\"\u001b[0m\u001b[1;33m\u001b[0m\u001b[1;33m\u001b[0m\u001b[0m\n\u001b[1;32m----> 5\u001b[1;33m     \u001b[0mpicture\u001b[0m \u001b[1;33m=\u001b[0m \u001b[0mmonochrome\u001b[0m\u001b[1;33m(\u001b[0m\u001b[0mimgname\u001b[0m\u001b[1;33m,\u001b[0m\u001b[0mthreshold\u001b[0m\u001b[1;33m)\u001b[0m\u001b[1;31m#monochromes the image resetimg2 to turn the picture monochrome\u001b[0m\u001b[1;33m\u001b[0m\u001b[0m\n\u001b[0m\u001b[0;32m      6\u001b[0m     \u001b[0mproctime\u001b[0m\u001b[1;33m,\u001b[0m \u001b[0mresult\u001b[0m \u001b[1;33m=\u001b[0m \u001b[0melapsed\u001b[0m\u001b[1;33m(\u001b[0m\u001b[0mcount2\u001b[0m\u001b[1;33m,\u001b[0m\u001b[0mfill2\u001b[0m\u001b[1;33m,\u001b[0m\u001b[0mpicture\u001b[0m\u001b[1;33m)\u001b[0m\u001b[1;33m\u001b[0m\u001b[0m\n\u001b[0;32m      7\u001b[0m     \u001b[1;31m#print proctime, result[0]\u001b[0m\u001b[1;33m\u001b[0m\u001b[1;33m\u001b[0m\u001b[0m\n",
        "\u001b[1;32m<ipython-input-11-0ae8b33ef294>\u001b[0m in \u001b[0;36mmonochrome\u001b[1;34m(picture, threshold)\u001b[0m\n\u001b[0;32m      7\u001b[0m     \u001b[0mBLACK\u001b[0m \u001b[1;33m=\u001b[0m \u001b[1;33m(\u001b[0m\u001b[1;36m0\u001b[0m\u001b[1;33m,\u001b[0m\u001b[1;36m0\u001b[0m\u001b[1;33m,\u001b[0m\u001b[1;36m0\u001b[0m\u001b[1;33m)\u001b[0m\u001b[1;33m\u001b[0m\u001b[0m\n\u001b[0;32m      8\u001b[0m     \u001b[0mwhite\u001b[0m \u001b[1;33m=\u001b[0m \u001b[1;33m(\u001b[0m\u001b[1;36m255\u001b[0m\u001b[1;33m,\u001b[0m\u001b[1;36m255\u001b[0m\u001b[1;33m,\u001b[0m\u001b[1;36m255\u001b[0m\u001b[1;33m)\u001b[0m\u001b[1;33m\u001b[0m\u001b[0m\n\u001b[1;32m----> 9\u001b[1;33m     \u001b[0mxsize\u001b[0m \u001b[1;33m,\u001b[0m \u001b[0mysize\u001b[0m \u001b[1;33m=\u001b[0m \u001b[0mpicture\u001b[0m\u001b[1;33m.\u001b[0m\u001b[0msize\u001b[0m\u001b[1;33m\u001b[0m\u001b[0m\n\u001b[0m\u001b[0;32m     10\u001b[0m     \u001b[0mtemp\u001b[0m \u001b[1;33m=\u001b[0m \u001b[0mpicture\u001b[0m\u001b[1;33m.\u001b[0m\u001b[0mload\u001b[0m\u001b[1;33m(\u001b[0m\u001b[1;33m)\u001b[0m\u001b[1;33m\u001b[0m\u001b[0m\n\u001b[0;32m     11\u001b[0m     \u001b[1;32mfor\u001b[0m \u001b[0mx\u001b[0m \u001b[1;32min\u001b[0m \u001b[0mrange\u001b[0m\u001b[1;33m(\u001b[0m\u001b[0mxsize\u001b[0m\u001b[1;33m)\u001b[0m\u001b[1;33m:\u001b[0m\u001b[1;33m\u001b[0m\u001b[0m\n",
        "\u001b[1;31mAttributeError\u001b[0m: 'str' object has no attribute 'size'"
       ]
      }
     ],
     "prompt_number": 13
    },
    {
     "cell_type": "code",
     "collapsed": false,
     "input": [],
     "language": "python",
     "metadata": {},
     "outputs": []
    }
   ],
   "metadata": {}
  }
 ]
}