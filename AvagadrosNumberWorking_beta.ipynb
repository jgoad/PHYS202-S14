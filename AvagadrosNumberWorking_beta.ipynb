{
 "metadata": {
  "name": "",
  "signature": "sha256:0eea147b23923d4b5bff15239660d76ebe83f8a1918fae53d1994841ae3237bd"
 },
 "nbformat": 3,
 "nbformat_minor": 0,
 "worksheets": [
  {
   "cells": [
    {
     "cell_type": "code",
     "collapsed": false,
     "input": [
      "%pylab inline\n",
      "import numpy as np\n",
      "import matplotlib.pyplot as plt\n",
      "from PIL import Image\n",
      "import requests\n",
      "from StringIO import StringIO"
     ],
     "language": "python",
     "metadata": {},
     "outputs": [
      {
       "output_type": "stream",
       "stream": "stdout",
       "text": [
        "Populating the interactive namespace from numpy and matplotlib\n"
       ]
      }
     ],
     "prompt_number": 1
    },
    {
     "cell_type": "code",
     "collapsed": false,
     "input": [
      "def brightest(picture):\n",
      "    \n",
      "    xsize, ysize = picture.size\n",
      "    bx, by, max_val = 0, 0, 0\n",
      "    for x in range(xsize):\n",
      "        for y in range(ysize):\n",
      "            r,g,b = pic.getpixel((x,y))\n",
      "            if r+g+b > max_val:\n",
      "                bx, by, max_val = x, y, r+g+b\n",
      "    return (bx, by), max_val"
     ],
     "language": "python",
     "metadata": {},
     "outputs": [],
     "prompt_number": 2
    },
    {
     "cell_type": "code",
     "collapsed": false,
     "input": [
      "from time import time\n",
      "def elapsed(func, picture):\n",
      "       \n",
      "    start = time()\n",
      "    result = func(picture)\n",
      "    return time() - start, result"
     ],
     "language": "python",
     "metadata": {},
     "outputs": [],
     "prompt_number": 3
    },
    {
     "cell_type": "code",
     "collapsed": false,
     "input": [
      "import os\n",
      "def fetchimg(name):\n",
      "    pic = Image.open(os.getcwd() + '\\\\run9\\\\images\\\\' + name)\n",
      "    return pic"
     ],
     "language": "python",
     "metadata": {},
     "outputs": [],
     "prompt_number": 4
    },
    {
     "cell_type": "code",
     "collapsed": false,
     "input": [
      "#Need to modify elapsed as well.  count already modified above\n",
      "def elapsed(func, fillfunc, picture):\n",
      "     \n",
      "    start = time()\n",
      "    result = func(picture,fillfunc)\n",
      "    return time() - start, result"
     ],
     "language": "python",
     "metadata": {},
     "outputs": [],
     "prompt_number": 5
    },
    {
     "cell_type": "code",
     "collapsed": false,
     "input": [
      "def count2(picture,fillfunc):\n",
      "    \n",
      "    BLACK = (0,0,0)\n",
      "    xsize, ysize = picture.size\n",
      "    temp = picture.load()\n",
      "    result = 0\n",
      "    #a list of stars' max pixel locations and values\n",
      "    starlist = []\n",
      "    for x in range(xsize):\n",
      "        for y in range(ysize):\n",
      "            if temp[x,y] > BLACK:\n",
      "                result += 1\n",
      "                x,y,max_val,mass = fillfunc(temp,xsize,ysize,x,y)\n",
      "                starlist.append((x,y,max_val,mass))\n",
      "    return result,starlist"
     ],
     "language": "python",
     "metadata": {},
     "outputs": [],
     "prompt_number": 6
    },
    {
     "cell_type": "code",
     "collapsed": false,
     "input": [
      "def fill2(picture, xsize, ysize, xstart, ystart):\n",
      "    \n",
      "    BLACK = (0,0,0)\n",
      "    mass = 0\n",
      "    maxx,maxy,maxval = 0,0,0\n",
      "    queue = [(xstart,ystart)]\n",
      "    while queue:\n",
      "        x,y,queue = queue[0][0], queue[0][1], queue[1:]\n",
      "        r,g,b = picture[x,y]\n",
      "        if (r+g+b > maxval):\n",
      "            maxx,maxy,maxval,mass = x,y,r+g+b,mass+1\n",
      "        if (r,g,b) > BLACK:\n",
      "            picture[x,y] = BLACK\n",
      "            if x > 0:\n",
      "                queue.append((x-1,y))\n",
      "            if x < (xsize-1):\n",
      "                queue.append((x+1,y))\n",
      "            if y > 0:\n",
      "                queue.append((x, y-1))\n",
      "            if y < (ysize-1):\n",
      "                queue.append((x, y+1))\n",
      "    return maxx,maxy,maxval, mass"
     ],
     "language": "python",
     "metadata": {},
     "outputs": [],
     "prompt_number": 7
    },
    {
     "cell_type": "code",
     "collapsed": false,
     "input": [
      "def imagecut(picture, threshold):\n",
      "    \n",
      "    black = (0, 0, 0)\n",
      "    xsize, ysize = picture.size\n",
      "    temp = picture.load()\n",
      "    for x in range(xsize):\n",
      "        for y in range(ysize):\n",
      "            r,g,b = temp[x,y]\n",
      "            if r+g+b < threshold: \n",
      "                temp[x,y] = black"
     ],
     "language": "python",
     "metadata": {},
     "outputs": [],
     "prompt_number": 8
    },
    {
     "cell_type": "code",
     "collapsed": false,
     "input": [
      "def resetimg2(imgname,threshold):\n",
      "    \n",
      "    picture = fetchimg(imgname)\n",
      "    imagecut(picture,threshold)\n",
      "    return picture"
     ],
     "language": "python",
     "metadata": {},
     "outputs": [],
     "prompt_number": 9
    },
    {
     "cell_type": "code",
     "collapsed": false,
     "input": [
      "def analyzepic(imgname,outname):\n",
      "    threshold = 500\n",
      "    fillfunc = 'fill2'\n",
      "    picture = resetimg2(imgname,threshold)\n",
      "    proctime, result = elapsed(count2,fill2,picture)\n",
      "    #print proctime, result[0]\n",
      "    stars = np.array(result[1])\n",
      "    myheader = \"\\n Image file: %s\\n Applied threshold: %d\\n Algorithm used: %s \\\n",
      "                \\n Processing time: %.6f (s)\\n Particle count: %d\\n Location (x,y), max luminance, and mass:\\n\" \\\n",
      "                %(imgname,threshold,fillfunc,proctime,result[0])\n",
      "    np.savetxt(outname,stars,fmt=('%3i\\t'*4),header=myheader)"
     ],
     "language": "python",
     "metadata": {},
     "outputs": [],
     "prompt_number": 10
    },
    {
     "cell_type": "code",
     "collapsed": false,
     "input": [
      "import os\n",
      "from os import listdir\n",
      "imgnames = os.listdir('run9\\images')"
     ],
     "language": "python",
     "metadata": {},
     "outputs": [],
     "prompt_number": 11
    },
    {
     "cell_type": "code",
     "collapsed": false,
     "input": [
      "for imgs in imgnames:\n",
      "    filename = 'run9\\\\data\\\\'+imgs.replace('.jpg','')+'.txt'\n",
      "    analyzepic(imgs,filename)"
     ],
     "language": "python",
     "metadata": {},
     "outputs": [],
     "prompt_number": 12
    },
    {
     "cell_type": "code",
     "collapsed": false,
     "input": [
      "from os import listdir\n",
      "datanames = os.listdir('run9\\data')\n",
      "i=0\n",
      "n=0\n",
      "p=17 #displacement limit\n",
      "dt = 0.5\n",
      "disp = []\n",
      "particles = 0\n",
      "for name in datanames:\n",
      "    if datanames.index(name)<len(datanames)-1:\n",
      "        k = datanames.index(name) + 1\n",
      "        data1 = np.genfromtxt('run9\\\\data\\\\'+name)\n",
      "        data2 = np.genfromtxt('run9\\\\data\\\\'+datanames[k])\n",
      "        particles += len(data1)\n",
      "        a = len(data1)\n",
      "        b = len(data2)\n",
      "        if a >= b :\n",
      "            size = b-1\n",
      "        elif b > a :\n",
      "            size = a-1\n",
      "        while n <= size and i <= size:\n",
      "            dx = abs(data1[n][0]-data2[i][0])\n",
      "            dy = abs(data1[n][1]-data2[i][1])\n",
      "            if dx < p and dy < p:\n",
      "                disp.append((dx*0.175e-6)**2 + (dy*0.175e-6)**2)\n",
      "                n +=1\n",
      "                i = 0\n",
      "            else:\n",
      "                i +=1\n",
      "        n = 0\n",
      "        i = 0\n",
      "    else:\n",
      "        D1 = sum(disp)/(2*len(disp)) # use n = number of times the code found a change that qualified as a displacement\n",
      "        k1 = 6*np.pi*9.135e-4*0.5e-6*D1/298\n",
      "        k = 1.3806488e-23\n",
      "        err1 = abs(k-k1)/k\n",
      "        R = 8.31457\n",
      "        N = 6.0221413e+23\n",
      "        N1=R/k1\n",
      "        err2 = abs(N-N1)/N\n",
      "        print \"D =\", D1\n",
      "        print \"K Estimate =\", k1\n",
      "        print \"K Theory =\",k\n",
      "        print \"Percent Error =\",err1*100,\"%\"\n",
      "        print \"Avogadro's Number Estimate =\", N1\n",
      "        print \"Avogadro's Number Theory =\", N\n",
      "        print \"Percent Error =\", err2*100,\"%\"\n",
      "        "
     ],
     "language": "python",
     "metadata": {},
     "outputs": [
      {
       "output_type": "stream",
       "stream": "stdout",
       "text": [
        "D = 4.73758208786e-13\n",
        "K Estimate = 1.36873749074e-23\n",
        "K Theory = 1.3806488e-23\n",
        "Percent Error = 0.862732742925 %\n",
        "Avogadro's Number Estimate = 6.07462720665e+23\n",
        "Avogadro's Number Theory = 6.0221413e+23\n",
        "Percent Error = 0.871548906576 %\n"
       ]
      }
     ],
     "prompt_number": 26
    }
   ],
   "metadata": {}
  }
 ]
}