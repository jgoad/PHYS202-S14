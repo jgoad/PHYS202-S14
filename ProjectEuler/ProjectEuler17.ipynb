{
 "metadata": {
  "name": "",
  "signature": "sha256:72ace52ef6f25004227ca62d94e519504217bda8c20efbdd94a6cbd6edc4d0be"
 },
 "nbformat": 3,
 "nbformat_minor": 0,
 "worksheets": [
  {
   "cells": [
    {
     "cell_type": "raw",
     "metadata": {},
     "source": [
      "If the numbers 1 to 5 are written out in words: one, two, three, four, five, then there are 3 + 3 + 5 + 4 + 4 = 19 letters used in total.\n",
      "\n",
      "If all the numbers from 1 to 1000 (one thousand) inclusive were written out in words, how many letters would be used?\n",
      "\n",
      "NOTE: Do not count spaces or hyphens. For example, 342 (three hundred and forty-two) contains 23 letters and 115 (one hundred and fifteen) contains 20 letters. The use of \"and\" when writing out numbers is in compliance with British usage."
     ]
    },
    {
     "cell_type": "code",
     "collapsed": false,
     "input": [
      "def ones(one,count):\n",
      "    if one == 1 or one == 2 or one == 6:\n",
      "        count += 3 \n",
      "    if one == 4 or one == 5 or one == 9:\n",
      "        count += 4   \n",
      "    if one == 3 or one == 7 or one == 8:\n",
      "        count += 5\n",
      "        \n",
      "    return count\n",
      "\n",
      "def teens(teen,count):\n",
      "    if teen == 10:\n",
      "        count += 3\n",
      "    if teen == 11 or teen == 12:\n",
      "        count += 6\n",
      "    if teen == 15 or teen == 16:\n",
      "        count += 7\n",
      "    if teen == 13 or teen == 14 or teen == 18 or teen == 19:\n",
      "        count += 8\n",
      "    if teen == 17:\n",
      "        count += 9\n",
      "        \n",
      "    return count\n",
      "\n",
      "def tens(ten,count):\n",
      "    b = str(ten)\n",
      "    \n",
      "    if b[0] == '4' or b[0] == '5' or b[0] == '6':\n",
      "        count += 5\n",
      "        one = int(b[1])\n",
      "        count = ones(one,count)\n",
      "    if b[0] == '2' or b[0] == '3' or b[0] == '8' or b[0] == '9' and b[1]:\n",
      "        count += 6\n",
      "        one = int(b[1])\n",
      "        count = ones(one,count)\n",
      "        \n",
      "    if b[0] == '7' and b[1]:\n",
      "        count += 7\n",
      "        one = int(b[1])\n",
      "        count = ones(one,count)\n",
      "        \n",
      "    return count\n",
      "\n",
      "def huns(hun,count):\n",
      "    count += 7\n",
      "    a = str(hun)\n",
      "    b = int(a[0])\n",
      "    count = ones(b,count)\n",
      "    \n",
      "    return count\n",
      "\n",
      "def numberlettercounts(nummin,nummax):\n",
      "    nums = []\n",
      "    for i in range(nummin,nummax+1):\n",
      "        nums.append(i)\n",
      "    \n",
      "    \n",
      "    count = 0\n",
      "    for num in nums:\n",
      "        a = str(num)\n",
      "        if len(a) == 1:\n",
      "            count = ones(num,count)\n",
      "        if len(a) == 2 and a[0] == '1':\n",
      "            count = teens(num,count)\n",
      "        if len(a) == 2 and a[0] != '1':\n",
      "            count = tens(num,count)\n",
      "        if len(a) == 3 and a[1] == '0' and a[2]=='0':\n",
      "            count = huns(num,count)\n",
      "        if len(a) == 3 and a[1] != '0' and a[2] == '0':\n",
      "            count = huns(num,count)\n",
      "            ten = int(a[1:3])\n",
      "            if a[1] == '1':\n",
      "                count = teens(ten,count)\n",
      "                count += 3 #for 'and'\n",
      "            if a[1] != '1':\n",
      "                count = tens(ten,count)\n",
      "                count += 3 #for 'and'\n",
      "        if len(a) == 3 and a[1] != '0' and a[2] != '0':\n",
      "            count = huns(num,count)\n",
      "            ten = int(a[1:3])\n",
      "            if a[1] == '1' :\n",
      "                count = teens(ten,count)\n",
      "                count += 3 #for 'and'\n",
      "            if a[1] != '1' :\n",
      "                count = tens(ten,count)\n",
      "                count += 3 #for 'and'\n",
      "        if len(a) == 3 and a[1] == '0' and a[2] != '0': \n",
      "            count = huns(num,count)\n",
      "            count += 3 #for 'and'\n",
      "            c = int(a[2])\n",
      "            count = ones(c,count)\n",
      "        if len(a) == 4:\n",
      "            count += 11\n",
      "    print count"
     ],
     "language": "python",
     "metadata": {},
     "outputs": [],
     "prompt_number": 101
    },
    {
     "cell_type": "code",
     "collapsed": false,
     "input": [
      "numberlettercounts(1,5)"
     ],
     "language": "python",
     "metadata": {},
     "outputs": [
      {
       "output_type": "stream",
       "stream": "stdout",
       "text": [
        "19\n"
       ]
      }
     ],
     "prompt_number": 102
    },
    {
     "cell_type": "code",
     "collapsed": false,
     "input": [
      "numberlettercounts(1,20)"
     ],
     "language": "python",
     "metadata": {},
     "outputs": [
      {
       "output_type": "stream",
       "stream": "stdout",
       "text": [
        "112\n"
       ]
      }
     ],
     "prompt_number": 103
    },
    {
     "cell_type": "code",
     "collapsed": false,
     "input": [
      "numberlettercounts(1,1000)"
     ],
     "language": "python",
     "metadata": {},
     "outputs": [
      {
       "output_type": "stream",
       "stream": "stdout",
       "text": [
        "21124\n"
       ]
      }
     ],
     "prompt_number": 104
    },
    {
     "cell_type": "code",
     "collapsed": false,
     "input": [],
     "language": "python",
     "metadata": {},
     "outputs": []
    }
   ],
   "metadata": {}
  }
 ]
}