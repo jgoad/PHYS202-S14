{
 "metadata": {
  "name": "",
  "signature": "sha256:282ce293c0cc2a6d8f269407af6e8ef14b0d35c29f26c0fcc3dbaa55e63d4e79"
 },
 "nbformat": 3,
 "nbformat_minor": 0,
 "worksheets": [
  {
   "cells": [
    {
     "cell_type": "heading",
     "level": 1,
     "metadata": {},
     "source": [
      "Largest palindrome product"
     ]
    },
    {
     "cell_type": "markdown",
     "metadata": {},
     "source": [
      "A palindromic number reads the same both ways. The largest palindrome made from the product of two 2-digit numbers is 9009 = 91 \u00d7 99.\n",
      "\n",
      "Find the largest palindrome made from the product of two 3-digit numbers."
     ]
    },
    {
     "cell_type": "code",
     "collapsed": false,
     "input": [
      "i=range(10,100)\n",
      "j=range(10,100)\n",
      "lst =[]\n",
      "for numi in i:\n",
      "    for numj in j:\n",
      "       lst.append(numi*numj)\n",
      "for numj in j:\n",
      "    for numi in i:\n",
      "        lst.append(numi*numj)\n",
      "max = 0\n",
      "for num in lst:\n",
      "    forw = str(num)\n",
      "    backw = ''\n",
      "    for char in reversed(forw):\n",
      "        backw += char\n",
      "    if forw == backw:\n",
      "        if int(forw) > max:\n",
      "            max = int(forw)\n",
      "print max"
     ],
     "language": "python",
     "metadata": {},
     "outputs": [
      {
       "output_type": "stream",
       "stream": "stdout",
       "text": [
        "9009\n"
       ]
      }
     ],
     "prompt_number": 44
    },
    {
     "cell_type": "code",
     "collapsed": false,
     "input": [
      "i=range(100,1000)\n",
      "j=range(100,1000)\n",
      "lst =[]\n",
      "for numi in i:\n",
      "    for numj in j:\n",
      "       lst.append(numi*numj)\n",
      "for numj in j:\n",
      "    for numi in i:\n",
      "        lst.append(numi*numj)\n",
      "\n",
      "max = 0\n",
      "for num in lst:\n",
      "    forw = str(num)\n",
      "    backw = ''\n",
      "    for char in reversed(forw):\n",
      "        backw += char\n",
      "    if forw == backw:\n",
      "        if int(forw) > max:\n",
      "            max = int(forw)\n",
      "print max"
     ],
     "language": "python",
     "metadata": {},
     "outputs": [
      {
       "output_type": "stream",
       "stream": "stdout",
       "text": [
        "906609\n"
       ]
      }
     ],
     "prompt_number": 48
    },
    {
     "cell_type": "code",
     "collapsed": false,
     "input": [],
     "language": "python",
     "metadata": {},
     "outputs": []
    }
   ],
   "metadata": {}
  }
 ]
}