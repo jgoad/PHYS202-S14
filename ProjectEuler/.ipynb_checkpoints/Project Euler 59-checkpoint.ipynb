{
 "cells": [
  {
   "cell_type": "code",
   "execution_count": 23,
   "metadata": {
    "collapsed": false
   },
   "outputs": [],
   "source": [
    "code = open('p059_cipher.txt').read().replace('\\n','').split(',')\n",
    "\n",
    "A = range(97, 123,1)\n",
    "B = A\n",
    "C = B\n",
    "def codebreaker():\n",
    "    for a in A:\n",
    "        for b in B:\n",
    "            for c in C:\n",
    "                decoded = []\n",
    "                passcode = [a,b,c]*(len(code)/3)\n",
    "\n",
    "                for phrase,encoded in zip(passcode,code):\n",
    "                    decoded.append(unichr(phrase^int(encoded)))\n",
    "                    \n",
    "                decoded = \"\".join(decoded)\n",
    "\n",
    "                if ' the ' in decoded:\n",
    "                    password = [unichr(char) for char in [a,b,c]]\n",
    "                    print decoded,'\\n'\n",
    "                    print ''.join(password)\n",
    "                    return"
   ]
  },
  {
   "cell_type": "code",
   "execution_count": 24,
   "metadata": {
    "collapsed": false
   },
   "outputs": [
    {
     "name": "stdout",
     "output_type": "stream",
     "text": [
      "(The Gospel of John, chapter 1) 1 In the beginning the Word already existed. He was with God, and he was God. 2 He was in the beginning with God. 3 He created everything there is. Nothing exists that he didn't make. 4 Life itself was in him, and this life gives light to everyone. 5 The light shines through the darkness, and the darkness can never extinguish it. 6 God sent John the Baptist 7 to tell everyone about the light so that everyone might believe because of his testimony. 8 John himself was not the light; he was only a witness to the light. 9 The one who is the true light, who gives light to everyone, was going to come into the world. 10 But although the world was made through him, the world didn't recognize him when he came. 11 Even in his own land and among his own people, he was not accepted. 12 But to all who believed him and accepted him, he gave the right to become children of God. 13 They are reborn! This is not a physical birth resulting from human passion or plan, this rebirth comes from God.14 So the Word became human and lived here on earth among us. He was full of unfailing love and faithfulness. And we have seen his glory, the glory of the only Son of the Father \n",
      "\n",
      "god\n"
     ]
    }
   ],
   "source": [
    "codebreaker()"
   ]
  },
  {
   "cell_type": "code",
   "execution_count": null,
   "metadata": {
    "collapsed": true
   },
   "outputs": [],
   "source": []
  }
 ],
 "metadata": {
  "kernelspec": {
   "display_name": "Python 2",
   "language": "python",
   "name": "python2"
  },
  "language_info": {
   "codemirror_mode": {
    "name": "ipython",
    "version": 2
   },
   "file_extension": ".py",
   "mimetype": "text/x-python",
   "name": "python",
   "nbconvert_exporter": "python",
   "pygments_lexer": "ipython2",
   "version": "2.7.6"
  }
 },
 "nbformat": 4,
 "nbformat_minor": 0
}
