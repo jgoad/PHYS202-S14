{
 "cells": [
  {
   "cell_type": "markdown",
   "metadata": {},
   "source": [
    "# Largest palindrome product"
   ]
  },
  {
   "cell_type": "markdown",
   "metadata": {},
   "source": [
    "A palindromic number reads the same both ways. The largest palindrome made from the product of two 2-digit numbers is 9009 = 91 × 99.\n",
    "\n",
    "Find the largest palindrome made from the product of two 3-digit numbers."
   ]
  },
  {
   "cell_type": "code",
   "execution_count": 4,
   "metadata": {
    "collapsed": false
   },
   "outputs": [
    {
     "name": "stdout",
     "output_type": "stream",
     "text": [
      "9009\n"
     ]
    }
   ],
   "source": [
    "i=range(10,100)\n",
    "j=range(10,100)\n",
    "lst =[]\n",
    "for numi in i:\n",
    "    for numj in j:\n",
    "        lst.append(numi*numj)\n",
    "for numj in j:\n",
    "    for numi in i:\n",
    "        lst.append(numi*numj)\n",
    "max = 0\n",
    "for num in lst:\n",
    "    forw = str(num)\n",
    "    backw = ''\n",
    "    for char in reversed(forw):\n",
    "        backw += char\n",
    "    if forw == backw:\n",
    "        if int(forw) > max:\n",
    "            max = int(forw)\n",
    "print(max)"
   ]
  },
  {
   "cell_type": "code",
   "execution_count": 48,
   "metadata": {
    "collapsed": false
   },
   "outputs": [
    {
     "name": "stdout",
     "output_type": "stream",
     "text": [
      "906609\n"
     ]
    }
   ],
   "source": [
    "i=range(100,1000)\n",
    "j=range(100,1000)\n",
    "lst =[]\n",
    "for numi in i:\n",
    "    for numj in j:\n",
    "       lst.append(numi*numj)\n",
    "for numj in j:\n",
    "    for numi in i:\n",
    "        lst.append(numi*numj)\n",
    "\n",
    "max = 0\n",
    "for num in lst:\n",
    "    forw = str(num)\n",
    "    backw = ''\n",
    "    for char in reversed(forw):\n",
    "        backw += char\n",
    "    if forw == backw:\n",
    "        if int(forw) > max:\n",
    "            max = int(forw)\n",
    "print max"
   ]
  },
  {
   "cell_type": "code",
   "execution_count": null,
   "metadata": {
    "collapsed": false
   },
   "outputs": [],
   "source": []
  }
 ],
 "metadata": {
  "kernelspec": {
   "display_name": "Python 3",
   "language": "python",
   "name": "python3"
  },
  "language_info": {
   "codemirror_mode": {
    "name": "ipython",
    "version": 3
   },
   "file_extension": ".py",
   "mimetype": "text/x-python",
   "name": "python",
   "nbconvert_exporter": "python",
   "pygments_lexer": "ipython3",
   "version": "3.4.0"
  }
 },
 "nbformat": 4,
 "nbformat_minor": 0
}
