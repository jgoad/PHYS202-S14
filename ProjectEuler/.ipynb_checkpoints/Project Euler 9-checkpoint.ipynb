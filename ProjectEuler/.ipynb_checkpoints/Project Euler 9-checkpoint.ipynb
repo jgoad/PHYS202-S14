{
 "cells": [
  {
   "cell_type": "code",
   "execution_count": 17,
   "metadata": {
    "collapsed": false
   },
   "outputs": [
    {
     "name": "stdout",
     "output_type": "stream",
     "text": [
      "200 375 425\n",
      "31875000\n"
     ]
    }
   ],
   "source": [
    "def func1():\n",
    "    for a in range(1000):\n",
    "        for b in range(a+1,1000):\n",
    "            for c in range(b+1,1000):\n",
    "                if a**2+b**2 == c**2 and a+b+c == 1000:\n",
    "                    print a, b, c\n",
    "                    print a*b*c\n",
    "                    return\n",
    "func1()"
   ]
  },
  {
   "cell_type": "markdown",
   "metadata": {},
   "source": [
    "But we know something about c via basic algebra...\n",
    "\n",
    "a + b + c = 1000 -> c = 1000 - (a+b)"
   ]
  },
  {
   "cell_type": "code",
   "execution_count": 18,
   "metadata": {
    "collapsed": false
   },
   "outputs": [
    {
     "name": "stdout",
     "output_type": "stream",
     "text": [
      "200 375 425\n",
      "31875000\n"
     ]
    }
   ],
   "source": [
    "def func2():\n",
    "    for a in range(1,1000):\n",
    "        for b in range(a+1,1000):\n",
    "            c = 1000 - (a+b)\n",
    "            if a**2+b**2 == c**2 and a+b+c == 1000:\n",
    "                print a, b, c\n",
    "                print a*b*c\n",
    "                return\n",
    "func2()"
   ]
  }
 ],
 "metadata": {
  "kernelspec": {
   "display_name": "Python 2",
   "language": "python",
   "name": "python2"
  },
  "language_info": {
   "codemirror_mode": {
    "name": "ipython",
    "version": 2
   },
   "file_extension": ".py",
   "mimetype": "text/x-python",
   "name": "python",
   "nbconvert_exporter": "python",
   "pygments_lexer": "ipython2",
   "version": "2.7.6"
  }
 },
 "nbformat": 4,
 "nbformat_minor": 0
}
