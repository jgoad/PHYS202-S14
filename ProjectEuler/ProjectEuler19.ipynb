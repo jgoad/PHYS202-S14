{
 "metadata": {
  "name": "",
  "signature": "sha256:c6193351fda1b80cf0d03877e43358886a425fdfc9f5c9bade2e7ddced9496a8"
 },
 "nbformat": 3,
 "nbformat_minor": 0,
 "worksheets": [
  {
   "cells": [
    {
     "cell_type": "raw",
     "metadata": {},
     "source": [
      "You are given the following information, but you may prefer to do some research for yourself.\n",
      "\n",
      "1 Jan 1900 was a Monday.\n",
      "Thirty days has September,\n",
      "April, June and November.\n",
      "All the rest have thirty-one,\n",
      "Saving February alone,\n",
      "Which has twenty-eight, rain or shine.\n",
      "And on leap years, twenty-nine.\n",
      "A leap year occurs on any year evenly divisible by 4, but not on a century unless it is divisible by 400.\n",
      "\n",
      "\n",
      "How many Sundays fell on the first of the month during the twentieth century (1 Jan 1901 to 31 Dec 2000)?"
     ]
    },
    {
     "cell_type": "code",
     "collapsed": false,
     "input": [
      "import calendar\n",
      "\n",
      "cal = calendar.month(2008, 1)\n",
      "j = cal.index('Mo')\n",
      "cal = cal[j:]\n",
      "print cal;"
     ],
     "language": "python",
     "metadata": {},
     "outputs": [
      {
       "output_type": "stream",
       "stream": "stdout",
       "text": [
        "Mo Tu We Th Fr Sa Su\n",
        "    1  2  3  4  5  6\n",
        " 7  8  9 10 11 12 13\n",
        "14 15 16 17 18 19 20\n",
        "21 22 23 24 25 26 27\n",
        "28 29 30 31\n",
        "\n"
       ]
      }
     ],
     "prompt_number": 96
    },
    {
     "cell_type": "code",
     "collapsed": false,
     "input": [
      "j = cal.index('Mo')\n",
      "print cal[j:]"
     ],
     "language": "python",
     "metadata": {},
     "outputs": [
      {
       "output_type": "stream",
       "stream": "stdout",
       "text": [
        "Mo Tu We Th Fr Sa Su\n",
        "    1  2  3  4  5  6\n",
        " 7  8  9 10 11 12 13\n",
        "14 15 16 17 18 19 20\n",
        "21 22 23 24 25 26 27\n",
        "28 29 30 31\n",
        "\n"
       ]
      }
     ],
     "prompt_number": 97
    },
    {
     "cell_type": "code",
     "collapsed": false,
     "input": [
      "cal =  cal = calendar.month(1996, 12)\n",
      "j = cal.index('Mo')\n",
      "cal = cal[j:]\n",
      "print cal"
     ],
     "language": "python",
     "metadata": {},
     "outputs": [
      {
       "output_type": "stream",
       "stream": "stdout",
       "text": [
        "Mo Tu We Th Fr Sa Su\n",
        "                   1\n",
        " 2  3  4  5  6  7  8\n",
        " 9 10 11 12 13 14 15\n",
        "16 17 18 19 20 21 22\n",
        "23 24 25 26 27 28 29\n",
        "30 31\n",
        "\n"
       ]
      }
     ],
     "prompt_number": 98
    },
    {
     "cell_type": "code",
     "collapsed": false,
     "input": [
      "i = cal.index(\"Su\")\n",
      "k = cal.index('1')\n",
      "k-i"
     ],
     "language": "python",
     "metadata": {},
     "outputs": [
      {
       "metadata": {},
       "output_type": "pyout",
       "prompt_number": 99,
       "text": [
        "22"
       ]
      }
     ],
     "prompt_number": 99
    },
    {
     "cell_type": "markdown",
     "metadata": {},
     "source": [
      "**Solution:**"
     ]
    },
    {
     "cell_type": "code",
     "collapsed": false,
     "input": [
      "import calendar\n",
      "years = range(1901,2001)\n",
      "months = range(1,13)\n",
      "count = 0\n",
      "runs = 0\n",
      "for month in months:\n",
      "    for year in years:\n",
      "        cal = calendar.month(year, month)\n",
      "        j = cal.index('Mo')\n",
      "        cal = cal[j:]\n",
      "        i = cal.index('Su')\n",
      "        k = cal.index('1')\n",
      "        runs +=1\n",
      "        if k - i == 22:\n",
      "            count +=1\n",
      "print \"There were\", count, \"Sundays that fell on the first of the month in the last century\""
     ],
     "language": "python",
     "metadata": {},
     "outputs": [
      {
       "output_type": "stream",
       "stream": "stdout",
       "text": [
        "There were 171 Sundays that fell on the first of the month in the last century\n"
       ]
      }
     ],
     "prompt_number": 100
    },
    {
     "cell_type": "code",
     "collapsed": false,
     "input": [],
     "language": "python",
     "metadata": {},
     "outputs": []
    }
   ],
   "metadata": {}
  }
 ]
}