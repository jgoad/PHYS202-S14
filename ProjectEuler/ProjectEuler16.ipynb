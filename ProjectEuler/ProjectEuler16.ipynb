{
 "metadata": {
  "name": "",
  "signature": "sha256:ab1f7ced2856230e2dd903c8ec4e6336adab4b004c3ead3bb28e6e48cef36fd1"
 },
 "nbformat": 3,
 "nbformat_minor": 0,
 "worksheets": [
  {
   "cells": [
    {
     "cell_type": "code",
     "collapsed": false,
     "input": [
      "num = 2**1000\n",
      "string = str(num)\n",
      "i=0\n",
      "sm = 0\n",
      "while i < len(string):\n",
      "    sm += int(string[i])\n",
      "    i +=1\n",
      "print sm"
     ],
     "language": "python",
     "metadata": {},
     "outputs": [
      {
       "output_type": "stream",
       "stream": "stdout",
       "text": [
        "1366\n"
       ]
      }
     ],
     "prompt_number": 2
    },
    {
     "cell_type": "code",
     "collapsed": false,
     "input": [],
     "language": "python",
     "metadata": {},
     "outputs": []
    }
   ],
   "metadata": {}
  }
 ]
}