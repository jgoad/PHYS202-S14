{
 "metadata": {
  "name": "",
  "signature": "sha256:adb15b6bd7f49264b9a04475e03cc8baee56424c4cd061b16fadab17f720ae14"
 },
 "nbformat": 3,
 "nbformat_minor": 0,
 "worksheets": [
  {
   "cells": [
    {
     "cell_type": "code",
     "collapsed": false,
     "input": [
      "num = 2**1000\n",
      "string = str(num)\n",
      "i=0\n",
      "sm = 0\n",
      "while i < len(string):\n",
      "    sm += int(string[i])\n",
      "    i +=1\n",
      "print sm"
     ],
     "language": "python",
     "metadata": {},
     "outputs": [
      {
       "output_type": "stream",
       "stream": "stdout",
       "text": [
        "1366\n"
       ]
      }
     ],
     "prompt_number": 12
    }
   ],
   "metadata": {}
  }
 ]
}