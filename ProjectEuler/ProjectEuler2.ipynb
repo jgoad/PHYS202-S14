{
 "metadata": {
  "name": "",
  "signature": "sha256:024b3d7fea9700d85dc3c299eaf5f74762c23751d3cb512e5faca295d01c6f26"
 },
 "nbformat": 3,
 "nbformat_minor": 0,
 "worksheets": [
  {
   "cells": [
    {
     "cell_type": "code",
     "collapsed": false,
     "input": [
      "fibo = [1,2]\n",
      "i = 1\n",
      "while fibo[i] < 4000000:\n",
      "    fibo.append(fibo[i]+fibo[i-1])\n",
      "    i += 1\n",
      "fibo.remove(fibo[i])#because the above while loop over counts\n",
      "fibo_even = []\n",
      "for num in fibo:\n",
      "    if num %2 == 0:\n",
      "        fibo_even.append(num)\n",
      "        \n",
      "print fibo_even\n",
      "#for some reason the contrapositive, \"for num in fibo: if num %2 !=0: fibo.remove(num)\" doesn't work!"
     ],
     "language": "python",
     "metadata": {},
     "outputs": [
      {
       "output_type": "stream",
       "stream": "stdout",
       "text": [
        "[2, 8, 34, 144, 610, 2584, 10946, 46368, 196418, 832040, 3524578]\n"
       ]
      }
     ],
     "prompt_number": 1
    },
    {
     "cell_type": "code",
     "collapsed": false,
     "input": [
      "sum = 0\n",
      "for num in fibo_even:\n",
      "    sum +=num\n",
      "sum"
     ],
     "language": "python",
     "metadata": {},
     "outputs": [
      {
       "metadata": {},
       "output_type": "pyout",
       "prompt_number": 2,
       "text": [
        "4613732"
       ]
      }
     ],
     "prompt_number": 2
    },
    {
     "cell_type": "code",
     "collapsed": false,
     "input": [],
     "language": "python",
     "metadata": {},
     "outputs": []
    }
   ],
   "metadata": {}
  }
 ]
}