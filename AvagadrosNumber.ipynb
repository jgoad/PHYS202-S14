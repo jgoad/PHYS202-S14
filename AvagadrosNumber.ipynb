{
 "metadata": {
  "name": "",
  "signature": "sha256:4851df43ff41dd6049e820cbeef425cfdacc66dc841cc63430aee9a1582318e2"
 },
 "nbformat": 3,
 "nbformat_minor": 0,
 "worksheets": [
  {
   "cells": [
    {
     "cell_type": "code",
     "collapsed": false,
     "input": [
      "%pylab inline\n",
      "import numpy as np\n",
      "import matplotlib.pyplot as plt\n",
      "from PIL import Image\n",
      "import requests\n",
      "from StringIO import StringIO"
     ],
     "language": "python",
     "metadata": {},
     "outputs": [
      {
       "output_type": "stream",
       "stream": "stdout",
       "text": [
        "Populating the interactive namespace from numpy and matplotlib\n"
       ]
      },
      {
       "output_type": "stream",
       "stream": "stderr",
       "text": [
        "WARNING: pylab import has clobbered these variables: ['fill']\n",
        "`%matplotlib` prevents importing * from pylab and numpy\n"
       ]
      }
     ],
     "prompt_number": 79
    },
    {
     "cell_type": "code",
     "collapsed": false,
     "input": [
      "def brightest(picture):\n",
      "    \"\"\"add up each pixel's color values \n",
      "    to approximate its overall luminance\"\"\"\n",
      "    xsize, ysize = picture.size\n",
      "    bx, by, max_val = 0, 0, 0\n",
      "    for x in range(xsize):\n",
      "        for y in range(ysize):\n",
      "            r,g,b = pic.getpixel((x,y))\n",
      "            if r+g+b > max_val:\n",
      "                bx, by, max_val = x, y, r+g+b\n",
      "    return (bx, by), max_val"
     ],
     "language": "python",
     "metadata": {},
     "outputs": [],
     "prompt_number": 80
    },
    {
     "cell_type": "code",
     "collapsed": false,
     "input": [
      "from time import time\n",
      "def elapsed(func, picture):\n",
      "    \"\"\"takes a function and a picture as arguments, \n",
      "    applies the function to the picture, and returns \n",
      "    the elapsed time along with whatever the function \n",
      "    itself returned.\"\"\"    \n",
      "    start = time()\n",
      "    result = func(picture)\n",
      "    return time() - start, result"
     ],
     "language": "python",
     "metadata": {},
     "outputs": [],
     "prompt_number": 81
    },
    {
     "cell_type": "code",
     "collapsed": false,
     "input": [
      "def faster(picture):\n",
      "    \"\"\"This function, 'faster', uses \n",
      "    'picture.getdata' to unpack the \n",
      "    row-and-column representation of the \n",
      "    image to create a vector of pixels, \n",
      "    and then loops over that.\"\"\"\n",
      "    max_val = 0\n",
      "    for (r,g,b) in picture.getdata():\n",
      "        if r+g+b > max_val:\n",
      "            max_val = r + g + b\n",
      "    return max_val"
     ],
     "language": "python",
     "metadata": {},
     "outputs": [],
     "prompt_number": 82
    },
    {
     "cell_type": "code",
     "collapsed": false,
     "input": [
      "def monochrome(picture, threshold):\n",
      "    \"\"\"loops over the pixels in the loaded image, \n",
      "    replacing the RGB values of each with either \n",
      "    black or white depending on whether its total \n",
      "    luminance is above or below some threshold \n",
      "    passed in by the user\"\"\"\n",
      "    black = (0, 0, 0)\n",
      "    white = (255, 255, 255)\n",
      "    xsize, ysize = picture.size\n",
      "    temp = picture.load()\n",
      "    for x in range(xsize):\n",
      "        for y in range(ysize):\n",
      "            r,g,b = temp[x,y]\n",
      "            if r+g+b >= threshold: \n",
      "                temp[x,y] = black\n",
      "            else:\n",
      "                temp[x,y] = white"
     ],
     "language": "python",
     "metadata": {},
     "outputs": [],
     "prompt_number": 83
    },
    {
     "cell_type": "code",
     "collapsed": false,
     "input": [
      "BLACK = (0,0,0)\n",
      "RED = (255,0,0)\n",
      "#Modified to accept which fillfunction to use\n",
      "def count(picture,fillfunc):\n",
      "    \"\"\"scan the image top to bottom and left to right using a nested loop.\n",
      "    when black pixel is found, increment the count, then call the fill\n",
      "    function to fill in all the pixels connected to that one.\"\"\"\n",
      "    xsize, ysize = picture.size\n",
      "    temp = picture.load()\n",
      "    result = 0\n",
      "    for x in range(xsize):\n",
      "        for y in range(ysize):\n",
      "            if temp[x,y] == BLACK:\n",
      "                result += 1\n",
      "                fillfunc(temp,xsize,ysize,x,y)\n",
      "    return result"
     ],
     "language": "python",
     "metadata": {},
     "outputs": [],
     "prompt_number": 84
    },
    {
     "cell_type": "code",
     "collapsed": false,
     "input": [
      "def fill(picture, xsize, ysize, xstart, ystart):\n",
      "    \"\"\"keep a list of pixels that need to be looked at, \n",
      "    but haven't yet been filled in - a list of the (x,y) \n",
      "    coordinates of pixels that are neighbors of ones we have \n",
      "    already examined.  Keep looping until there's nothing \n",
      "    left in this list\"\"\"\n",
      "    queue = [(xstart,ystart)]\n",
      "    while queue:\n",
      "        x,y,queue = queue[0][0], queue[0][1], queue[1:]\n",
      "        if picture[x,y] == BLACK:\n",
      "            picture[x,y] = RED\n",
      "            if x > 0:\n",
      "                queue.append((x-1,y))\n",
      "            if x < (xsize-1):\n",
      "                queue.append((x+1,y))\n",
      "            if y > 0:\n",
      "                queue.append((x, y-1))\n",
      "            if y < (ysize-1):\n",
      "                queue.append((x, y+1))"
     ],
     "language": "python",
     "metadata": {},
     "outputs": [],
     "prompt_number": 85
    },
    {
     "cell_type": "code",
     "collapsed": false,
     "input": [
      "def recfill(picture, xsize, ysize, x, y):\n",
      "    \"\"\"each call to 'fillrec' takes care of one pixel, \n",
      "    then calls 'fillrec' again to take care of the neighbors\"\"\"\n",
      "    if picture[x,y] != BLACK:\n",
      "        return\n",
      "    picture[x,y] = RED\n",
      "    if x > 0:\n",
      "        recfill(picture, xsize, ysize, x-1, y)\n",
      "    if x < (xsize-1):\n",
      "        recfill(picture, xsize, ysize, x+1, y)\n",
      "    if y > 0:\n",
      "        recfill(picture, xsize, ysize, x, y-1)\n",
      "    if y < (ysize-1):\n",
      "        recfill(picture, xsize, ysize, x, y+1)"
     ],
     "language": "python",
     "metadata": {},
     "outputs": [],
     "prompt_number": 86
    },
    {
     "cell_type": "code",
     "collapsed": false,
     "input": [
      "import os\n",
      "def fetchimg(name):\n",
      "    pic = Image.open(os.getcwd() + '\\\\run9\\\\' + name)\n",
      "    return pic"
     ],
     "language": "python",
     "metadata": {},
     "outputs": [],
     "prompt_number": 87
    },
    {
     "cell_type": "code",
     "collapsed": false,
     "input": [
      "#Useful for resetting images\n",
      "def resetimg(imgname,threshold):\n",
      "    '''re-fetch and monochrome\n",
      "    an image\n",
      "    '''\n",
      "    picture = fetchimg(imgname)\n",
      "    monochrome(picture,threshold)\n",
      "    return picture"
     ],
     "language": "python",
     "metadata": {},
     "outputs": [],
     "prompt_number": 88
    },
    {
     "cell_type": "code",
     "collapsed": false,
     "input": [
      "def fastfill(picture, xsize, ysize, xstart, ystart):\n",
      "    \"\"\"keep a list of pixels that need to be looked at, \n",
      "    but haven't yet been filled in - a list of the (x,y) \n",
      "    coordinates of pixels that are neighbors of ones we have \n",
      "    already examined.  Only look at neighbors if they haven't\n",
      "    yet been filled in.  Keep looping until there's nothing \n",
      "    left in this list.\n",
      "    Not much faster than fill\"\"\"\n",
      "    queue = [(xstart,ystart)]\n",
      "    while queue:\n",
      "        x,y,queue = queue[0][0], queue[0][1], queue[1:]\n",
      "        picture[x,y] = RED\n",
      "        if x > 0 and picture[x-1,y] == BLACK:\n",
      "            picture[x-1,y] = RED\n",
      "            queue.append((x-1,y))\n",
      "        if x < (xsize-1) and picture[x+1,y] == BLACK:\n",
      "            picture[x+1,y] = RED\n",
      "            queue.append((x+1,y))\n",
      "        if y > 0 and picture[x,y-1] == BLACK:\n",
      "            picture[x,y-1] = RED\n",
      "            queue.append((x, y-1))\n",
      "        if y < (ysize-1) and picture[x,y+1] == BLACK:\n",
      "            picture[x,y+1] = RED\n",
      "            queue.append((x, y+1))"
     ],
     "language": "python",
     "metadata": {},
     "outputs": [],
     "prompt_number": 89
    },
    {
     "cell_type": "code",
     "collapsed": false,
     "input": [
      "#Need to modify elapsed as well.  count already modified above\n",
      "def elapsed(func, fillfunc, picture):\n",
      "    \"\"\"takes a function and a picture as arguments, \n",
      "    applies the function to the picture, and returns \n",
      "    the elapsed time along with whatever the function \n",
      "    itself returned.\"\"\"    \n",
      "    start = time()\n",
      "    result = func(picture,fillfunc)\n",
      "    return time() - start, result"
     ],
     "language": "python",
     "metadata": {},
     "outputs": [],
     "prompt_number": 90
    },
    {
     "cell_type": "code",
     "collapsed": false,
     "input": [
      "def count2(picture,fillfunc):\n",
      "    \"\"\"scan the image top to bottom and left to right using a nested loop.\n",
      "    when non-black pixel is found, increment the count, then call the fill\n",
      "    function to fill in all the pixels connected to that one.  \n",
      "    \n",
      "    Return the count plus a list of star brightest pixel locations and value\"\"\"\n",
      "    xsize, ysize = picture.size\n",
      "    temp = picture.load()\n",
      "    result = 0\n",
      "    #a list of stars' max pixel locations and values\n",
      "    starlist = []\n",
      "    for x in range(xsize):\n",
      "        for y in range(ysize):\n",
      "            if temp[x,y] > BLACK:\n",
      "                result += 1\n",
      "                x,y,max_val = fillfunc(temp,xsize,ysize,x,y)\n",
      "                starlist.append((x,y,max_val))\n",
      "    return result,starlist"
     ],
     "language": "python",
     "metadata": {},
     "outputs": [],
     "prompt_number": 91
    },
    {
     "cell_type": "code",
     "collapsed": false,
     "input": [
      "def fill2(picture, xsize, ysize, xstart, ystart):\n",
      "    \"\"\"keep a list of pixels that need to be looked at, \n",
      "    but haven't yet been filled in - a list of the (x,y) \n",
      "    coordinates of pixels that are neighbors of ones we have \n",
      "    already examined.  Keep looping until there's nothing \n",
      "    left in this list\"\"\"\n",
      "    maxx,maxy,maxval = 0,0,0\n",
      "    queue = [(xstart,ystart)]\n",
      "    while queue:\n",
      "        x,y,queue = queue[0][0], queue[0][1], queue[1:]\n",
      "        r,g,b = picture[x,y]\n",
      "        if (r+g+b > maxval):\n",
      "            maxx,maxy,maxval = x,y,r+g+b\n",
      "        if (r,g,b) > BLACK:\n",
      "            picture[x,y] = BLACK\n",
      "            if x > 0:\n",
      "                queue.append((x-1,y))\n",
      "            if x < (xsize-1):\n",
      "                queue.append((x+1,y))\n",
      "            if y > 0:\n",
      "                queue.append((x, y-1))\n",
      "            if y < (ysize-1):\n",
      "                queue.append((x, y+1))\n",
      "    return maxx,maxy,maxval"
     ],
     "language": "python",
     "metadata": {},
     "outputs": [],
     "prompt_number": 92
    },
    {
     "cell_type": "code",
     "collapsed": false,
     "input": [
      "def imagecut(picture, threshold):\n",
      "    \"\"\"loops over the pixels in the loaded image, \n",
      "    replacing the RGB values of a pixel with black \n",
      "    (0,0,0) depending on whether its total \n",
      "    luminance is above or below some threshold \n",
      "    passed in by the user\"\"\"\n",
      "    black = (0, 0, 0)\n",
      "    xsize, ysize = picture.size\n",
      "    temp = picture.load()\n",
      "    for x in range(xsize):\n",
      "        for y in range(ysize):\n",
      "            r,g,b = temp[x,y]\n",
      "            if r+g+b < threshold: \n",
      "                temp[x,y] = black"
     ],
     "language": "python",
     "metadata": {},
     "outputs": [],
     "prompt_number": 93
    },
    {
     "cell_type": "code",
     "collapsed": false,
     "input": [
      "def resetimg2(imgname,threshold):\n",
      "    '''re-fetch and cut image\n",
      "    '''\n",
      "    picture = fetchimg(imgname)\n",
      "    imagecut(picture,threshold)\n",
      "    return picture"
     ],
     "language": "python",
     "metadata": {},
     "outputs": [],
     "prompt_number": 94
    },
    {
     "cell_type": "code",
     "collapsed": false,
     "input": [
      "def analyzepic(imgname,outname):\n",
      "    threshold = 600\n",
      "    fillfunc = 'fill2'\n",
      "    picture = resetimg2(imgname,threshold)\n",
      "    proctime, result = elapsed(count2,fill2,picture)\n",
      "    #print proctime, result[0]\n",
      "    stars = np.array(result[1])\n",
      "    myheader = \"\\n Image file: %s\\n Applied threshold: %d\\n Algorithm used: %s \\\n",
      "                \\n Processing time: %.6f (s)\\n Particle count: %d\\n Location (x,y) and max luminance:\\n\" \\\n",
      "                %(imgname,threshold,fillfunc,proctime,result[0])\n",
      "    np.savetxt(outname,stars,fmt=('%3i\\t'*3),header=myheader)"
     ],
     "language": "python",
     "metadata": {},
     "outputs": [],
     "prompt_number": 104
    },
    {
     "cell_type": "code",
     "collapsed": false,
     "input": [
      "imgnames = []\n",
      "numstr = []\n",
      "basefilename = 'frame00000'\n",
      "for i in range(0,200):\n",
      "    numstr.append(str(i))\n",
      "for num in numstr:\n",
      "    imgnames.append('ftp://ftp.cs.princeton.edu/pub/cs126/atomic/run_9/'+basefilename[0:len(basefilename)-len(num)]+num+'.jpg')"
     ],
     "language": "python",
     "metadata": {},
     "outputs": [],
     "prompt_number": 96
    },
    {
     "cell_type": "code",
     "collapsed": false,
     "input": [
      "import os\n",
      "from os import listdir\n",
      "imgnames = os.listdir('run9')"
     ],
     "language": "python",
     "metadata": {},
     "outputs": [],
     "prompt_number": 105
    },
    {
     "cell_type": "code",
     "collapsed": false,
     "input": [
      "analyzepic(imgnames[0],'ANtest.txt')"
     ],
     "language": "python",
     "metadata": {},
     "outputs": [],
     "prompt_number": 109
    },
    {
     "cell_type": "code",
     "collapsed": false,
     "input": [
      "!more ANtest.txt"
     ],
     "language": "python",
     "metadata": {},
     "outputs": [
      {
       "output_type": "stream",
       "stream": "stdout",
       "text": [
        "# \n",
        "#  Image file: frame00000.jpg\n",
        "#  Applied threshold: 600\n",
        "#  Algorithm used: fill2                 \n",
        "#  Processing time: 0.073000 (s)\n",
        "#  Particle count: 10\n",
        "#  Location (x,y) and max luminance:\n",
        "# \n",
        " 73     463     650     \n",
        " 82     308     764     \n",
        "205     478     764     \n",
        "244     294     728     \n",
        "254     223     635     \n",
        "260     452     764     \n",
        "313      93     763     \n",
        "344     235     764     \n",
        "481     319     764     \n",
        "490     153     764     \n"
       ]
      }
     ],
     "prompt_number": 110
    },
    {
     "cell_type": "code",
     "collapsed": false,
     "input": [
      "analyzepic(imgnames[1],'ANtest.txt')"
     ],
     "language": "python",
     "metadata": {},
     "outputs": [],
     "prompt_number": 111
    },
    {
     "cell_type": "code",
     "collapsed": false,
     "input": [
      "!more ANtest.txt"
     ],
     "language": "python",
     "metadata": {},
     "outputs": [
      {
       "output_type": "stream",
       "stream": "stdout",
       "text": [
        "# \n",
        "#  Image file: frame00001.jpg\n",
        "#  Applied threshold: 600\n",
        "#  Algorithm used: fill2                 \n",
        "#  Processing time: 0.072000 (s)\n",
        "#  Particle count: 10\n",
        "#  Location (x,y) and max luminance:\n",
        "# \n",
        " 80     310     764     \n",
        "203     475     764     \n",
        "240     297     764     \n",
        "254     223     647     \n",
        "258     450     662     \n",
        "309      95     764     \n",
        "345     233     764     \n",
        "483     318     764     \n",
        "491     152     764     \n",
        "583     477     764     \n"
       ]
      }
     ],
     "prompt_number": 112
    },
    {
     "cell_type": "markdown",
     "metadata": {},
     "source": [
      "Got Dr. Klay's \"Counting Stars\" working with the image files. Works perfectly for counting blobs. Next is going to be figuring out how to determine the speed each particle is moving..."
     ]
    }
   ],
   "metadata": {}
  }
 ]
}