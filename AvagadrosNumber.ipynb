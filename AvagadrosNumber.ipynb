{
 "metadata": {
  "name": "",
  "signature": "sha256:59cfffd573f8c09934968d84e9aa1e197bc2842508f55a54106baf42bb66fa82"
 },
 "nbformat": 3,
 "nbformat_minor": 0,
 "worksheets": [
  {
   "cells": [
    {
     "cell_type": "code",
     "collapsed": false,
     "input": [
      "%pylab inline\n",
      "import numpy as np\n",
      "import matplotlib.pyplot as plt\n",
      "from PIL import Image\n",
      "import requests\n",
      "from StringIO import StringIO"
     ],
     "language": "python",
     "metadata": {},
     "outputs": [
      {
       "output_type": "stream",
       "stream": "stdout",
       "text": [
        "Populating the interactive namespace from numpy and matplotlib\n"
       ]
      }
     ],
     "prompt_number": 33
    },
    {
     "cell_type": "code",
     "collapsed": false,
     "input": [
      "def brightest(picture):\n",
      "    \"\"\"add up each pixel's color values \n",
      "    to approximate its overall luminance\"\"\"\n",
      "    xsize, ysize = picture.size\n",
      "    bx, by, max_val = 0, 0, 0\n",
      "    for x in range(xsize):\n",
      "        for y in range(ysize):\n",
      "            r,g,b = pic.getpixel((x,y))\n",
      "            if r+g+b > max_val:\n",
      "                bx, by, max_val = x, y, r+g+b\n",
      "    return (bx, by), max_val"
     ],
     "language": "python",
     "metadata": {},
     "outputs": [],
     "prompt_number": 34
    },
    {
     "cell_type": "code",
     "collapsed": false,
     "input": [
      "from time import time\n",
      "def elapsed(func, picture):\n",
      "    \"\"\"takes a function and a picture as arguments, \n",
      "    applies the function to the picture, and returns \n",
      "    the elapsed time along with whatever the function \n",
      "    itself returned.\"\"\"    \n",
      "    start = time()\n",
      "    result = func(picture)\n",
      "    return time() - start, result"
     ],
     "language": "python",
     "metadata": {},
     "outputs": [],
     "prompt_number": 35
    },
    {
     "cell_type": "code",
     "collapsed": false,
     "input": [
      "import os\n",
      "def fetchimg(name):\n",
      "    pic = Image.open(os.getcwd() + '\\\\run9\\\\' + name)\n",
      "    return pic"
     ],
     "language": "python",
     "metadata": {},
     "outputs": [],
     "prompt_number": 36
    },
    {
     "cell_type": "code",
     "collapsed": false,
     "input": [
      "#Useful for resetting images\n",
      "def resetimg(imgname,threshold):\n",
      "    '''re-fetch and monochrome\n",
      "    an image\n",
      "    '''\n",
      "    picture = fetchimg(imgname)\n",
      "    monochrome(picture,threshold)\n",
      "    return picture"
     ],
     "language": "python",
     "metadata": {},
     "outputs": [],
     "prompt_number": 37
    },
    {
     "cell_type": "code",
     "collapsed": false,
     "input": [
      "def fastfill(picture, xsize, ysize, xstart, ystart):\n",
      "    \"\"\"keep a list of pixels that need to be looked at, \n",
      "    but haven't yet been filled in - a list of the (x,y) \n",
      "    coordinates of pixels that are neighbors of ones we have \n",
      "    already examined.  Only look at neighbors if they haven't\n",
      "    yet been filled in.  Keep looping until there's nothing \n",
      "    left in this list.\n",
      "    Not much faster than fill\"\"\"\n",
      "    queue = [(xstart,ystart)]\n",
      "    while queue:\n",
      "        x,y,queue = queue[0][0], queue[0][1], queue[1:]\n",
      "        picture[x,y] = RED\n",
      "        if x > 0 and picture[x-1,y] == BLACK:\n",
      "            picture[x-1,y] = RED\n",
      "            queue.append((x-1,y))\n",
      "        if x < (xsize-1) and picture[x+1,y] == BLACK:\n",
      "            picture[x+1,y] = RED\n",
      "            queue.append((x+1,y))\n",
      "        if y > 0 and picture[x,y-1] == BLACK:\n",
      "            picture[x,y-1] = RED\n",
      "            queue.append((x, y-1))\n",
      "        if y < (ysize-1) and picture[x,y+1] == BLACK:\n",
      "            picture[x,y+1] = RED\n",
      "            queue.append((x, y+1))"
     ],
     "language": "python",
     "metadata": {},
     "outputs": [],
     "prompt_number": 38
    },
    {
     "cell_type": "code",
     "collapsed": false,
     "input": [
      "#Need to modify elapsed as well.  count already modified above\n",
      "def elapsed(func, fillfunc, picture):\n",
      "    \"\"\"takes a function and a picture as arguments, \n",
      "    applies the function to the picture, and returns \n",
      "    the elapsed time along with whatever the function \n",
      "    itself returned.\"\"\"    \n",
      "    start = time()\n",
      "    result = func(picture,fillfunc)\n",
      "    return time() - start, result"
     ],
     "language": "python",
     "metadata": {},
     "outputs": [],
     "prompt_number": 39
    },
    {
     "cell_type": "code",
     "collapsed": false,
     "input": [
      "def count2(picture,fillfunc):\n",
      "    \"\"\"scan the image top to bottom and left to right using a nested loop.\n",
      "    when non-black pixel is found, increment the count, then call the fill\n",
      "    function to fill in all the pixels connected to that one.  \n",
      "    Return the count plus a list of star brightest pixel locations and value\"\"\"\n",
      "    BLACK = (0,0,0)\n",
      "    xsize, ysize = picture.size\n",
      "    temp = picture.load()\n",
      "    result = 0\n",
      "    #a list of stars' max pixel locations and values\n",
      "    starlist = []\n",
      "    for x in range(xsize):\n",
      "        for y in range(ysize):\n",
      "            if temp[x,y] > BLACK:\n",
      "                result += 1\n",
      "                x,y,max_val = fillfunc(temp,xsize,ysize,x,y)\n",
      "                starlist.append((x,y,max_val))\n",
      "    return result,starlist"
     ],
     "language": "python",
     "metadata": {},
     "outputs": [],
     "prompt_number": 40
    },
    {
     "cell_type": "code",
     "collapsed": false,
     "input": [
      "def fill2(picture, xsize, ysize, xstart, ystart):\n",
      "    \"\"\"keep a list of pixels that need to be looked at, \n",
      "    but haven't yet been filled in - a list of the (x,y) \n",
      "    coordinates of pixels that are neighbors of ones we have \n",
      "    already examined.  Keep looping until there's nothing \n",
      "    left in this list\"\"\"\n",
      "    BLACK = (0,0,0)\n",
      "    mass = 0\n",
      "    maxx,maxy,maxval = 0,0,0\n",
      "    queue = [(xstart,ystart)]\n",
      "    while queue:\n",
      "        x,y,queue = queue[0][0], queue[0][1], queue[1:]\n",
      "        r,g,b = picture[x,y]\n",
      "        if (r+g+b > maxval):\n",
      "            maxx,maxy,maxval,mass = x,y,r+g+b,mass+1\n",
      "        if (r,g,b) > BLACK:\n",
      "            picture[x,y] = BLACK\n",
      "            if x > 0:\n",
      "                queue.append((x-1,y))\n",
      "            if x < (xsize-1):\n",
      "                queue.append((x+1,y))\n",
      "            if y > 0:\n",
      "                queue.append((x, y-1))\n",
      "            if y < (ysize-1):\n",
      "                queue.append((x, y+1))\n",
      "    return maxx,maxy,maxval"
     ],
     "language": "python",
     "metadata": {},
     "outputs": [],
     "prompt_number": 41
    },
    {
     "cell_type": "code",
     "collapsed": false,
     "input": [
      "def imagecut(picture, threshold):\n",
      "    \"\"\"loops over the pixels in the loaded image, \n",
      "    replacing the RGB values of a pixel with black \n",
      "    (0,0,0) depending on whether its total \n",
      "    luminance is above or below some threshold \n",
      "    passed in by the user\"\"\"\n",
      "    black = (0, 0, 0)\n",
      "    xsize, ysize = picture.size\n",
      "    temp = picture.load()\n",
      "    for x in range(xsize):\n",
      "        for y in range(ysize):\n",
      "            r,g,b = temp[x,y]\n",
      "            if r+g+b < threshold: \n",
      "                temp[x,y] = black"
     ],
     "language": "python",
     "metadata": {},
     "outputs": [],
     "prompt_number": 42
    },
    {
     "cell_type": "code",
     "collapsed": false,
     "input": [
      "def resetimg2(imgname,threshold):\n",
      "    '''re-fetch and cut image\n",
      "    '''\n",
      "    picture = fetchimg(imgname)\n",
      "    imagecut(picture,threshold)\n",
      "    return picture"
     ],
     "language": "python",
     "metadata": {},
     "outputs": [],
     "prompt_number": 43
    },
    {
     "cell_type": "code",
     "collapsed": false,
     "input": [
      "def analyzepic(imgname,outname):\n",
      "    threshold = 600\n",
      "    fillfunc = 'fill2'\n",
      "    picture = resetimg2(imgname,threshold)\n",
      "    proctime, result = elapsed(count2,fill2,picture)\n",
      "    #print proctime, result[0]\n",
      "    stars = np.array(result[1])\n",
      "    myheader = \"\\n Image file: %s\\n Applied threshold: %d\\n Algorithm used: %s \\\n",
      "                \\n Processing time: %.6f (s)\\n Particle count: %d\\n Location (x,y) and max luminance:\\n\" \\\n",
      "                %(imgname,threshold,fillfunc,proctime,result[0])\n",
      "    np.savetxt(outname,stars,fmt=('%3i\\t'*3),header=myheader)"
     ],
     "language": "python",
     "metadata": {},
     "outputs": [],
     "prompt_number": 44
    },
    {
     "cell_type": "code",
     "collapsed": false,
     "input": [
      "imgnames = []\n",
      "numstr = []\n",
      "basefilename = 'frame00000'\n",
      "for i in range(0,200):\n",
      "    numstr.append(str(i))\n",
      "for num in numstr:\n",
      "    imgnames.append('ftp://ftp.cs.princeton.edu/pub/cs126/atomic/run_9/'+basefilename[0:len(basefilename)-len(num)]+num+'.jpg')"
     ],
     "language": "python",
     "metadata": {},
     "outputs": [],
     "prompt_number": 45
    },
    {
     "cell_type": "code",
     "collapsed": false,
     "input": [
      "import os\n",
      "from os import listdir\n",
      "imgnames = os.listdir('run9')"
     ],
     "language": "python",
     "metadata": {},
     "outputs": [],
     "prompt_number": 46
    },
    {
     "cell_type": "code",
     "collapsed": false,
     "input": [
      "analyzepic(imgnames[0],'ANtest.txt')"
     ],
     "language": "python",
     "metadata": {},
     "outputs": [],
     "prompt_number": 47
    },
    {
     "cell_type": "code",
     "collapsed": false,
     "input": [
      "!more ANtest.txt"
     ],
     "language": "python",
     "metadata": {},
     "outputs": [
      {
       "output_type": "stream",
       "stream": "stdout",
       "text": [
        "# \n",
        "#  Image file: frame00000.jpg\n",
        "#  Applied threshold: 600\n",
        "#  Algorithm used: fill2                 \n",
        "#  Processing time: 0.068000 (s)\n",
        "#  Particle count: 10\n",
        "#  Location (x,y) and max luminance:\n",
        "# \n",
        " 73     463     650     \n",
        " 82     308     764     \n",
        "205     478     764     \n",
        "244     294     728     \n",
        "254     223     635     \n",
        "260     452     764     \n",
        "313      93     763     \n",
        "344     235     764     \n",
        "481     319     764     \n",
        "490     153     764     \n"
       ]
      }
     ],
     "prompt_number": 48
    },
    {
     "cell_type": "code",
     "collapsed": false,
     "input": [
      "analyzepic(imgnames[1],'ANtest.txt')"
     ],
     "language": "python",
     "metadata": {},
     "outputs": [],
     "prompt_number": 49
    },
    {
     "cell_type": "code",
     "collapsed": false,
     "input": [
      "!more ANtest.txt"
     ],
     "language": "python",
     "metadata": {},
     "outputs": [
      {
       "output_type": "stream",
       "stream": "stdout",
       "text": [
        "# \n",
        "#  Image file: frame00001.jpg\n",
        "#  Applied threshold: 600\n",
        "#  Algorithm used: fill2                 \n",
        "#  Processing time: 0.068000 (s)\n",
        "#  Particle count: 10\n",
        "#  Location (x,y) and max luminance:\n",
        "# \n",
        " 80     310     764     \n",
        "203     475     764     \n",
        "240     297     764     \n",
        "254     223     647     \n",
        "258     450     662     \n",
        "309      95     764     \n",
        "345     233     764     \n",
        "483     318     764     \n",
        "491     152     764     \n",
        "583     477     764     \n"
       ]
      }
     ],
     "prompt_number": 50
    },
    {
     "cell_type": "code",
     "collapsed": false,
     "input": [],
     "language": "python",
     "metadata": {},
     "outputs": [],
     "prompt_number": 50
    },
    {
     "cell_type": "code",
     "collapsed": false,
     "input": [],
     "language": "python",
     "metadata": {},
     "outputs": [],
     "prompt_number": 50
    },
    {
     "cell_type": "code",
     "collapsed": false,
     "input": [],
     "language": "python",
     "metadata": {},
     "outputs": [],
     "prompt_number": 50
    }
   ],
   "metadata": {}
  }
 ]
}