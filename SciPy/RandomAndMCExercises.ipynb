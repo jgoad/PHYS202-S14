{
 "metadata": {
  "name": "",
  "signature": "sha256:08f6167abf5fe24ef120741b742fceac82c6a7a4e15637437319ad0c4266a5b8"
 },
 "nbformat": 3,
 "nbformat_minor": 0,
 "worksheets": [
  {
   "cells": [
    {
     "cell_type": "heading",
     "level": 1,
     "metadata": {},
     "source": [
      "Random Numbers, Monte Carlo Sampling and Simulation Exercises"
     ]
    },
    {
     "cell_type": "code",
     "collapsed": false,
     "input": [
      "%pylab inline\n",
      "import numpy as np\n",
      "import matplotlib.pyplot as plot"
     ],
     "language": "python",
     "metadata": {},
     "outputs": [
      {
       "output_type": "stream",
       "stream": "stdout",
       "text": [
        "Populating the interactive namespace from numpy and matplotlib\n"
       ]
      },
      {
       "output_type": "stream",
       "stream": "stderr",
       "text": [
        "WARNING: pylab import has clobbered these variables: ['f']\n",
        "`%matplotlib` prevents importing * from pylab and numpy\n"
       ]
      }
     ],
     "prompt_number": 4
    },
    {
     "cell_type": "heading",
     "level": 1,
     "metadata": {},
     "source": [
      "Question 1"
     ]
    },
    {
     "cell_type": "markdown",
     "metadata": {},
     "source": [
      "The Weibull distribution, with parameters \u03b1>0 and \u03b2>0 is described by the density function\n",
      "\n",
      "\\begin{equation}\n",
      "f(x) = \\begin{cases} \\alpha\\beta^{-\\alpha}x^{\\alpha -1}e^{-(x/\\beta)^{\\alpha}} & x > 0 \\\\ 0 & \\text{otherwise} \\end{cases}\n",
      "\\end{equation}\n",
      "(a) Solve for the CDF of the Weibull distribution analytically, using\n",
      "\\begin{equation}\n",
      "F(x) = \\int_{-\\infty}^x f(t)dt\n",
      "\\end{equation}"
     ]
    },
    {
     "cell_type": "markdown",
     "metadata": {},
     "source": [
      "\\begin{equation}\n",
      "F(x) = -e^{-(x/\\beta)^{\\alpha}} + 1\n",
      "\\end{equation}"
     ]
    },
    {
     "cell_type": "markdown",
     "metadata": {},
     "source": [
      "(b) Find the inverse of the CDF \\begin{equation} F^{-1}(x) \\end{equation} analytically."
     ]
    },
    {
     "cell_type": "markdown",
     "metadata": {},
     "source": [
      "\\begin{equation} F^{-1}(x) = \\beta [-ln(1-x)]^{1/\\alpha} \\end{equation}"
     ]
    },
    {
     "cell_type": "markdown",
     "metadata": {},
     "source": [
      "(c) Write a program to generate 10,000 samples from the Weibull distribution and plot the true distribution, the CDF and the sampled distribution as a histogram, all on the same graph. Let \u03b1 = 1.5, \u03b2 = 6.\n",
      "Note: Do not use the built-in Weibull function from numpy.random."
     ]
    },
    {
     "cell_type": "code",
     "collapsed": false,
     "input": [
      "a = 1.5\n",
      "B = 6.\n",
      "f = lambda x: -exp(-(x/B)**a) + 1\n"
     ],
     "language": "python",
     "metadata": {},
     "outputs": [],
     "prompt_number": 2
    },
    {
     "cell_type": "code",
     "collapsed": false,
     "input": [
      "#number of samples\n",
      "N = 10000\n",
      "\n",
      "# N rand numbs between 0 and 1\n",
      "\n",
      "x = np.random.random_sample(N);\n",
      "a = 1.5\n",
      "B = 6.\n",
      "f = lambda x: -exp(-(x/B)**a) + 1\n",
      "w = lambda x: a*B**(-a)*x**(a-1)*exp(-(x/B)**a)\n",
      "#Inverse CDF\n",
      "\n",
      "\n",
      "Finv = lambda x: B*(-np.log(1-x))**(1/a) \n",
      "\n",
      "#Sampled x values \n",
      "xsamples = Finv(x);\n",
      "x1 = np.arange(0.,15,0.01)\n",
      "#how do the compare to the original?\n",
      "plt.hist(xsamples,50, normed= True, label = \"Sampled Distribution\")\n",
      "plt.plot(x1,f(x1),label = 'CDF',lw = 3, color = 'red')\n",
      "plt.plot(x1,w(x1), label = 'Weidel Distribution',lw = 3, color = 'green')\n",
      "\n",
      "plt.xlim(0,15)\n",
      "plt.ylim(0,1.0)\n",
      "\n",
      "plt.legend(loc=0)\n",
      "plt.show()"
     ],
     "language": "python",
     "metadata": {},
     "outputs": [
      {
       "metadata": {},
       "output_type": "display_data",
       "png": "[encoded data removed]",
       "text": [
        "<matplotlib.figure.Figure at 0x1065e5550>"
       ]
      }
     ],
     "prompt_number": 18
    },
    {
     "cell_type": "code",
     "collapsed": false,
     "input": [],
     "language": "python",
     "metadata": {},
     "outputs": []
    }
   ],
   "metadata": {}
  }
 ]
}