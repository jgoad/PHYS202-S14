{
 "metadata": {
  "name": "",
  "signature": "sha256:c3ecbdca249f9eff04ee8008d5bb1a2ab6bc838872e3dab595b3c2552d598e37"
 },
 "nbformat": 3,
 "nbformat_minor": 0,
 "worksheets": [
  {
   "cells": [
    {
     "cell_type": "code",
     "collapsed": false,
     "input": [
      "%pylab inline\n",
      "import numpy as np\n",
      "import matplotlib.pyplot as plt"
     ],
     "language": "python",
     "metadata": {},
     "outputs": [
      {
       "output_type": "stream",
       "stream": "stdout",
       "text": [
        "Populating the interactive namespace from numpy and matplotlib\n"
       ]
      }
     ],
     "prompt_number": 22
    },
    {
     "cell_type": "code",
     "collapsed": false,
     "input": [
      "x = np.arange(0.,10.01,0.1)\n",
      "y = x**5"
     ],
     "language": "python",
     "metadata": {},
     "outputs": [],
     "prompt_number": 23
    },
    {
     "cell_type": "code",
     "collapsed": false,
     "input": [
      "help(np.diff)"
     ],
     "language": "python",
     "metadata": {},
     "outputs": [
      {
       "output_type": "stream",
       "stream": "stdout",
       "text": [
        "Help on function diff in module numpy.lib.function_base:\n",
        "\n",
        "diff(a, n=1, axis=-1)\n",
        "    Calculate the n-th order discrete difference along given axis.\n",
        "    \n",
        "    The first order difference is given by ``out[n] = a[n+1] - a[n]`` along\n",
        "    the given axis, higher order differences are calculated by using `diff`\n",
        "    recursively.\n",
        "    \n",
        "    Parameters\n",
        "    ----------\n",
        "    a : array_like\n",
        "        Input array\n",
        "    n : int, optional\n",
        "        The number of times values are differenced.\n",
        "    axis : int, optional\n",
        "        The axis along which the difference is taken, default is the last axis.\n",
        "    \n",
        "    Returns\n",
        "    -------\n",
        "    diff : ndarray\n",
        "        The `n` order differences. The shape of the output is the same as `a`\n",
        "        except along `axis` where the dimension is smaller by `n`.\n",
        "    \n",
        "    See Also\n",
        "    --------\n",
        "    gradient, ediff1d, cumsum\n",
        "    \n",
        "    Examples\n",
        "    --------\n",
        "    >>> x = np.array([1, 2, 4, 7, 0])\n",
        "    >>> np.diff(x)\n",
        "    array([ 1,  2,  3, -7])\n",
        "    >>> np.diff(x, n=2)\n",
        "    array([  1,   1, -10])\n",
        "    \n",
        "    >>> x = np.array([[1, 3, 6, 10], [0, 5, 6, 8]])\n",
        "    >>> np.diff(x)\n",
        "    array([[2, 3, 4],\n",
        "           [5, 1, 2]])\n",
        "    >>> np.diff(x, axis=0)\n",
        "    array([[-1,  2,  0, -2]])\n",
        "\n"
       ]
      }
     ],
     "prompt_number": 24
    },
    {
     "cell_type": "code",
     "collapsed": false,
     "input": [
      "dy = np.diff(y)\n",
      "print len(y), len(dy)\n",
      "dx = np.diff(x)\n",
      "dydx = (dy/dx)\n",
      "print len(dydx)"
     ],
     "language": "python",
     "metadata": {},
     "outputs": [
      {
       "output_type": "stream",
       "stream": "stdout",
       "text": [
        "101 100\n",
        "100\n"
       ]
      }
     ],
     "prompt_number": 25
    },
    {
     "cell_type": "code",
     "collapsed": false,
     "input": [
      "#specify the size of dydx ahead of time\n",
      "dydx1 = np.zeros(y.shape,float)\n",
      "\n",
      "dydx1[0:-1]=np.diff(y)/np.diff(x)\n",
      "#using negative indexes because \n",
      "#we don't know the final length of those arrays.\n",
      "dydx1[-1] = (y[-1]-y[-2])/(x[-1]-x[-2]) "
     ],
     "language": "python",
     "metadata": {},
     "outputs": [],
     "prompt_number": 26
    },
    {
     "cell_type": "code",
     "collapsed": false,
     "input": [
      "dydx2 = np.zeros(y.shape,float)\n",
      "\n",
      "dydx2[1:-1] = (y[2:] - y[:-2])/(x[2:]-x[:-2])#center difference (the one you should use)\n",
      "dydx2[0] = (y[1]-y[0])/(x[1]-x[0])#forward diff\n",
      "dydx2[-1] = (y[-1] - y[-2])/(x[-1] - x[-2])#backward diff"
     ],
     "language": "python",
     "metadata": {},
     "outputs": [],
     "prompt_number": 27
    },
    {
     "cell_type": "code",
     "collapsed": false,
     "input": [
      "dydxExact = 5*x**4"
     ],
     "language": "python",
     "metadata": {},
     "outputs": [],
     "prompt_number": 28
    },
    {
     "cell_type": "code",
     "collapsed": false,
     "input": [
      "plt.plot(x,dydx1,label = 'forward diff')\n",
      "plt.plot(x,dydx2,label='center diff')\n",
      "plt.plot(x,dydxExact,label = 'exact')\n",
      "plt.legend(loc='upper left')\n",
      "plt.show()"
     ],
     "language": "python",
     "metadata": {},
     "outputs": [
      {
       "metadata": {},
       "output_type": "display_data",
       "png": "[encoded data removed]",
       "text": [
        "<matplotlib.figure.Figure at 0x1066b31d0>"
       ]
      }
     ],
     "prompt_number": 29
    },
    {
     "cell_type": "code",
     "collapsed": false,
     "input": [
      "percentError1 = 100*abs(dydx1[1:]-dydxExact[1:])/dydxExact[1.:]\n",
      "percentError2 = 100*abs(dydx2[1:]-dydxExact[1:])/dydxExact[1.:]\n",
      "\n",
      "#semilog y axis\n",
      "plt.semilogy(x[1:],percentError1, label = 'forward diff')\n",
      "plt.semilogy(x[1:],percentError2, label = 'center diff')\n",
      "plt.ylabel('% error with dydxExact')\n",
      "plt.legend(loc = 'upper right')\n",
      "plt.show()"
     ],
     "language": "python",
     "metadata": {},
     "outputs": [
      {
       "metadata": {},
       "output_type": "display_data",
       "png": "[encoded data removed]",
       "text": [
        "<matplotlib.figure.Figure at 0x1061a3050>"
       ]
      }
     ],
     "prompt_number": 30
    },
    {
     "cell_type": "code",
     "collapsed": false,
     "input": [
      "dydx2[1:-1] = (y[2:] - y[:-2])/(x[2:]-x[:-2])"
     ],
     "language": "python",
     "metadata": {},
     "outputs": [],
     "prompt_number": 31
    },
    {
     "cell_type": "code",
     "collapsed": false,
     "input": [
      "dydx2"
     ],
     "language": "python",
     "metadata": {},
     "outputs": [
      {
       "metadata": {},
       "output_type": "pyout",
       "prompt_number": 32,
       "text": [
        "array([  1.00000000e-04,   1.60000000e-03,   1.21000000e-02,\n",
        "         4.96000000e-02,   1.44100000e-01,   3.37600000e-01,\n",
        "         6.84100000e-01,   1.24960000e+00,   2.11210000e+00,\n",
        "         3.36160000e+00,   5.10010000e+00,   7.44160000e+00,\n",
        "         1.05121000e+01,   1.44496000e+01,   1.94041000e+01,\n",
        "         2.55376000e+01,   3.30241000e+01,   4.20496000e+01,\n",
        "         5.28121000e+01,   6.55216000e+01,   8.04001000e+01,\n",
        "         9.76816000e+01,   1.17612100e+02,   1.40449600e+02,\n",
        "         1.66464100e+02,   1.95937600e+02,   2.29164100e+02,\n",
        "         2.66449600e+02,   3.08112100e+02,   3.54481600e+02,\n",
        "         4.05900100e+02,   4.62721600e+02,   5.25312100e+02,\n",
        "         5.94049600e+02,   6.69324100e+02,   7.51537600e+02,\n",
        "         8.41104100e+02,   9.38449600e+02,   1.04401210e+03,\n",
        "         1.15824160e+03,   1.28160010e+03,   1.41456160e+03,\n",
        "         1.55761210e+03,   1.71124960e+03,   1.87598410e+03,\n",
        "         2.05233760e+03,   2.24084410e+03,   2.44204960e+03,\n",
        "         2.65651210e+03,   2.88480160e+03,   3.12750010e+03,\n",
        "         3.38520160e+03,   3.65851210e+03,   3.94804960e+03,\n",
        "         4.25444410e+03,   4.57833760e+03,   4.92038410e+03,\n",
        "         5.28124960e+03,   5.66161210e+03,   6.06216160e+03,\n",
        "         6.48360010e+03,   6.92664160e+03,   7.39201210e+03,\n",
        "         7.88044960e+03,   8.39270410e+03,   8.92953760e+03,\n",
        "         9.49172410e+03,   1.00800496e+04,   1.06953121e+04,\n",
        "         1.13383216e+04,   1.20099001e+04,   1.27108816e+04,\n",
        "         1.34421121e+04,   1.42044496e+04,   1.49987641e+04,\n",
        "         1.58259376e+04,   1.66868641e+04,   1.75824496e+04,\n",
        "         1.85136121e+04,   1.94812816e+04,   2.04864001e+04,\n",
        "         2.15299216e+04,   2.26128121e+04,   2.37360496e+04,\n",
        "         2.49006241e+04,   2.61075376e+04,   2.73578041e+04,\n",
        "         2.86524496e+04,   2.99925121e+04,   3.13790416e+04,\n",
        "         3.28131001e+04,   3.42957616e+04,   3.58281121e+04,\n",
        "         3.74112496e+04,   3.90462841e+04,   4.07343376e+04,\n",
        "         4.24765441e+04,   4.42740496e+04,   4.61280121e+04,\n",
        "         4.80396016e+04,   4.90099501e+04])"
       ]
      }
     ],
     "prompt_number": 32
    },
    {
     "cell_type": "code",
     "collapsed": false,
     "input": [],
     "language": "python",
     "metadata": {},
     "outputs": [],
     "prompt_number": 32
    }
   ],
   "metadata": {}
  }
 ]
}