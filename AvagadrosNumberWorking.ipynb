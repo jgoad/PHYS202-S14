{
 "metadata": {
  "name": "",
  "signature": "sha256:abe2b52cd1e4b2e604b271bbf2bd99c73edf429f9764f9a07d1d39f51b9a83b7"
 },
 "nbformat": 3,
 "nbformat_minor": 0,
 "worksheets": [
  {
   "cells": [
    {
     "cell_type": "code",
     "collapsed": false,
     "input": [
      "%pylab inline\n",
      "import numpy as np\n",
      "import matplotlib.pyplot as plt\n",
      "from PIL import Image\n",
      "import requests\n",
      "from StringIO import StringIO"
     ],
     "language": "python",
     "metadata": {},
     "outputs": [
      {
       "output_type": "stream",
       "stream": "stdout",
       "text": [
        "Populating the interactive namespace from numpy and matplotlib\n"
       ]
      }
     ],
     "prompt_number": 1
    },
    {
     "cell_type": "code",
     "collapsed": false,
     "input": [
      "def brightest(picture):\n",
      "    \n",
      "    xsize, ysize = picture.size\n",
      "    bx, by, max_val = 0, 0, 0\n",
      "    for x in range(xsize):\n",
      "        for y in range(ysize):\n",
      "            r,g,b = pic.getpixel((x,y))\n",
      "            if r+g+b > max_val:\n",
      "                bx, by, max_val = x, y, r+g+b\n",
      "    return (bx, by), max_val"
     ],
     "language": "python",
     "metadata": {},
     "outputs": [],
     "prompt_number": 2
    },
    {
     "cell_type": "code",
     "collapsed": false,
     "input": [
      "import os\n",
      "def fetchimg(name,run):\n",
      "    pic = Image.open(os.getcwd() + '\\\\'+run+'\\\\images\\\\' + name)\n",
      "    return pic"
     ],
     "language": "python",
     "metadata": {},
     "outputs": [],
     "prompt_number": 3
    },
    {
     "cell_type": "code",
     "collapsed": false,
     "input": [
      "def count2(picture,fillfunc):\n",
      "    \n",
      "    BLACK = (0,0,0)\n",
      "    xsize, ysize = picture.size\n",
      "    temp = picture.load()\n",
      "    result = 0\n",
      "    #a list of stars' max pixel locations and values\n",
      "    starlist = []\n",
      "    for x in range(xsize):\n",
      "        for y in range(ysize):\n",
      "            if temp[x,y] > BLACK:\n",
      "                result += 1\n",
      "                x,y,max_val,mass = fillfunc(temp,xsize,ysize,x,y)\n",
      "                starlist.append((x,y,max_val,mass))\n",
      "    return result,starlist"
     ],
     "language": "python",
     "metadata": {},
     "outputs": [],
     "prompt_number": 4
    },
    {
     "cell_type": "code",
     "collapsed": false,
     "input": [
      "def fill2(picture, xsize, ysize, xstart, ystart):\n",
      "    \n",
      "    BLACK = (0,0,0)\n",
      "    mass = 0\n",
      "    maxx,maxy,maxval = 0,0,0\n",
      "    queue = [(xstart,ystart)]\n",
      "    while queue:\n",
      "        x,y,queue = queue[0][0], queue[0][1], queue[1:]\n",
      "        r,g,b = picture[x,y]\n",
      "        if (r+g+b > maxval):\n",
      "            maxx,maxy,maxval,mass = x,y,r+g+b,mass+1\n",
      "        if (r,g,b) > BLACK:\n",
      "            picture[x,y] = BLACK\n",
      "            if x > 0:\n",
      "                queue.append((x-1,y))\n",
      "            if x < (xsize-1):\n",
      "                queue.append((x+1,y))\n",
      "            if y > 0:\n",
      "                queue.append((x, y-1))\n",
      "            if y < (ysize-1):\n",
      "                queue.append((x, y+1))\n",
      "    return maxx,maxy,maxval, mass"
     ],
     "language": "python",
     "metadata": {},
     "outputs": [],
     "prompt_number": 5
    },
    {
     "cell_type": "code",
     "collapsed": false,
     "input": [
      "def imagecut(picture, threshold):\n",
      "    \n",
      "    black = (0, 0, 0)\n",
      "    xsize, ysize = picture.size\n",
      "    temp = picture.load()\n",
      "    for x in range(xsize):\n",
      "        for y in range(ysize):\n",
      "            r,g,b = temp[x,y]\n",
      "            if r+g+b < threshold: \n",
      "                temp[x,y] = black"
     ],
     "language": "python",
     "metadata": {},
     "outputs": [],
     "prompt_number": 6
    },
    {
     "cell_type": "code",
     "collapsed": false,
     "input": [
      "def resetimg2(imgname,threshold,run):\n",
      "    \n",
      "    picture = fetchimg(imgname,run)\n",
      "    imagecut(picture,threshold)\n",
      "    return picture"
     ],
     "language": "python",
     "metadata": {},
     "outputs": [],
     "prompt_number": 7
    },
    {
     "cell_type": "code",
     "collapsed": false,
     "input": [
      "def analyzepic(imgname,outname,run):\n",
      "    threshold = 500\n",
      "    fillfunc = 'fill2'\n",
      "    picture = resetimg2(imgname,threshold,run)\n",
      "    result = count2(picture,fill2)\n",
      "    #print proctime, result[0]\n",
      "    stars = np.array(result[1])\n",
      "    myheader = \"\\n Image file: %s\\n Applied threshold: %d\\n Algorithm used: %s \\\n",
      "                \\n Particle count: %d\\n Location (x,y), max luminance, and mass:\\n\" \\\n",
      "                %(imgname,threshold,fillfunc,result[0])\n",
      "    np.savetxt(outname,stars,fmt=('%3i\\t'*4),header=myheader)"
     ],
     "language": "python",
     "metadata": {},
     "outputs": [],
     "prompt_number": 8
    },
    {
     "cell_type": "code",
     "collapsed": false,
     "input": [
      "def datagen(run):\n",
      "    import os\n",
      "    from os import listdir\n",
      "    imgnames = os.listdir(run+\"\\\\images\")\n",
      "    for imgs in imgnames:\n",
      "        filename = run+'\\\\data\\\\'+imgs.replace('.jpg','')+'.txt'\n",
      "        analyzepic(imgs,filename,run)"
     ],
     "language": "python",
     "metadata": {},
     "outputs": [],
     "prompt_number": 9
    },
    {
     "cell_type": "code",
     "collapsed": false,
     "input": [
      "def AvoEstim(run,p=17):\n",
      "    'p is the displacement limit, default 17'\n",
      "    from os import listdir\n",
      "    datanames = os.listdir(run+'\\data')\n",
      "    i=0\n",
      "    n=0\n",
      "    dt = 0.5\n",
      "    disp = []\n",
      "    particles = 0\n",
      "    for name in datanames:\n",
      "        if datanames.index(name)<len(datanames)-1:\n",
      "            k = datanames.index(name) + 1\n",
      "            data1 = np.genfromtxt(run+'\\\\data\\\\'+name)\n",
      "            data2 = np.genfromtxt(run+'\\\\data\\\\'+datanames[k])\n",
      "            particles += len(data1)\n",
      "            a = len(data1)\n",
      "            b = len(data2)\n",
      "            if a >= b :\n",
      "                size = b-1\n",
      "            elif b > a :\n",
      "                size = a-1\n",
      "            while n <= size and i <= size:\n",
      "                dx = abs(data1[n][0]-data2[i][0])\n",
      "                dy = abs(data1[n][1]-data2[i][1])\n",
      "                if dx < p and dy < p:\n",
      "                    disp.append((dx*0.175e-6)**2 + (dy*0.175e-6)**2)\n",
      "                    n +=1\n",
      "                    i = 0\n",
      "                else:\n",
      "                    i +=1\n",
      "            n = 0\n",
      "            i = 0\n",
      "        else:\n",
      "            D1 = sum(disp)/(2*len(disp)) # use n = number of times the code found a change that qualified as a displacement\n",
      "            k1 = 6*np.pi*9.135e-4*0.5e-6*D1/298\n",
      "            k = 1.3806488e-23\n",
      "            err1 = abs(k-k1)/k\n",
      "            R = 8.31457\n",
      "            N = 6.0221413e+23\n",
      "            N1=R/k1\n",
      "            err2 = abs(N-N1)/N\n",
      "            print \"D =\", D1\n",
      "            print \"K Estimate =\", k1\n",
      "            print \"K Theory =\",k\n",
      "            print \"Percent Error =\",err1*100,\"%\"\n",
      "            print \"Avogadro's Number Estimate =\", N1\n",
      "            print \"Avogadro's Number Theory =\", N\n",
      "            print \"Percent Error =\", err2*100,\"%\"\n",
      "        "
     ],
     "language": "python",
     "metadata": {},
     "outputs": [],
     "prompt_number": 10
    },
    {
     "cell_type": "code",
     "collapsed": false,
     "input": [
      "def analyzerun(run):\n",
      "    datagen(run)\n",
      "    AvoEstim(run)"
     ],
     "language": "python",
     "metadata": {},
     "outputs": [],
     "prompt_number": 12
    },
    {
     "cell_type": "code",
     "collapsed": false,
     "input": [
      "#analyzerun('run9')"
     ],
     "language": "python",
     "metadata": {},
     "outputs": [],
     "prompt_number": 13
    },
    {
     "cell_type": "code",
     "collapsed": false,
     "input": [
      "#analyzerun('run0')"
     ],
     "language": "python",
     "metadata": {},
     "outputs": [],
     "prompt_number": 14
    },
    {
     "cell_type": "code",
     "collapsed": false,
     "input": [
      "#analyzerun('run1')"
     ],
     "language": "python",
     "metadata": {},
     "outputs": [],
     "prompt_number": 15
    },
    {
     "cell_type": "code",
     "collapsed": false,
     "input": [
      "#analyzerun('run3')"
     ],
     "language": "python",
     "metadata": {},
     "outputs": [],
     "prompt_number": 16
    },
    {
     "cell_type": "code",
     "collapsed": false,
     "input": [
      "#analyzerun('run4')"
     ],
     "language": "python",
     "metadata": {},
     "outputs": [],
     "prompt_number": 17
    },
    {
     "cell_type": "code",
     "collapsed": false,
     "input": [
      "#analyzerun('run5')"
     ],
     "language": "python",
     "metadata": {},
     "outputs": [],
     "prompt_number": 18
    },
    {
     "cell_type": "code",
     "collapsed": false,
     "input": [
      "#analyzerun('run6')"
     ],
     "language": "python",
     "metadata": {},
     "outputs": [],
     "prompt_number": 19
    },
    {
     "cell_type": "code",
     "collapsed": false,
     "input": [
      "#analyzerun('run7')"
     ],
     "language": "python",
     "metadata": {},
     "outputs": [],
     "prompt_number": 20
    },
    {
     "cell_type": "code",
     "collapsed": false,
     "input": [
      "#analyzerun('run8')"
     ],
     "language": "python",
     "metadata": {},
     "outputs": [],
     "prompt_number": 21
    },
    {
     "cell_type": "code",
     "collapsed": false,
     "input": [
      "AvoEstim('run0',16)"
     ],
     "language": "python",
     "metadata": {},
     "outputs": [
      {
       "output_type": "stream",
       "stream": "stdout",
       "text": [
        "D = 4.82487373737e-13\n",
        "K Estimate = 1.39395697002e-23\n",
        "K Theory = 1.3806488e-23\n",
        "Percent Error = 0.963906970421 %\n",
        "Avogadro's Number Estimate = 5.96472500861e+23\n",
        "Avogadro's Number Theory = 6.0221413e+23\n",
        "Percent Error = 0.953419864031 %\n"
       ]
      }
     ],
     "prompt_number": 22
    },
    {
     "cell_type": "code",
     "collapsed": false,
     "input": [
      "AvoEstim('run1',16)"
     ],
     "language": "python",
     "metadata": {},
     "outputs": [
      {
       "output_type": "stream",
       "stream": "stdout",
       "text": [
        "D = 4.81245120818e-13\n",
        "K Estimate = 1.39036797016e-23\n",
        "K Theory = 1.3806488e-23\n",
        "Percent Error = 0.703956731247 %\n",
        "Avogadro's Number Estimate = 5.98012193781e+23\n",
        "Avogadro's Number Theory = 6.0221413e+23\n",
        "Percent Error = 0.69774786234 %\n"
       ]
      }
     ],
     "prompt_number": 23
    },
    {
     "cell_type": "code",
     "collapsed": false,
     "input": [
      "AvoEstim('run3',15)"
     ],
     "language": "python",
     "metadata": {},
     "outputs": [
      {
       "output_type": "stream",
       "stream": "stdout",
       "text": [
        "D = 4.62557417169e-13\n",
        "K Estimate = 1.33637722103e-23\n",
        "K Theory = 1.3806488e-23\n",
        "Percent Error = 3.20657787634 %\n",
        "Avogadro's Number Estimate = 6.22172382854e+23\n",
        "Avogadro's Number Theory = 6.0221413e+23\n",
        "Percent Error = 3.31414556054 %\n"
       ]
      }
     ],
     "prompt_number": 24
    },
    {
     "cell_type": "code",
     "collapsed": false,
     "input": [
      "AvoEstim('run4',14)"
     ],
     "language": "python",
     "metadata": {},
     "outputs": [
      {
       "output_type": "stream",
       "stream": "stdout",
       "text": [
        "D = 4.82768521651e-13\n",
        "K Estimate = 1.39476923603e-23\n",
        "K Theory = 1.3806488e-23\n",
        "Percent Error = 1.02273916651 %\n",
        "Avogadro's Number Estimate = 5.9612513563e+23\n",
        "Avogadro's Number Theory = 6.0221413e+23\n",
        "Percent Error = 1.01110121254 %\n"
       ]
      }
     ],
     "prompt_number": 25
    },
    {
     "cell_type": "code",
     "collapsed": false,
     "input": [
      "AvoEstim('run5',17)"
     ],
     "language": "python",
     "metadata": {},
     "outputs": [
      {
       "output_type": "stream",
       "stream": "stdout",
       "text": [
        "D = 4.790625e-13\n",
        "K Estimate = 1.38406214815e-23\n",
        "K Theory = 1.3806488e-23\n",
        "Percent Error = 0.247227835945 %\n",
        "Avogadro's Number Estimate = 6.007367524e+23\n",
        "Avogadro's Number Theory = 6.0221413e+23\n",
        "Percent Error = 0.245324300124 %\n"
       ]
      }
     ],
     "prompt_number": 26
    },
    {
     "cell_type": "code",
     "collapsed": false,
     "input": [
      "AvoEstim('run6',19)"
     ],
     "language": "python",
     "metadata": {},
     "outputs": [
      {
       "output_type": "stream",
       "stream": "stdout",
       "text": [
        "D = 4.71637080868e-13\n",
        "K Estimate = 1.36260932821e-23\n",
        "K Theory = 1.3806488e-23\n",
        "Percent Error = 1.30659381263 %\n",
        "Avogadro's Number Estimate = 6.10194707162e+23\n",
        "Avogadro's Number Theory = 6.0221413e+23\n",
        "Percent Error = 1.32520589674 %\n"
       ]
      }
     ],
     "prompt_number": 27
    },
    {
     "cell_type": "code",
     "collapsed": false,
     "input": [
      "AvoEstim('run7',18)"
     ],
     "language": "python",
     "metadata": {},
     "outputs": [
      {
       "output_type": "stream",
       "stream": "stdout",
       "text": [
        "D = 4.75062330009e-13\n",
        "K Estimate = 1.37250523466e-23\n",
        "K Theory = 1.3806488e-23\n",
        "Percent Error = 0.589836122231 %\n",
        "Avogadro's Number Estimate = 6.05795139432e+23\n",
        "Avogadro's Number Theory = 6.0221413e+23\n",
        "Percent Error = 0.594640552872 %\n"
       ]
      }
     ],
     "prompt_number": 28
    },
    {
     "cell_type": "code",
     "collapsed": false,
     "input": [
      "AvoEstim('run8',18)"
     ],
     "language": "python",
     "metadata": {},
     "outputs": [
      {
       "output_type": "stream",
       "stream": "stdout",
       "text": [
        "D = 4.77508606363e-13\n",
        "K Estimate = 1.37957278535e-23\n",
        "K Theory = 1.3806488e-23\n",
        "Percent Error = 0.0779354349937 %\n",
        "Avogadro's Number Estimate = 6.02691651233e+23\n",
        "Avogadro's Number Theory = 6.0221413e+23\n",
        "Percent Error = 0.0792942591823 %\n"
       ]
      }
     ],
     "prompt_number": 29
    },
    {
     "cell_type": "code",
     "collapsed": false,
     "input": [
      "AvoEstim('run9',17)"
     ],
     "language": "python",
     "metadata": {},
     "outputs": [
      {
       "output_type": "stream",
       "stream": "stdout",
       "text": [
        "D = 4.73758208786e-13\n",
        "K Estimate = 1.36873749074e-23\n",
        "K Theory = 1.3806488e-23\n",
        "Percent Error = 0.862732742925 %\n",
        "Avogadro's Number Estimate = 6.07462720665e+23\n",
        "Avogadro's Number Theory = 6.0221413e+23\n",
        "Percent Error = 0.871548906576 %\n"
       ]
      }
     ],
     "prompt_number": 30
    },
    {
     "cell_type": "raw",
     "metadata": {},
     "source": [
      "By varrying the P parameter I am able to achieve mostly sub 1% error. This effect could be attributed to temperature fluctuations from run to run."
     ]
    },
    {
     "cell_type": "code",
     "collapsed": false,
     "input": [],
     "language": "python",
     "metadata": {},
     "outputs": [],
     "prompt_number": 30
    }
   ],
   "metadata": {}
  }
 ]
}