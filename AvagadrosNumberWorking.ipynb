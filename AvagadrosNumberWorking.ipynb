{
 "metadata": {
  "name": "",
  "signature": "sha256:533e5b33fa40b7160e4679cf8c4517343340f2ec39db60db626a427ce98adbd7"
 },
 "nbformat": 3,
 "nbformat_minor": 0,
 "worksheets": [
  {
   "cells": [
    {
     "cell_type": "code",
     "collapsed": false,
     "input": [
      "%pylab inline\n",
      "import numpy as np\n",
      "import matplotlib.pyplot as plt\n",
      "from PIL import Image\n",
      "#import requests\n",
      "from StringIO import StringIO\n",
      "import os"
     ],
     "language": "python",
     "metadata": {},
     "outputs": [
      {
       "output_type": "stream",
       "stream": "stdout",
       "text": [
        "Populating the interactive namespace from numpy and matplotlib\n"
       ]
      }
     ],
     "prompt_number": 2
    },
    {
     "cell_type": "code",
     "collapsed": false,
     "input": [
      "def brightest(picture):\n",
      "    \n",
      "    xsize, ysize = picture.size\n",
      "    bx, by, max_val = 0, 0, 0\n",
      "    for x in range(xsize):\n",
      "        for y in range(ysize):\n",
      "            r,g,b = pic.getpixel((x,y))\n",
      "            if r+g+b > max_val:\n",
      "                bx, by, max_val = x, y, r+g+b\n",
      "    return (bx, by), max_val"
     ],
     "language": "python",
     "metadata": {},
     "outputs": [],
     "prompt_number": 3
    },
    {
     "cell_type": "code",
     "collapsed": false,
     "input": [
      "def fetchimg(name,run):\n",
      "    pic = Image.open(os.getcwd() + '\\\\'+run+'\\\\images\\\\' + name)\n",
      "    return pic"
     ],
     "language": "python",
     "metadata": {},
     "outputs": [],
     "prompt_number": 42
    },
    {
     "cell_type": "code",
     "collapsed": false,
     "input": [
      "def count2(picture,fillfunc):\n",
      "    \n",
      "    BLACK = (0,0,0)\n",
      "    xsize, ysize = picture.size\n",
      "    temp = picture.load()\n",
      "    result = 0\n",
      "    \n",
      "    starlist = []\n",
      "    for x in range(xsize):\n",
      "        for y in range(ysize):\n",
      "            if temp[x,y] > BLACK:\n",
      "                result += 1\n",
      "                x,y,max_val,mass = fillfunc(temp,xsize,ysize,x,y)\n",
      "                starlist.append((x,y,max_val,mass))\n",
      "    return result,starlist"
     ],
     "language": "python",
     "metadata": {},
     "outputs": [],
     "prompt_number": 41
    },
    {
     "cell_type": "code",
     "collapsed": false,
     "input": [
      "def fill2(picture, xsize, ysize, xstart, ystart):\n",
      "    \n",
      "    BLACK = (0,0,0)\n",
      "    mass = 0\n",
      "    maxx,maxy,maxval = 0,0,0\n",
      "    queue = [(xstart,ystart)]\n",
      "    while queue:\n",
      "        x,y,queue = queue[0][0], queue[0][1], queue[1:]\n",
      "        r,g,b = picture[x,y]\n",
      "        if (r+g+b > maxval):\n",
      "            maxx,maxy,maxval,mass = x,y,r+g+b,mass+1\n",
      "        if (r,g,b) > BLACK:\n",
      "            picture[x,y] = BLACK\n",
      "            if x > 0:\n",
      "                queue.append((x-1,y))\n",
      "            if x < (xsize-1):\n",
      "                queue.append((x+1,y))\n",
      "            if y > 0:\n",
      "                queue.append((x, y-1))\n",
      "            if y < (ysize-1):\n",
      "                queue.append((x, y+1))\n",
      "    return maxx,maxy,maxval, mass"
     ],
     "language": "python",
     "metadata": {},
     "outputs": [],
     "prompt_number": 6
    },
    {
     "cell_type": "code",
     "collapsed": false,
     "input": [
      "def imagecut(picture, threshold): #previously monochrome\n",
      "    \n",
      "    black = (0, 0, 0)\n",
      "    white = (255, 255, 255)\n",
      "    xsize, ysize = picture.size\n",
      "    temp = picture.load()\n",
      "    for x in range(xsize):\n",
      "        for y in range(ysize):\n",
      "            \n",
      "            r,g,b = temp[x,y]\n",
      "            if r+g+b < threshold: \n",
      "                temp[x,y] = black\n",
      "            else:\n",
      "                temp[x,y] = white"
     ],
     "language": "python",
     "metadata": {},
     "outputs": [],
     "prompt_number": 7
    },
    {
     "cell_type": "code",
     "collapsed": false,
     "input": [
      "def resetimg2(imgname,threshold,run):\n",
      "    \n",
      "    picture = fetchimg(imgname,run)\n",
      "    imagecut(picture,threshold)\n",
      "    return picture"
     ],
     "language": "python",
     "metadata": {},
     "outputs": [],
     "prompt_number": 43
    },
    {
     "cell_type": "code",
     "collapsed": false,
     "input": [
      "def analyzepic(imgname,outname,run,threshold):\n",
      "    fillfunc = 'fill2'\n",
      "    picture = resetimg2(imgname,threshold,run)\n",
      "    result = count2(picture,fill2)\n",
      "    stars = np.array(result[1])\n",
      "    myheader = \"\\n Image file: %s\\n Applied threshold: %d\\n Algorithm used: %s \\\n",
      "                \\n Particle count: %d\\n Location (x,y), max luminance, and mass:\\n\" \\\n",
      "                %(imgname,threshold,fillfunc,result[0])\n",
      "    np.savetxt(outname,stars,fmt=('%3i\\t'*4),header=myheader)"
     ],
     "language": "python",
     "metadata": {},
     "outputs": [],
     "prompt_number": 44
    },
    {
     "cell_type": "code",
     "collapsed": false,
     "input": [
      "def datagen(run,threshold):\n",
      "    import os\n",
      "    from os import listdir\n",
      "    imgnames = os.listdir(run+\"\\\\images\")\n",
      "    for imgs in imgnames:\n",
      "        filename = run+'\\\\data\\\\'+imgs.replace('.jpg','')+'.txt'\n",
      "        analyzepic(imgs,filename,run,threshold)"
     ],
     "language": "python",
     "metadata": {},
     "outputs": [],
     "prompt_number": 45
    },
    {
     "cell_type": "code",
     "collapsed": false,
     "input": [
      "def AvoEstim(run,p=17):\n",
      "    'p is the displacement limit, default 17'\n",
      "    from os import listdir\n",
      "    datanames = os.listdir(run+'\\data')\n",
      "    i=0\n",
      "    n=0\n",
      "    dt = 0.5\n",
      "    disp = []\n",
      "    particles = 0\n",
      "    for name in datanames:\n",
      "        if datanames.index(name)<len(datanames)-1:\n",
      "            k = datanames.index(name) + 1\n",
      "            data1 = np.genfromtxt(run+'\\\\data\\\\'+name)\n",
      "            data2 = np.genfromtxt(run+'\\\\data\\\\'+datanames[k])\n",
      "            particles += len(data1)\n",
      "            a = len(data1)\n",
      "            b = len(data2)\n",
      "            if a >= b :\n",
      "                size = b-1\n",
      "            elif b > a :\n",
      "                size = a-1\n",
      "            while n <= size and i <= size:\n",
      "                dx = abs(data1[n][0]-data2[i][0])\n",
      "                dy = abs(data1[n][1]-data2[i][1])\n",
      "                if dx < p and dy < p:\n",
      "                    disp.append((dx*0.175e-6)**2 + (dy*0.175e-6)**2)\n",
      "                    n +=1\n",
      "                    i = 0\n",
      "                else:\n",
      "                    i +=1\n",
      "            n = 0\n",
      "            i = 0\n",
      "        else:\n",
      "            D1 = sum(disp)/(2*len(disp)) # use n = number of times the code found a change that qualified as a displacement\n",
      "            k1 = 6*np.pi*9.135e-4*0.5e-6*D1/298\n",
      "            k = 1.3806488e-23\n",
      "            err1 = abs(k-k1)/k\n",
      "            R = 8.31457\n",
      "            N = 6.0221413e+23\n",
      "            N1=R/k1\n",
      "            err2 = abs(N-N1)/N\n",
      "            print \"D =\", D1\n",
      "            print \"K Estimate =\", k1\n",
      "            print \"K Theory =\",k\n",
      "            print \"Percent Error =\",err1*100,\"%\"\n",
      "            print \"Avogadro's Number Estimate =\", N1\n",
      "            print \"Avogadro's Number Theory =\", N\n",
      "            print \"Percent Error =\", err2*100,\"%\"\n",
      "        "
     ],
     "language": "python",
     "metadata": {},
     "outputs": [],
     "prompt_number": 11
    },
    {
     "cell_type": "code",
     "collapsed": false,
     "input": [
      "def analyzerun(run,threshold=500):\n",
      "    datagen(run,threshold)\n",
      "    AvoEstim(run)"
     ],
     "language": "python",
     "metadata": {},
     "outputs": [],
     "prompt_number": 12
    },
    {
     "cell_type": "code",
     "collapsed": false,
     "input": [
      "#analyzerun('run9')"
     ],
     "language": "python",
     "metadata": {},
     "outputs": [],
     "prompt_number": 13
    },
    {
     "cell_type": "code",
     "collapsed": false,
     "input": [
      "#analyzerun('run0')"
     ],
     "language": "python",
     "metadata": {},
     "outputs": [],
     "prompt_number": 14
    },
    {
     "cell_type": "code",
     "collapsed": false,
     "input": [
      "#analyzerun('run1')"
     ],
     "language": "python",
     "metadata": {},
     "outputs": [],
     "prompt_number": 15
    },
    {
     "cell_type": "code",
     "collapsed": false,
     "input": [
      "#analyzerun('run3')"
     ],
     "language": "python",
     "metadata": {},
     "outputs": [],
     "prompt_number": 16
    },
    {
     "cell_type": "code",
     "collapsed": false,
     "input": [
      "#analyzerun('run4')"
     ],
     "language": "python",
     "metadata": {},
     "outputs": [],
     "prompt_number": 17
    },
    {
     "cell_type": "code",
     "collapsed": false,
     "input": [
      "#analyzerun('run5')"
     ],
     "language": "python",
     "metadata": {},
     "outputs": [],
     "prompt_number": 18
    },
    {
     "cell_type": "code",
     "collapsed": false,
     "input": [
      "#analyzerun('run6')"
     ],
     "language": "python",
     "metadata": {},
     "outputs": [],
     "prompt_number": 19
    },
    {
     "cell_type": "code",
     "collapsed": false,
     "input": [
      "#analyzerun('run7')"
     ],
     "language": "python",
     "metadata": {},
     "outputs": [],
     "prompt_number": 20
    },
    {
     "cell_type": "code",
     "collapsed": false,
     "input": [
      "#analyzerun('run8')"
     ],
     "language": "python",
     "metadata": {},
     "outputs": [],
     "prompt_number": 21
    },
    {
     "cell_type": "code",
     "collapsed": false,
     "input": [
      "AvoEstim('run0',16)"
     ],
     "language": "python",
     "metadata": {},
     "outputs": [
      {
       "output_type": "stream",
       "stream": "stdout",
       "text": [
        "D = 4.8232165404e-13\n",
        "K Estimate = 1.39347818832e-23\n",
        "K Theory = 1.3806488e-23\n",
        "Percent Error = 0.929228947785 %\n",
        "Avogadro's Number Estimate = 5.96677441363e+23\n",
        "Avogadro's Number Theory = 6.0221413e+23\n",
        "Percent Error = 0.919388696016 %\n"
       ]
      }
     ],
     "prompt_number": 22
    },
    {
     "cell_type": "code",
     "collapsed": false,
     "input": [
      "AvoEstim('run1',16)"
     ],
     "language": "python",
     "metadata": {},
     "outputs": [
      {
       "output_type": "stream",
       "stream": "stdout",
       "text": [
        "D = 4.88692170819e-13\n",
        "K Estimate = 1.41188328397e-23\n",
        "K Theory = 1.3806488e-23\n",
        "Percent Error = 2.26230479256 %\n",
        "Avogadro's Number Estimate = 5.88899245029e+23\n",
        "Avogadro's Number Theory = 6.0221413e+23\n",
        "Percent Error = 2.21098846861 %\n"
       ]
      }
     ],
     "prompt_number": 23
    },
    {
     "cell_type": "code",
     "collapsed": false,
     "input": [
      "AvoEstim('run3',15)"
     ],
     "language": "python",
     "metadata": {},
     "outputs": [
      {
       "output_type": "stream",
       "stream": "stdout",
       "text": [
        "D = 4.64013752826e-13\n",
        "K Estimate = 1.34058472852e-23\n",
        "K Theory = 1.3806488e-23\n",
        "Percent Error = 2.90182930504 %\n",
        "Avogadro's Number Estimate = 6.20219656625e+23\n",
        "Avogadro's Number Theory = 6.0221413e+23\n",
        "Percent Error = 2.98988777042 %\n"
       ]
      }
     ],
     "prompt_number": 24
    },
    {
     "cell_type": "code",
     "collapsed": false,
     "input": [
      "AvoEstim('run4',14)"
     ],
     "language": "python",
     "metadata": {},
     "outputs": [
      {
       "output_type": "stream",
       "stream": "stdout",
       "text": [
        "D = 4.77132527064e-13\n",
        "K Estimate = 1.37848625255e-23\n",
        "K Theory = 1.3806488e-23\n",
        "Percent Error = 0.156632697227 %\n",
        "Avogadro's Number Estimate = 6.0316669714e+23\n",
        "Avogadro's Number Theory = 6.0221413e+23\n",
        "Percent Error = 0.158177480744 %\n"
       ]
      }
     ],
     "prompt_number": 25
    },
    {
     "cell_type": "code",
     "collapsed": false,
     "input": [
      "AvoEstim('run5',17)"
     ],
     "language": "python",
     "metadata": {},
     "outputs": [
      {
       "output_type": "stream",
       "stream": "stdout",
       "text": [
        "D = 4.75607136397e-13\n",
        "K Estimate = 1.37407923784e-23\n",
        "K Theory = 1.3806488e-23\n",
        "Percent Error = 0.475831519387 %\n",
        "Avogadro's Number Estimate = 6.05101203122e+23\n",
        "Avogadro's Number Theory = 6.0221413e+23\n",
        "Percent Error = 0.479409727841 %\n"
       ]
      }
     ],
     "prompt_number": 26
    },
    {
     "cell_type": "code",
     "collapsed": false,
     "input": [
      "AvoEstim('run6',19)"
     ],
     "language": "python",
     "metadata": {},
     "outputs": [
      {
       "output_type": "stream",
       "stream": "stdout",
       "text": [
        "D = 4.67046174464e-13\n",
        "K Estimate = 1.34934571484e-23\n",
        "K Theory = 1.3806488e-23\n",
        "Percent Error = 2.26727355743 %\n",
        "Avogadro's Number Estimate = 6.16192715371e+23\n",
        "Avogadro's Number Theory = 6.0221413e+23\n",
        "Percent Error = 2.32119850317 %\n"
       ]
      }
     ],
     "prompt_number": 27
    },
    {
     "cell_type": "code",
     "collapsed": false,
     "input": [
      "AvoEstim('run7',18)"
     ],
     "language": "python",
     "metadata": {},
     "outputs": [
      {
       "output_type": "stream",
       "stream": "stdout",
       "text": [
        "D = 4.74292426601e-13\n",
        "K Estimate = 1.37028090242e-23\n",
        "K Theory = 1.3806488e-23\n",
        "Percent Error = 0.75094387397 %\n",
        "Avogadro's Number Estimate = 6.06778506899e+23\n",
        "Avogadro's Number Theory = 6.0221413e+23\n",
        "Percent Error = 0.75793254787 %\n"
       ]
      }
     ],
     "prompt_number": 28
    },
    {
     "cell_type": "code",
     "collapsed": false,
     "input": [
      "AvoEstim('run8',18)"
     ],
     "language": "python",
     "metadata": {},
     "outputs": [
      {
       "output_type": "stream",
       "stream": "stdout",
       "text": [
        "D = 4.77290479582e-13\n",
        "K Estimate = 1.37894259405e-23\n",
        "K Theory = 1.3806488e-23\n",
        "Percent Error = 0.123580011797 %\n",
        "Avogadro's Number Estimate = 6.02967087671e+23\n",
        "Avogadro's Number Theory = 6.0221413e+23\n",
        "Percent Error = 0.125031551666 %\n"
       ]
      }
     ],
     "prompt_number": 29
    },
    {
     "cell_type": "code",
     "collapsed": false,
     "input": [
      "AvoEstim('run9',17)"
     ],
     "language": "python",
     "metadata": {},
     "outputs": [
      {
       "output_type": "stream",
       "stream": "stdout",
       "text": [
        "D = 4.86927142052e-13\n",
        "K Estimate = 1.40678392949e-23\n",
        "K Theory = 1.3806488e-23\n",
        "Percent Error = 1.89295999745 %\n",
        "Avogadro's Number Estimate = 5.91033905471e+23\n",
        "Avogadro's Number Theory = 6.0221413e+23\n",
        "Percent Error = 1.85651979453 %\n"
       ]
      }
     ],
     "prompt_number": 30
    },
    {
     "cell_type": "raw",
     "metadata": {},
     "source": [
      "By varrying the P parameter I am able to achieve mostly sub 1% error. This effect could be attributed to temperature fluctuations from run to run."
     ]
    },
    {
     "cell_type": "code",
     "collapsed": false,
     "input": [
      "analyzerun('run10',650)"
     ],
     "language": "python",
     "metadata": {},
     "outputs": [
      {
       "output_type": "stream",
       "stream": "stdout",
       "text": [
        "<PIL.JpegImagePlugin.JpegImageFile image mode=RGB size=640x480 at 0xAB78208>\n",
        "<PIL.JpegImagePlugin.JpegImageFile image mode=RGB size=640x480 at 0xAB78208>"
       ]
      },
      {
       "output_type": "stream",
       "stream": "stdout",
       "text": [
        "\n",
        "<PIL.JpegImagePlugin.JpegImageFile image mode=RGB size=640x480 at 0xAA86908>"
       ]
      },
      {
       "output_type": "stream",
       "stream": "stdout",
       "text": [
        "\n",
        "<PIL.JpegImagePlugin.JpegImageFile image mode=RGB size=640x480 at 0xAA86908>"
       ]
      },
      {
       "output_type": "stream",
       "stream": "stdout",
       "text": [
        "\n",
        "<PIL.JpegImagePlugin.JpegImageFile image mode=RGB size=640x480 at 0xAB78208>"
       ]
      },
      {
       "output_type": "stream",
       "stream": "stdout",
       "text": [
        "\n",
        "<PIL.JpegImagePlugin.JpegImageFile image mode=RGB size=640x480 at 0xAB78208>"
       ]
      },
      {
       "output_type": "stream",
       "stream": "stdout",
       "text": [
        "\n",
        "<PIL.JpegImagePlugin.JpegImageFile image mode=RGB size=640x480 at 0xAA86908>"
       ]
      },
      {
       "output_type": "stream",
       "stream": "stdout",
       "text": [
        "\n",
        "<PIL.JpegImagePlugin.JpegImageFile image mode=RGB size=640x480 at 0xAA86908>"
       ]
      },
      {
       "output_type": "stream",
       "stream": "stdout",
       "text": [
        "\n",
        "D ="
       ]
      },
      {
       "output_type": "stream",
       "stream": "stdout",
       "text": [
        " 1.485859375e-12\n",
        "K Estimate = 4.29280463074e-23\n",
        "K Theory = 1.3806488e-23\n",
        "Percent Error = 210.926618756 %\n",
        "Avogadro's Number Estimate = 1.9368619621e+23\n",
        "Avogadro's Number Theory = 6.0221413e+23\n",
        "Percent Error = 67.8376533261 %\n"
       ]
      }
     ],
     "prompt_number": 34
    },
    {
     "cell_type": "code",
     "collapsed": false,
     "input": [
      "AvoEstim('run10',8)"
     ],
     "language": "python",
     "metadata": {},
     "outputs": [
      {
       "output_type": "stream",
       "stream": "stdout",
       "text": [
        "D = 4.33854166667e-14\n",
        "K Estimate = 1.25345049947e-24\n",
        "K Theory = 1.3806488e-23\n",
        "Percent Error = 90.9212936739 %\n",
        "Avogadro's Number Estimate = 6.63334531642e+24\n",
        "Avogadro's Number Theory = 6.0221413e+23\n",
        "Percent Error = 1001.49280563 %\n"
       ]
      }
     ],
     "prompt_number": 32
    },
    {
     "cell_type": "code",
     "collapsed": false,
     "input": [
      "analyzerun('run11')"
     ],
     "language": "python",
     "metadata": {},
     "outputs": [
      {
       "output_type": "stream",
       "stream": "stdout",
       "text": [
        "<PIL.JpegImagePlugin.JpegImageFile image mode=RGB size=800x600 at 0xAA86908>\n",
        "<PIL.JpegImagePlugin.JpegImageFile image mode=RGB size=800x600 at 0xAA86908>"
       ]
      },
      {
       "output_type": "stream",
       "stream": "stdout",
       "text": [
        "\n",
        "<PIL.JpegImagePlugin.JpegImageFile image mode=RGB size=800x600 at 0xAC2F248>"
       ]
      },
      {
       "output_type": "stream",
       "stream": "stdout",
       "text": [
        "\n",
        "<PIL.JpegImagePlugin.JpegImageFile image mode=RGB size=800x600 at 0xAC2F248>"
       ]
      },
      {
       "output_type": "stream",
       "stream": "stdout",
       "text": [
        "\n",
        "<PIL.JpegImagePlugin.JpegImageFile image mode=RGB size=800x600 at 0xAAC3B88>"
       ]
      },
      {
       "output_type": "stream",
       "stream": "stdout",
       "text": [
        "\n",
        "<PIL.JpegImagePlugin.JpegImageFile image mode=RGB size=800x600 at 0xAAC3B88>"
       ]
      },
      {
       "output_type": "stream",
       "stream": "stdout",
       "text": [
        "\n",
        "<PIL.JpegImagePlugin.JpegImageFile image mode=RGB size=800x600 at 0xABFDC48>"
       ]
      },
      {
       "output_type": "stream",
       "stream": "stdout",
       "text": [
        "\n",
        "<PIL.JpegImagePlugin.JpegImageFile image mode=RGB size=800x600 at 0xABFDC48>"
       ]
      },
      {
       "output_type": "stream",
       "stream": "stdout",
       "text": [
        "\n",
        "<PIL.JpegImagePlugin.JpegImageFile image mode=RGB size=800x600 at 0xAB63E08>"
       ]
      },
      {
       "output_type": "stream",
       "stream": "stdout",
       "text": [
        "\n",
        "<PIL.JpegImagePlugin.JpegImageFile image mode=RGB size=800x600 at 0xAB63E08>"
       ]
      },
      {
       "output_type": "stream",
       "stream": "stdout",
       "text": [
        "\n",
        "<PIL.JpegImagePlugin.JpegImageFile image mode=RGB size=800x600 at 0xAB6A508>"
       ]
      },
      {
       "output_type": "stream",
       "stream": "stdout",
       "text": [
        "\n",
        "<PIL.JpegImagePlugin.JpegImageFile image mode=RGB size=800x600 at 0xAB6A508>"
       ]
      },
      {
       "output_type": "stream",
       "stream": "stdout",
       "text": [
        "\n",
        "<PIL.JpegImagePlugin.JpegImageFile image mode=RGB size=800x600 at 0xAAC2788>"
       ]
      },
      {
       "output_type": "stream",
       "stream": "stdout",
       "text": [
        "\n",
        "<PIL.JpegImagePlugin.JpegImageFile image mode=RGB size=800x600 at 0xAAC2788>"
       ]
      },
      {
       "output_type": "stream",
       "stream": "stdout",
       "text": [
        "\n",
        "<PIL.JpegImagePlugin.JpegImageFile image mode=RGB size=800x600 at 0xAC31108>"
       ]
      },
      {
       "output_type": "stream",
       "stream": "stdout",
       "text": [
        "\n",
        "<PIL.JpegImagePlugin.JpegImageFile image mode=RGB size=800x600 at 0xAC31108>"
       ]
      },
      {
       "output_type": "stream",
       "stream": "stdout",
       "text": [
        "\n",
        "<PIL.JpegImagePlugin.JpegImageFile image mode=RGB size=800x600 at 0xAB6ADC8>"
       ]
      },
      {
       "output_type": "stream",
       "stream": "stdout",
       "text": [
        "\n",
        "<PIL.JpegImagePlugin.JpegImageFile image mode=RGB size=800x600 at 0xAB6ADC8>"
       ]
      },
      {
       "output_type": "stream",
       "stream": "stdout",
       "text": [
        "\n",
        "<PIL.JpegImagePlugin.JpegImageFile image mode=RGB size=800x600 at 0xAB8AE48>"
       ]
      },
      {
       "output_type": "stream",
       "stream": "stdout",
       "text": [
        "\n",
        "<PIL.JpegImagePlugin.JpegImageFile image mode=RGB size=800x600 at 0xAB8AE48>"
       ]
      },
      {
       "output_type": "stream",
       "stream": "stdout",
       "text": [
        "\n",
        "<PIL.JpegImagePlugin.JpegImageFile image mode=RGB size=800x600 at 0xAB9D4C8>"
       ]
      },
      {
       "output_type": "stream",
       "stream": "stdout",
       "text": [
        "\n",
        "<PIL.JpegImagePlugin.JpegImageFile image mode=RGB size=800x600 at 0xAB9D4C8>"
       ]
      },
      {
       "output_type": "stream",
       "stream": "stdout",
       "text": [
        "\n",
        "<PIL.JpegImagePlugin.JpegImageFile image mode=RGB size=800x600 at 0xAB78408>"
       ]
      },
      {
       "output_type": "stream",
       "stream": "stdout",
       "text": [
        "\n",
        "<PIL.JpegImagePlugin.JpegImageFile image mode=RGB size=800x600 at 0xAB78408>"
       ]
      },
      {
       "output_type": "stream",
       "stream": "stdout",
       "text": [
        "\n",
        "<PIL.JpegImagePlugin.JpegImageFile image mode=RGB size=800x600 at 0xAB8AE48>"
       ]
      },
      {
       "output_type": "stream",
       "stream": "stdout",
       "text": [
        "\n",
        "<PIL.JpegImagePlugin.JpegImageFile image mode=RGB size=800x600 at 0xAB8AE48>"
       ]
      },
      {
       "output_type": "stream",
       "stream": "stdout",
       "text": [
        "\n",
        "<PIL.JpegImagePlugin.JpegImageFile image mode=RGB size=800x600 at 0xAC2F848>"
       ]
      },
      {
       "output_type": "stream",
       "stream": "stdout",
       "text": [
        "\n",
        "<PIL.JpegImagePlugin.JpegImageFile image mode=RGB size=800x600 at 0xAC2F848>"
       ]
      },
      {
       "output_type": "stream",
       "stream": "stdout",
       "text": [
        "\n",
        "<PIL.JpegImagePlugin.JpegImageFile image mode=RGB size=800x600 at 0xAB9AF08>"
       ]
      },
      {
       "output_type": "stream",
       "stream": "stdout",
       "text": [
        "\n",
        "<PIL.JpegImagePlugin.JpegImageFile image mode=RGB size=800x600 at 0xAB9AF08>"
       ]
      },
      {
       "output_type": "stream",
       "stream": "stdout",
       "text": [
        "\n",
        "<PIL.JpegImagePlugin.JpegImageFile image mode=RGB size=800x600 at 0xAC2FE48>"
       ]
      },
      {
       "output_type": "stream",
       "stream": "stdout",
       "text": [
        "\n",
        "<PIL.JpegImagePlugin.JpegImageFile image mode=RGB size=800x600 at 0xAC2FE48>"
       ]
      },
      {
       "output_type": "stream",
       "stream": "stdout",
       "text": [
        "\n",
        "<PIL.JpegImagePlugin.JpegImageFile image mode=RGB size=800x600 at 0xAB78408>"
       ]
      },
      {
       "output_type": "stream",
       "stream": "stdout",
       "text": [
        "\n",
        "<PIL.JpegImagePlugin.JpegImageFile image mode=RGB size=800x600 at 0xAB78408>"
       ]
      },
      {
       "output_type": "stream",
       "stream": "stdout",
       "text": [
        "\n",
        "<PIL.JpegImagePlugin.JpegImageFile image mode=RGB size=800x600 at 0xA8FE448>"
       ]
      },
      {
       "output_type": "stream",
       "stream": "stdout",
       "text": [
        "\n",
        "<PIL.JpegImagePlugin.JpegImageFile image mode=RGB size=800x600 at 0xA8FE448>"
       ]
      },
      {
       "output_type": "stream",
       "stream": "stdout",
       "text": [
        "\n",
        "<PIL.JpegImagePlugin.JpegImageFile image mode=RGB size=800x600 at 0xAB8CE08>"
       ]
      },
      {
       "output_type": "stream",
       "stream": "stdout",
       "text": [
        "\n",
        "<PIL.JpegImagePlugin.JpegImageFile image mode=RGB size=800x600 at 0xAB8CE08>"
       ]
      },
      {
       "output_type": "stream",
       "stream": "stdout",
       "text": [
        "\n",
        "<PIL.JpegImagePlugin.JpegImageFile image mode=RGB size=800x600 at 0xA8193C8>"
       ]
      },
      {
       "output_type": "stream",
       "stream": "stdout",
       "text": [
        "\n",
        "<PIL.JpegImagePlugin.JpegImageFile image mode=RGB size=800x600 at 0xA8193C8>"
       ]
      },
      {
       "output_type": "stream",
       "stream": "stdout",
       "text": [
        "\n",
        "<PIL.JpegImagePlugin.JpegImageFile image mode=RGB size=800x600 at 0xAB8CA08>"
       ]
      },
      {
       "output_type": "stream",
       "stream": "stdout",
       "text": [
        "\n",
        "<PIL.JpegImagePlugin.JpegImageFile image mode=RGB size=800x600 at 0xAB8CA08>"
       ]
      },
      {
       "output_type": "stream",
       "stream": "stdout",
       "text": [
        "\n",
        "<PIL.JpegImagePlugin.JpegImageFile image mode=RGB size=800x600 at 0xAB6A6C8>"
       ]
      },
      {
       "output_type": "stream",
       "stream": "stdout",
       "text": [
        "\n",
        "<PIL.JpegImagePlugin.JpegImageFile image mode=RGB size=800x600 at 0xAB6A6C8>"
       ]
      },
      {
       "output_type": "stream",
       "stream": "stdout",
       "text": [
        "\n",
        "<PIL.JpegImagePlugin.JpegImageFile image mode=RGB size=800x600 at 0xAB8C148>"
       ]
      },
      {
       "output_type": "stream",
       "stream": "stdout",
       "text": [
        "\n",
        "<PIL.JpegImagePlugin.JpegImageFile image mode=RGB size=800x600 at 0xAB8C148>"
       ]
      },
      {
       "output_type": "stream",
       "stream": "stdout",
       "text": [
        "\n",
        "<PIL.JpegImagePlugin.JpegImageFile image mode=RGB size=800x600 at 0xAB8B088>"
       ]
      },
      {
       "output_type": "stream",
       "stream": "stdout",
       "text": [
        "\n",
        "<PIL.JpegImagePlugin.JpegImageFile image mode=RGB size=800x600 at 0xAB8B088>"
       ]
      },
      {
       "output_type": "stream",
       "stream": "stdout",
       "text": [
        "\n",
        "<PIL.JpegImagePlugin.JpegImageFile image mode=RGB size=800x600 at 0xAB78688>"
       ]
      },
      {
       "output_type": "stream",
       "stream": "stdout",
       "text": [
        "\n",
        "<PIL.JpegImagePlugin.JpegImageFile image mode=RGB size=800x600 at 0xAB78688>"
       ]
      },
      {
       "output_type": "stream",
       "stream": "stdout",
       "text": [
        "\n",
        "<PIL.JpegImagePlugin.JpegImageFile image mode=RGB size=800x600 at 0xAB68F48>"
       ]
      },
      {
       "output_type": "stream",
       "stream": "stdout",
       "text": [
        "\n",
        "<PIL.JpegImagePlugin.JpegImageFile image mode=RGB size=800x600 at 0xAB68F48>"
       ]
      },
      {
       "output_type": "stream",
       "stream": "stdout",
       "text": [
        "\n",
        "<PIL.JpegImagePlugin.JpegImageFile image mode=RGB size=800x600 at 0xAB78108>"
       ]
      },
      {
       "output_type": "stream",
       "stream": "stdout",
       "text": [
        "\n",
        "<PIL.JpegImagePlugin.JpegImageFile image mode=RGB size=800x600 at 0xAB78108>"
       ]
      },
      {
       "output_type": "stream",
       "stream": "stdout",
       "text": [
        "\n",
        "<PIL.JpegImagePlugin.JpegImageFile image mode=RGB size=800x600 at 0xA8FE448>"
       ]
      },
      {
       "output_type": "stream",
       "stream": "stdout",
       "text": [
        "\n",
        "<PIL.JpegImagePlugin.JpegImageFile image mode=RGB size=800x600 at 0xA8FE448>"
       ]
      },
      {
       "output_type": "stream",
       "stream": "stdout",
       "text": [
        "\n",
        "<PIL.JpegImagePlugin.JpegImageFile image mode=RGB size=800x600 at 0xAB8AD88>"
       ]
      },
      {
       "output_type": "stream",
       "stream": "stdout",
       "text": [
        "\n",
        "<PIL.JpegImagePlugin.JpegImageFile image mode=RGB size=800x600 at 0xAB8AD88>"
       ]
      },
      {
       "output_type": "stream",
       "stream": "stdout",
       "text": [
        "\n",
        "<PIL.JpegImagePlugin.JpegImageFile image mode=RGB size=800x600 at 0xAB6C188>"
       ]
      },
      {
       "output_type": "stream",
       "stream": "stdout",
       "text": [
        "\n",
        "<PIL.JpegImagePlugin.JpegImageFile image mode=RGB size=800x600 at 0xAB6C188>"
       ]
      },
      {
       "output_type": "stream",
       "stream": "stdout",
       "text": [
        "\n",
        "<PIL.JpegImagePlugin.JpegImageFile image mode=RGB size=800x600 at 0xAB66748>"
       ]
      },
      {
       "output_type": "stream",
       "stream": "stdout",
       "text": [
        "\n",
        "<PIL.JpegImagePlugin.JpegImageFile image mode=RGB size=800x600 at 0xAB66748>"
       ]
      },
      {
       "output_type": "stream",
       "stream": "stdout",
       "text": [
        "\n",
        "<PIL.JpegImagePlugin.JpegImageFile image mode=RGB size=800x600 at 0xAA864C8>"
       ]
      },
      {
       "output_type": "stream",
       "stream": "stdout",
       "text": [
        "\n",
        "<PIL.JpegImagePlugin.JpegImageFile image mode=RGB size=800x600 at 0xAA864C8>"
       ]
      },
      {
       "output_type": "stream",
       "stream": "stdout",
       "text": [
        "\n",
        "<PIL.JpegImagePlugin.JpegImageFile image mode=RGB size=800x600 at 0xAB66E48>"
       ]
      },
      {
       "output_type": "stream",
       "stream": "stdout",
       "text": [
        "\n",
        "<PIL.JpegImagePlugin.JpegImageFile image mode=RGB size=800x600 at 0xAB66E48>"
       ]
      },
      {
       "output_type": "stream",
       "stream": "stdout",
       "text": [
        "\n",
        "<PIL.JpegImagePlugin.JpegImageFile image mode=RGB size=800x600 at 0xAB69C88>"
       ]
      },
      {
       "output_type": "stream",
       "stream": "stdout",
       "text": [
        "\n",
        "<PIL.JpegImagePlugin.JpegImageFile image mode=RGB size=800x600 at 0xAB69C88>"
       ]
      },
      {
       "output_type": "stream",
       "stream": "stdout",
       "text": [
        "\n",
        "<PIL.JpegImagePlugin.JpegImageFile image mode=RGB size=800x600 at 0xAB6C948>"
       ]
      },
      {
       "output_type": "stream",
       "stream": "stdout",
       "text": [
        "\n",
        "<PIL.JpegImagePlugin.JpegImageFile image mode=RGB size=800x600 at 0xAB6C948>"
       ]
      },
      {
       "output_type": "stream",
       "stream": "stdout",
       "text": [
        "\n",
        "<PIL.JpegImagePlugin.JpegImageFile image mode=RGB size=800x600 at 0xAAC1C88>"
       ]
      },
      {
       "output_type": "stream",
       "stream": "stdout",
       "text": [
        "\n",
        "<PIL.JpegImagePlugin.JpegImageFile image mode=RGB size=800x600 at 0xAAC1C88>"
       ]
      },
      {
       "output_type": "stream",
       "stream": "stdout",
       "text": [
        "\n",
        "<PIL.JpegImagePlugin.JpegImageFile image mode=RGB size=800x600 at 0xAABFEC8>"
       ]
      },
      {
       "output_type": "stream",
       "stream": "stdout",
       "text": [
        "\n",
        "<PIL.JpegImagePlugin.JpegImageFile image mode=RGB size=800x600 at 0xAABFEC8>"
       ]
      },
      {
       "output_type": "stream",
       "stream": "stdout",
       "text": [
        "\n",
        "<PIL.JpegImagePlugin.JpegImageFile image mode=RGB size=800x600 at 0xAB8AF88>"
       ]
      },
      {
       "output_type": "stream",
       "stream": "stdout",
       "text": [
        "\n",
        "<PIL.JpegImagePlugin.JpegImageFile image mode=RGB size=800x600 at 0xAB8AF88>"
       ]
      },
      {
       "output_type": "stream",
       "stream": "stdout",
       "text": [
        "\n",
        "<PIL.JpegImagePlugin.JpegImageFile image mode=RGB size=800x600 at 0xAC2C148>"
       ]
      },
      {
       "output_type": "stream",
       "stream": "stdout",
       "text": [
        "\n",
        "<PIL.JpegImagePlugin.JpegImageFile image mode=RGB size=800x600 at 0xAC2C148>"
       ]
      },
      {
       "output_type": "stream",
       "stream": "stdout",
       "text": [
        "\n",
        "<PIL.JpegImagePlugin.JpegImageFile image mode=RGB size=800x600 at 0xABFACC8>"
       ]
      },
      {
       "output_type": "stream",
       "stream": "stdout",
       "text": [
        "\n",
        "<PIL.JpegImagePlugin.JpegImageFile image mode=RGB size=800x600 at 0xABFACC8>"
       ]
      },
      {
       "output_type": "stream",
       "stream": "stdout",
       "text": [
        "\n",
        "<PIL.JpegImagePlugin.JpegImageFile image mode=RGB size=800x600 at 0xAB64E08>"
       ]
      },
      {
       "output_type": "stream",
       "stream": "stdout",
       "text": [
        "\n",
        "<PIL.JpegImagePlugin.JpegImageFile image mode=RGB size=800x600 at 0xAB64E08>"
       ]
      },
      {
       "output_type": "stream",
       "stream": "stdout",
       "text": [
        "\n",
        "<PIL.JpegImagePlugin.JpegImageFile image mode=RGB size=800x600 at 0xAB9FF48>"
       ]
      },
      {
       "output_type": "stream",
       "stream": "stdout",
       "text": [
        "\n",
        "<PIL.JpegImagePlugin.JpegImageFile image mode=RGB size=800x600 at 0xAB9FF48>"
       ]
      },
      {
       "output_type": "stream",
       "stream": "stdout",
       "text": [
        "\n",
        "<PIL.JpegImagePlugin.JpegImageFile image mode=RGB size=800x600 at 0xAAC1B08>"
       ]
      },
      {
       "output_type": "stream",
       "stream": "stdout",
       "text": [
        "\n",
        "<PIL.JpegImagePlugin.JpegImageFile image mode=RGB size=800x600 at 0xAAC1B08>"
       ]
      },
      {
       "output_type": "stream",
       "stream": "stdout",
       "text": [
        "\n",
        "<PIL.JpegImagePlugin.JpegImageFile image mode=RGB size=800x600 at 0xAB78688>"
       ]
      },
      {
       "output_type": "stream",
       "stream": "stdout",
       "text": [
        "\n",
        "<PIL.JpegImagePlugin.JpegImageFile image mode=RGB size=800x600 at 0xAB78688>"
       ]
      },
      {
       "output_type": "stream",
       "stream": "stdout",
       "text": [
        "\n",
        "<PIL.JpegImagePlugin.JpegImageFile image mode=RGB size=800x600 at 0xAB64EC8>"
       ]
      },
      {
       "output_type": "stream",
       "stream": "stdout",
       "text": [
        "\n",
        "<PIL.JpegImagePlugin.JpegImageFile image mode=RGB size=800x600 at 0xAB64EC8>"
       ]
      },
      {
       "output_type": "stream",
       "stream": "stdout",
       "text": [
        "\n",
        "<PIL.JpegImagePlugin.JpegImageFile image mode=RGB size=800x600 at 0xAAC2308>"
       ]
      },
      {
       "output_type": "stream",
       "stream": "stdout",
       "text": [
        "\n",
        "<PIL.JpegImagePlugin.JpegImageFile image mode=RGB size=800x600 at 0xAAC2308>"
       ]
      },
      {
       "output_type": "stream",
       "stream": "stdout",
       "text": [
        "\n",
        "<PIL.JpegImagePlugin.JpegImageFile image mode=RGB size=800x600 at 0xABFEEC8>"
       ]
      },
      {
       "output_type": "stream",
       "stream": "stdout",
       "text": [
        "\n",
        "<PIL.JpegImagePlugin.JpegImageFile image mode=RGB size=800x600 at 0xABFEEC8>"
       ]
      },
      {
       "output_type": "stream",
       "stream": "stdout",
       "text": [
        "\n",
        "<PIL.JpegImagePlugin.JpegImageFile image mode=RGB size=800x600 at 0xA9B7748>"
       ]
      },
      {
       "output_type": "stream",
       "stream": "stdout",
       "text": [
        "\n",
        "<PIL.JpegImagePlugin.JpegImageFile image mode=RGB size=800x600 at 0xA9B7748>"
       ]
      },
      {
       "output_type": "stream",
       "stream": "stdout",
       "text": [
        "\n",
        "<PIL.JpegImagePlugin.JpegImageFile image mode=RGB size=800x600 at 0xABFEA08>"
       ]
      },
      {
       "output_type": "stream",
       "stream": "stdout",
       "text": [
        "\n",
        "<PIL.JpegImagePlugin.JpegImageFile image mode=RGB size=800x600 at 0xABFEA08>"
       ]
      },
      {
       "output_type": "stream",
       "stream": "stdout",
       "text": [
        "\n",
        "<PIL.JpegImagePlugin.JpegImageFile image mode=RGB size=800x600 at 0xAABD448>"
       ]
      },
      {
       "output_type": "stream",
       "stream": "stdout",
       "text": [
        "\n",
        "<PIL.JpegImagePlugin.JpegImageFile image mode=RGB size=800x600 at 0xAABD448>"
       ]
      },
      {
       "output_type": "stream",
       "stream": "stdout",
       "text": [
        "\n",
        "<PIL.JpegImagePlugin.JpegImageFile image mode=RGB size=800x600 at 0xAABD888>"
       ]
      },
      {
       "output_type": "stream",
       "stream": "stdout",
       "text": [
        "\n",
        "<PIL.JpegImagePlugin.JpegImageFile image mode=RGB size=800x600 at 0xAABD888>"
       ]
      },
      {
       "output_type": "stream",
       "stream": "stdout",
       "text": [
        "\n",
        "<PIL.JpegImagePlugin.JpegImageFile image mode=RGB size=800x600 at 0xABF97C8>"
       ]
      },
      {
       "output_type": "stream",
       "stream": "stdout",
       "text": [
        "\n",
        "<PIL.JpegImagePlugin.JpegImageFile image mode=RGB size=800x600 at 0xABF97C8>"
       ]
      },
      {
       "output_type": "stream",
       "stream": "stdout",
       "text": [
        "\n",
        "<PIL.JpegImagePlugin.JpegImageFile image mode=RGB size=800x600 at 0xAB66C88>"
       ]
      },
      {
       "output_type": "stream",
       "stream": "stdout",
       "text": [
        "\n",
        "<PIL.JpegImagePlugin.JpegImageFile image mode=RGB size=800x600 at 0xAB66C88>"
       ]
      },
      {
       "output_type": "stream",
       "stream": "stdout",
       "text": [
        "\n",
        "<PIL.JpegImagePlugin.JpegImageFile image mode=RGB size=800x600 at 0xAB62348>"
       ]
      },
      {
       "output_type": "stream",
       "stream": "stdout",
       "text": [
        "\n",
        "<PIL.JpegImagePlugin.JpegImageFile image mode=RGB size=800x600 at 0xAB62348>"
       ]
      },
      {
       "output_type": "stream",
       "stream": "stdout",
       "text": [
        "\n",
        "<PIL.JpegImagePlugin.JpegImageFile image mode=RGB size=800x600 at 0xAC1DB48>"
       ]
      },
      {
       "output_type": "stream",
       "stream": "stdout",
       "text": [
        "\n",
        "<PIL.JpegImagePlugin.JpegImageFile image mode=RGB size=800x600 at 0xAC1DB48>"
       ]
      },
      {
       "output_type": "stream",
       "stream": "stdout",
       "text": [
        "\n",
        "<PIL.JpegImagePlugin.JpegImageFile image mode=RGB size=800x600 at 0xA9B7748>"
       ]
      },
      {
       "output_type": "stream",
       "stream": "stdout",
       "text": [
        "\n",
        "<PIL.JpegImagePlugin.JpegImageFile image mode=RGB size=800x600 at 0xA9B7748>"
       ]
      },
      {
       "output_type": "stream",
       "stream": "stdout",
       "text": [
        "\n",
        "<PIL.JpegImagePlugin.JpegImageFile image mode=RGB size=800x600 at 0xAA86608>"
       ]
      },
      {
       "output_type": "stream",
       "stream": "stdout",
       "text": [
        "\n",
        "<PIL.JpegImagePlugin.JpegImageFile image mode=RGB size=800x600 at 0xAA86608>"
       ]
      },
      {
       "output_type": "stream",
       "stream": "stdout",
       "text": [
        "\n",
        "<PIL.JpegImagePlugin.JpegImageFile image mode=RGB size=800x600 at 0xAABF9C8>"
       ]
      },
      {
       "output_type": "stream",
       "stream": "stdout",
       "text": [
        "\n",
        "<PIL.JpegImagePlugin.JpegImageFile image mode=RGB size=800x600 at 0xAABF9C8>"
       ]
      },
      {
       "output_type": "stream",
       "stream": "stdout",
       "text": [
        "\n",
        "<PIL.JpegImagePlugin.JpegImageFile image mode=RGB size=800x600 at 0xAABD948>"
       ]
      },
      {
       "output_type": "stream",
       "stream": "stdout",
       "text": [
        "\n",
        "<PIL.JpegImagePlugin.JpegImageFile image mode=RGB size=800x600 at 0xAABD948>"
       ]
      },
      {
       "output_type": "stream",
       "stream": "stdout",
       "text": [
        "\n",
        "<PIL.JpegImagePlugin.JpegImageFile image mode=RGB size=800x600 at 0xAC28288>"
       ]
      },
      {
       "output_type": "stream",
       "stream": "stdout",
       "text": [
        "\n",
        "<PIL.JpegImagePlugin.JpegImageFile image mode=RGB size=800x600 at 0xAC28288>"
       ]
      },
      {
       "output_type": "stream",
       "stream": "stdout",
       "text": [
        "\n",
        "<PIL.JpegImagePlugin.JpegImageFile image mode=RGB size=800x600 at 0xABFE108>"
       ]
      },
      {
       "output_type": "stream",
       "stream": "stdout",
       "text": [
        "\n",
        "<PIL.JpegImagePlugin.JpegImageFile image mode=RGB size=800x600 at 0xABFE108>"
       ]
      },
      {
       "output_type": "stream",
       "stream": "stdout",
       "text": [
        "\n",
        "<PIL.JpegImagePlugin.JpegImageFile image mode=RGB size=800x600 at 0xAC36088>"
       ]
      },
      {
       "output_type": "stream",
       "stream": "stdout",
       "text": [
        "\n",
        "<PIL.JpegImagePlugin.JpegImageFile image mode=RGB size=800x600 at 0xAC36088>"
       ]
      },
      {
       "output_type": "stream",
       "stream": "stdout",
       "text": [
        "\n",
        "<PIL.JpegImagePlugin.JpegImageFile image mode=RGB size=800x600 at 0xAABD408>"
       ]
      },
      {
       "output_type": "stream",
       "stream": "stdout",
       "text": [
        "\n",
        "<PIL.JpegImagePlugin.JpegImageFile image mode=RGB size=800x600 at 0xAABD408>"
       ]
      },
      {
       "output_type": "stream",
       "stream": "stdout",
       "text": [
        "\n",
        "<PIL.JpegImagePlugin.JpegImageFile image mode=RGB size=800x600 at 0xAB8AC08>"
       ]
      },
      {
       "output_type": "stream",
       "stream": "stdout",
       "text": [
        "\n",
        "<PIL.JpegImagePlugin.JpegImageFile image mode=RGB size=800x600 at 0xAB8AC08>"
       ]
      },
      {
       "output_type": "stream",
       "stream": "stdout",
       "text": [
        "\n",
        "<PIL.JpegImagePlugin.JpegImageFile image mode=RGB size=800x600 at 0xAB6C848>"
       ]
      },
      {
       "output_type": "stream",
       "stream": "stdout",
       "text": [
        "\n",
        "<PIL.JpegImagePlugin.JpegImageFile image mode=RGB size=800x600 at 0xAB6C848>"
       ]
      },
      {
       "output_type": "stream",
       "stream": "stdout",
       "text": [
        "\n",
        "<PIL.JpegImagePlugin.JpegImageFile image mode=RGB size=800x600 at 0xAA86608>"
       ]
      },
      {
       "output_type": "stream",
       "stream": "stdout",
       "text": [
        "\n",
        "<PIL.JpegImagePlugin.JpegImageFile image mode=RGB size=800x600 at 0xAA86608>"
       ]
      },
      {
       "output_type": "stream",
       "stream": "stdout",
       "text": [
        "\n",
        "<PIL.JpegImagePlugin.JpegImageFile image mode=RGB size=800x600 at 0xAB78148>"
       ]
      },
      {
       "output_type": "stream",
       "stream": "stdout",
       "text": [
        "\n",
        "<PIL.JpegImagePlugin.JpegImageFile image mode=RGB size=800x600 at 0xAB78148>"
       ]
      },
      {
       "output_type": "stream",
       "stream": "stdout",
       "text": [
        "\n",
        "<PIL.JpegImagePlugin.JpegImageFile image mode=RGB size=800x600 at 0xAB65948>"
       ]
      },
      {
       "output_type": "stream",
       "stream": "stdout",
       "text": [
        "\n",
        "<PIL.JpegImagePlugin.JpegImageFile image mode=RGB size=800x600 at 0xAB65948>"
       ]
      },
      {
       "output_type": "stream",
       "stream": "stdout",
       "text": [
        "\n",
        "<PIL.JpegImagePlugin.JpegImageFile image mode=RGB size=800x600 at 0xA8FE448>"
       ]
      },
      {
       "output_type": "stream",
       "stream": "stdout",
       "text": [
        "\n",
        "<PIL.JpegImagePlugin.JpegImageFile image mode=RGB size=800x600 at 0xA8FE448>"
       ]
      },
      {
       "output_type": "stream",
       "stream": "stdout",
       "text": [
        "\n",
        "<PIL.JpegImagePlugin.JpegImageFile image mode=RGB size=800x600 at 0xAB65AC8>"
       ]
      },
      {
       "output_type": "stream",
       "stream": "stdout",
       "text": [
        "\n",
        "<PIL.JpegImagePlugin.JpegImageFile image mode=RGB size=800x600 at 0xAB65AC8>"
       ]
      },
      {
       "output_type": "stream",
       "stream": "stdout",
       "text": [
        "\n",
        "<PIL.JpegImagePlugin.JpegImageFile image mode=RGB size=800x600 at 0xAB6C948>"
       ]
      },
      {
       "output_type": "stream",
       "stream": "stdout",
       "text": [
        "\n",
        "<PIL.JpegImagePlugin.JpegImageFile image mode=RGB size=800x600 at 0xAB6C948>"
       ]
      },
      {
       "output_type": "stream",
       "stream": "stdout",
       "text": [
        "\n",
        "<PIL.JpegImagePlugin.JpegImageFile image mode=RGB size=800x600 at 0xAA868C8>"
       ]
      },
      {
       "output_type": "stream",
       "stream": "stdout",
       "text": [
        "\n",
        "<PIL.JpegImagePlugin.JpegImageFile image mode=RGB size=800x600 at 0xAA868C8>"
       ]
      },
      {
       "output_type": "stream",
       "stream": "stdout",
       "text": [
        "\n",
        "<PIL.JpegImagePlugin.JpegImageFile image mode=RGB size=800x600 at 0xA8193C8>"
       ]
      },
      {
       "output_type": "stream",
       "stream": "stdout",
       "text": [
        "\n",
        "<PIL.JpegImagePlugin.JpegImageFile image mode=RGB size=800x600 at 0xA8193C8>"
       ]
      },
      {
       "output_type": "stream",
       "stream": "stdout",
       "text": [
        "\n",
        "<PIL.JpegImagePlugin.JpegImageFile image mode=RGB size=800x600 at 0xAB78148>"
       ]
      },
      {
       "output_type": "stream",
       "stream": "stdout",
       "text": [
        "\n",
        "<PIL.JpegImagePlugin.JpegImageFile image mode=RGB size=800x600 at 0xAB78148>"
       ]
      },
      {
       "output_type": "stream",
       "stream": "stdout",
       "text": [
        "\n",
        "<PIL.JpegImagePlugin.JpegImageFile image mode=RGB size=800x600 at 0xAB78148>"
       ]
      },
      {
       "output_type": "stream",
       "stream": "stdout",
       "text": [
        "\n",
        "<PIL.JpegImagePlugin.JpegImageFile image mode=RGB size=800x600 at 0xAB78148>"
       ]
      },
      {
       "output_type": "stream",
       "stream": "stdout",
       "text": [
        "\n",
        "<PIL.JpegImagePlugin.JpegImageFile image mode=RGB size=800x600 at 0xAC1D148>"
       ]
      },
      {
       "output_type": "stream",
       "stream": "stdout",
       "text": [
        "\n",
        "<PIL.JpegImagePlugin.JpegImageFile image mode=RGB size=800x600 at 0xAC1D148>"
       ]
      },
      {
       "output_type": "stream",
       "stream": "stdout",
       "text": [
        "\n",
        "<PIL.JpegImagePlugin.JpegImageFile image mode=RGB size=800x600 at 0xAB65DC8>"
       ]
      },
      {
       "output_type": "stream",
       "stream": "stdout",
       "text": [
        "\n",
        "<PIL.JpegImagePlugin.JpegImageFile image mode=RGB size=800x600 at 0xAB65DC8>"
       ]
      },
      {
       "output_type": "stream",
       "stream": "stdout",
       "text": [
        "\n",
        "<PIL.JpegImagePlugin.JpegImageFile image mode=RGB size=800x600 at 0xABFAFC8>"
       ]
      },
      {
       "output_type": "stream",
       "stream": "stdout",
       "text": [
        "\n",
        "<PIL.JpegImagePlugin.JpegImageFile image mode=RGB size=800x600 at 0xABFAFC8>"
       ]
      },
      {
       "output_type": "stream",
       "stream": "stdout",
       "text": [
        "\n",
        "<PIL.JpegImagePlugin.JpegImageFile image mode=RGB size=800x600 at 0xAC31F08>"
       ]
      },
      {
       "output_type": "stream",
       "stream": "stdout",
       "text": [
        "\n",
        "<PIL.JpegImagePlugin.JpegImageFile image mode=RGB size=800x600 at 0xAC31F08>"
       ]
      },
      {
       "output_type": "stream",
       "stream": "stdout",
       "text": [
        "\n",
        "<PIL.JpegImagePlugin.JpegImageFile image mode=RGB size=800x600 at 0xAB787C8>"
       ]
      },
      {
       "output_type": "stream",
       "stream": "stdout",
       "text": [
        "\n",
        "<PIL.JpegImagePlugin.JpegImageFile image mode=RGB size=800x600 at 0xAB787C8>"
       ]
      },
      {
       "output_type": "stream",
       "stream": "stdout",
       "text": [
        "\n",
        "<PIL.JpegImagePlugin.JpegImageFile image mode=RGB size=800x600 at 0xA8FE448>"
       ]
      },
      {
       "output_type": "stream",
       "stream": "stdout",
       "text": [
        "\n",
        "<PIL.JpegImagePlugin.JpegImageFile image mode=RGB size=800x600 at 0xA8FE448>"
       ]
      },
      {
       "output_type": "stream",
       "stream": "stdout",
       "text": [
        "\n",
        "<PIL.JpegImagePlugin.JpegImageFile image mode=RGB size=800x600 at 0xAB63C88>"
       ]
      },
      {
       "output_type": "stream",
       "stream": "stdout",
       "text": [
        "\n",
        "<PIL.JpegImagePlugin.JpegImageFile image mode=RGB size=800x600 at 0xAB63C88>"
       ]
      },
      {
       "output_type": "stream",
       "stream": "stdout",
       "text": [
        "\n",
        "<PIL.JpegImagePlugin.JpegImageFile image mode=RGB size=800x600 at 0xAB6AFC8>"
       ]
      },
      {
       "output_type": "stream",
       "stream": "stdout",
       "text": [
        "\n",
        "<PIL.JpegImagePlugin.JpegImageFile image mode=RGB size=800x600 at 0xAB6AFC8>"
       ]
      },
      {
       "output_type": "stream",
       "stream": "stdout",
       "text": [
        "\n",
        "<PIL.JpegImagePlugin.JpegImageFile image mode=RGB size=800x600 at 0xAC1D2C8>"
       ]
      },
      {
       "output_type": "stream",
       "stream": "stdout",
       "text": [
        "\n",
        "<PIL.JpegImagePlugin.JpegImageFile image mode=RGB size=800x600 at 0xAC1D2C8>"
       ]
      },
      {
       "output_type": "stream",
       "stream": "stdout",
       "text": [
        "\n",
        "<PIL.JpegImagePlugin.JpegImageFile image mode=RGB size=800x600 at 0xABFA388>"
       ]
      },
      {
       "output_type": "stream",
       "stream": "stdout",
       "text": [
        "\n",
        "<PIL.JpegImagePlugin.JpegImageFile image mode=RGB size=800x600 at 0xABFA388>"
       ]
      },
      {
       "output_type": "stream",
       "stream": "stdout",
       "text": [
        "\n",
        "<PIL.JpegImagePlugin.JpegImageFile image mode=RGB size=800x600 at 0xAB78148>"
       ]
      },
      {
       "output_type": "stream",
       "stream": "stdout",
       "text": [
        "\n",
        "<PIL.JpegImagePlugin.JpegImageFile image mode=RGB size=800x600 at 0xAB78148>"
       ]
      },
      {
       "output_type": "stream",
       "stream": "stdout",
       "text": [
        "\n",
        "<PIL.JpegImagePlugin.JpegImageFile image mode=RGB size=800x600 at 0xAB78408>"
       ]
      },
      {
       "output_type": "stream",
       "stream": "stdout",
       "text": [
        "\n",
        "<PIL.JpegImagePlugin.JpegImageFile image mode=RGB size=800x600 at 0xAB78408>"
       ]
      },
      {
       "output_type": "stream",
       "stream": "stdout",
       "text": [
        "\n",
        "<PIL.JpegImagePlugin.JpegImageFile image mode=RGB size=800x600 at 0xAC2E708>"
       ]
      },
      {
       "output_type": "stream",
       "stream": "stdout",
       "text": [
        "\n",
        "<PIL.JpegImagePlugin.JpegImageFile image mode=RGB size=800x600 at 0xAC2E708>"
       ]
      },
      {
       "output_type": "stream",
       "stream": "stdout",
       "text": [
        "\n",
        "<PIL.JpegImagePlugin.JpegImageFile image mode=RGB size=800x600 at 0xAAC3DC8>"
       ]
      },
      {
       "output_type": "stream",
       "stream": "stdout",
       "text": [
        "\n",
        "<PIL.JpegImagePlugin.JpegImageFile image mode=RGB size=800x600 at 0xAAC3DC8>"
       ]
      },
      {
       "output_type": "stream",
       "stream": "stdout",
       "text": [
        "\n",
        "<PIL.JpegImagePlugin.JpegImageFile image mode=RGB size=800x600 at 0xAB8ACC8>"
       ]
      },
      {
       "output_type": "stream",
       "stream": "stdout",
       "text": [
        "\n",
        "<PIL.JpegImagePlugin.JpegImageFile image mode=RGB size=800x600 at 0xAB8ACC8>"
       ]
      },
      {
       "output_type": "stream",
       "stream": "stdout",
       "text": [
        "\n",
        "<PIL.JpegImagePlugin.JpegImageFile image mode=RGB size=800x600 at 0xAC2BCC8>"
       ]
      },
      {
       "output_type": "stream",
       "stream": "stdout",
       "text": [
        "\n",
        "<PIL.JpegImagePlugin.JpegImageFile image mode=RGB size=800x600 at 0xAC2BCC8>"
       ]
      },
      {
       "output_type": "stream",
       "stream": "stdout",
       "text": [
        "\n",
        "<PIL.JpegImagePlugin.JpegImageFile image mode=RGB size=800x600 at 0xAB634C8>"
       ]
      },
      {
       "output_type": "stream",
       "stream": "stdout",
       "text": [
        "\n",
        "<PIL.JpegImagePlugin.JpegImageFile image mode=RGB size=800x600 at 0xAB634C8>"
       ]
      },
      {
       "output_type": "stream",
       "stream": "stdout",
       "text": [
        "\n",
        "<PIL.JpegImagePlugin.JpegImageFile image mode=RGB size=800x600 at 0xAABF0C8>"
       ]
      },
      {
       "output_type": "stream",
       "stream": "stdout",
       "text": [
        "\n",
        "<PIL.JpegImagePlugin.JpegImageFile image mode=RGB size=800x600 at 0xAABF0C8>"
       ]
      },
      {
       "output_type": "stream",
       "stream": "stdout",
       "text": [
        "\n",
        "<PIL.JpegImagePlugin.JpegImageFile image mode=RGB size=800x600 at 0xABFA588>"
       ]
      },
      {
       "output_type": "stream",
       "stream": "stdout",
       "text": [
        "\n",
        "<PIL.JpegImagePlugin.JpegImageFile image mode=RGB size=800x600 at 0xABFA588>"
       ]
      },
      {
       "output_type": "stream",
       "stream": "stdout",
       "text": [
        "\n",
        "<PIL.JpegImagePlugin.JpegImageFile image mode=RGB size=800x600 at 0xAB9BA48>"
       ]
      },
      {
       "output_type": "stream",
       "stream": "stdout",
       "text": [
        "\n",
        "<PIL.JpegImagePlugin.JpegImageFile image mode=RGB size=800x600 at 0xAB9BA48>"
       ]
      },
      {
       "output_type": "stream",
       "stream": "stdout",
       "text": [
        "\n",
        "<PIL.JpegImagePlugin.JpegImageFile image mode=RGB size=800x600 at 0xAABFF08>"
       ]
      },
      {
       "output_type": "stream",
       "stream": "stdout",
       "text": [
        "\n",
        "<PIL.JpegImagePlugin.JpegImageFile image mode=RGB size=800x600 at 0xAABFF08>"
       ]
      },
      {
       "output_type": "stream",
       "stream": "stdout",
       "text": [
        "\n",
        "<PIL.JpegImagePlugin.JpegImageFile image mode=RGB size=800x600 at 0xAC369C8>"
       ]
      },
      {
       "output_type": "stream",
       "stream": "stdout",
       "text": [
        "\n",
        "<PIL.JpegImagePlugin.JpegImageFile image mode=RGB size=800x600 at 0xAC369C8>"
       ]
      },
      {
       "output_type": "stream",
       "stream": "stdout",
       "text": [
        "\n",
        "<PIL.JpegImagePlugin.JpegImageFile image mode=RGB size=800x600 at 0xAB78108>"
       ]
      },
      {
       "output_type": "stream",
       "stream": "stdout",
       "text": [
        "\n",
        "<PIL.JpegImagePlugin.JpegImageFile image mode=RGB size=800x600 at 0xAB78108>"
       ]
      },
      {
       "output_type": "stream",
       "stream": "stdout",
       "text": [
        "\n",
        "<PIL.JpegImagePlugin.JpegImageFile image mode=RGB size=800x600 at 0xAC2EE88>"
       ]
      },
      {
       "output_type": "stream",
       "stream": "stdout",
       "text": [
        "\n",
        "<PIL.JpegImagePlugin.JpegImageFile image mode=RGB size=800x600 at 0xAC2EE88>"
       ]
      },
      {
       "output_type": "stream",
       "stream": "stdout",
       "text": [
        "\n",
        "<PIL.JpegImagePlugin.JpegImageFile image mode=RGB size=800x600 at 0xAAC1F88>"
       ]
      },
      {
       "output_type": "stream",
       "stream": "stdout",
       "text": [
        "\n",
        "<PIL.JpegImagePlugin.JpegImageFile image mode=RGB size=800x600 at 0xAAC1F88>"
       ]
      },
      {
       "output_type": "stream",
       "stream": "stdout",
       "text": [
        "\n",
        "<PIL.JpegImagePlugin.JpegImageFile image mode=RGB size=800x600 at 0xAB64DC8>"
       ]
      },
      {
       "output_type": "stream",
       "stream": "stdout",
       "text": [
        "\n",
        "<PIL.JpegImagePlugin.JpegImageFile image mode=RGB size=800x600 at 0xAB64DC8>"
       ]
      },
      {
       "output_type": "stream",
       "stream": "stdout",
       "text": [
        "\n",
        "<PIL.JpegImagePlugin.JpegImageFile image mode=RGB size=800x600 at 0xAB6C048>"
       ]
      },
      {
       "output_type": "stream",
       "stream": "stdout",
       "text": [
        "\n",
        "<PIL.JpegImagePlugin.JpegImageFile image mode=RGB size=800x600 at 0xAB6C048>"
       ]
      },
      {
       "output_type": "stream",
       "stream": "stdout",
       "text": [
        "\n",
        "<PIL.JpegImagePlugin.JpegImageFile image mode=RGB size=800x600 at 0xAC1DCC8>"
       ]
      },
      {
       "output_type": "stream",
       "stream": "stdout",
       "text": [
        "\n",
        "<PIL.JpegImagePlugin.JpegImageFile image mode=RGB size=800x600 at 0xAC1DCC8>"
       ]
      },
      {
       "output_type": "stream",
       "stream": "stdout",
       "text": [
        "\n",
        "<PIL.JpegImagePlugin.JpegImageFile image mode=RGB size=800x600 at 0xA90DE48>"
       ]
      },
      {
       "output_type": "stream",
       "stream": "stdout",
       "text": [
        "\n",
        "<PIL.JpegImagePlugin.JpegImageFile image mode=RGB size=800x600 at 0xA90DE48>"
       ]
      },
      {
       "output_type": "stream",
       "stream": "stdout",
       "text": [
        "\n",
        "<PIL.JpegImagePlugin.JpegImageFile image mode=RGB size=800x600 at 0xAB66DC8>"
       ]
      },
      {
       "output_type": "stream",
       "stream": "stdout",
       "text": [
        "\n",
        "<PIL.JpegImagePlugin.JpegImageFile image mode=RGB size=800x600 at 0xAB66DC8>"
       ]
      },
      {
       "output_type": "stream",
       "stream": "stdout",
       "text": [
        "\n",
        "<PIL.JpegImagePlugin.JpegImageFile image mode=RGB size=800x600 at 0xAA86588>"
       ]
      },
      {
       "output_type": "stream",
       "stream": "stdout",
       "text": [
        "\n",
        "<PIL.JpegImagePlugin.JpegImageFile image mode=RGB size=800x600 at 0xAA86588>"
       ]
      },
      {
       "output_type": "stream",
       "stream": "stdout",
       "text": [
        "\n",
        "<PIL.JpegImagePlugin.JpegImageFile image mode=RGB size=800x600 at 0xA9B7748>"
       ]
      },
      {
       "output_type": "stream",
       "stream": "stdout",
       "text": [
        "\n",
        "<PIL.JpegImagePlugin.JpegImageFile image mode=RGB size=800x600 at 0xA9B7748>"
       ]
      },
      {
       "output_type": "stream",
       "stream": "stdout",
       "text": [
        "\n",
        "<PIL.JpegImagePlugin.JpegImageFile image mode=RGB size=800x600 at 0xAB787C8>"
       ]
      },
      {
       "output_type": "stream",
       "stream": "stdout",
       "text": [
        "\n",
        "<PIL.JpegImagePlugin.JpegImageFile image mode=RGB size=800x600 at 0xAB787C8>"
       ]
      },
      {
       "output_type": "stream",
       "stream": "stdout",
       "text": [
        "\n",
        "<PIL.JpegImagePlugin.JpegImageFile image mode=RGB size=800x600 at 0xAC31708>"
       ]
      },
      {
       "output_type": "stream",
       "stream": "stdout",
       "text": [
        "\n",
        "<PIL.JpegImagePlugin.JpegImageFile image mode=RGB size=800x600 at 0xAC31708>"
       ]
      },
      {
       "output_type": "stream",
       "stream": "stdout",
       "text": [
        "\n",
        "<PIL.JpegImagePlugin.JpegImageFile image mode=RGB size=800x600 at 0xAB67C88>"
       ]
      },
      {
       "output_type": "stream",
       "stream": "stdout",
       "text": [
        "\n",
        "<PIL.JpegImagePlugin.JpegImageFile image mode=RGB size=800x600 at 0xAB67C88>"
       ]
      },
      {
       "output_type": "stream",
       "stream": "stdout",
       "text": [
        "\n",
        "<PIL.JpegImagePlugin.JpegImageFile image mode=RGB size=800x600 at 0xAC2CA08>"
       ]
      },
      {
       "output_type": "stream",
       "stream": "stdout",
       "text": [
        "\n",
        "<PIL.JpegImagePlugin.JpegImageFile image mode=RGB size=800x600 at 0xAC2CA08>"
       ]
      },
      {
       "output_type": "stream",
       "stream": "stdout",
       "text": [
        "\n",
        "<PIL.JpegImagePlugin.JpegImageFile image mode=RGB size=800x600 at 0xAAC2A88>"
       ]
      },
      {
       "output_type": "stream",
       "stream": "stdout",
       "text": [
        "\n",
        "<PIL.JpegImagePlugin.JpegImageFile image mode=RGB size=800x600 at 0xAAC2A88>"
       ]
      },
      {
       "output_type": "stream",
       "stream": "stdout",
       "text": [
        "\n",
        "<PIL.JpegImagePlugin.JpegImageFile image mode=RGB size=800x600 at 0xAB69148>"
       ]
      },
      {
       "output_type": "stream",
       "stream": "stdout",
       "text": [
        "\n",
        "<PIL.JpegImagePlugin.JpegImageFile image mode=RGB size=800x600 at 0xAB69148>"
       ]
      },
      {
       "output_type": "stream",
       "stream": "stdout",
       "text": [
        "\n",
        "<PIL.JpegImagePlugin.JpegImageFile image mode=RGB size=800x600 at 0xAB6A2C8>"
       ]
      },
      {
       "output_type": "stream",
       "stream": "stdout",
       "text": [
        "\n",
        "<PIL.JpegImagePlugin.JpegImageFile image mode=RGB size=800x600 at 0xAB6A2C8>"
       ]
      },
      {
       "output_type": "stream",
       "stream": "stdout",
       "text": [
        "\n",
        "<PIL.JpegImagePlugin.JpegImageFile image mode=RGB size=800x600 at 0xAB65B08>"
       ]
      },
      {
       "output_type": "stream",
       "stream": "stdout",
       "text": [
        "\n",
        "<PIL.JpegImagePlugin.JpegImageFile image mode=RGB size=800x600 at 0xAB65B08>"
       ]
      },
      {
       "output_type": "stream",
       "stream": "stdout",
       "text": [
        "\n",
        "<PIL.JpegImagePlugin.JpegImageFile image mode=RGB size=800x600 at 0xAB6C048>"
       ]
      },
      {
       "output_type": "stream",
       "stream": "stdout",
       "text": [
        "\n",
        "<PIL.JpegImagePlugin.JpegImageFile image mode=RGB size=800x600 at 0xAB6C048>"
       ]
      },
      {
       "output_type": "stream",
       "stream": "stdout",
       "text": [
        "\n",
        "<PIL.JpegImagePlugin.JpegImageFile image mode=RGB size=800x600 at 0xAB61E88>"
       ]
      },
      {
       "output_type": "stream",
       "stream": "stdout",
       "text": [
        "\n",
        "<PIL.JpegImagePlugin.JpegImageFile image mode=RGB size=800x600 at 0xAB61E88>"
       ]
      },
      {
       "output_type": "stream",
       "stream": "stdout",
       "text": [
        "\n",
        "<PIL.JpegImagePlugin.JpegImageFile image mode=RGB size=800x600 at 0xAB61E88>"
       ]
      },
      {
       "output_type": "stream",
       "stream": "stdout",
       "text": [
        "\n",
        "<PIL.JpegImagePlugin.JpegImageFile image mode=RGB size=800x600 at 0xAB61E88>"
       ]
      },
      {
       "output_type": "stream",
       "stream": "stdout",
       "text": [
        "\n",
        "<PIL.JpegImagePlugin.JpegImageFile image mode=RGB size=800x600 at 0xAC28308>"
       ]
      },
      {
       "output_type": "stream",
       "stream": "stdout",
       "text": [
        "\n",
        "<PIL.JpegImagePlugin.JpegImageFile image mode=RGB size=800x600 at 0xAC28308>"
       ]
      },
      {
       "output_type": "stream",
       "stream": "stdout",
       "text": [
        "\n",
        "<PIL.JpegImagePlugin.JpegImageFile image mode=RGB size=800x600 at 0xAB6CA08>"
       ]
      },
      {
       "output_type": "stream",
       "stream": "stdout",
       "text": [
        "\n",
        "<PIL.JpegImagePlugin.JpegImageFile image mode=RGB size=800x600 at 0xAB6CA08>"
       ]
      },
      {
       "output_type": "stream",
       "stream": "stdout",
       "text": [
        "\n",
        "<PIL.JpegImagePlugin.JpegImageFile image mode=RGB size=800x600 at 0xAABD388>"
       ]
      },
      {
       "output_type": "stream",
       "stream": "stdout",
       "text": [
        "\n",
        "<PIL.JpegImagePlugin.JpegImageFile image mode=RGB size=800x600 at 0xAABD388>"
       ]
      },
      {
       "output_type": "stream",
       "stream": "stdout",
       "text": [
        "\n",
        "<PIL.JpegImagePlugin.JpegImageFile image mode=RGB size=800x600 at 0xAB6C0C8>"
       ]
      },
      {
       "output_type": "stream",
       "stream": "stdout",
       "text": [
        "\n",
        "<PIL.JpegImagePlugin.JpegImageFile image mode=RGB size=800x600 at 0xAB6C0C8>"
       ]
      },
      {
       "output_type": "stream",
       "stream": "stdout",
       "text": [
        "\n",
        "<PIL.JpegImagePlugin.JpegImageFile image mode=RGB size=800x600 at 0xA9B7748>"
       ]
      },
      {
       "output_type": "stream",
       "stream": "stdout",
       "text": [
        "\n",
        "<PIL.JpegImagePlugin.JpegImageFile image mode=RGB size=800x600 at 0xA9B7748>"
       ]
      },
      {
       "output_type": "stream",
       "stream": "stdout",
       "text": [
        "\n",
        "<PIL.JpegImagePlugin.JpegImageFile image mode=RGB size=800x600 at 0xAB78408>"
       ]
      },
      {
       "output_type": "stream",
       "stream": "stdout",
       "text": [
        "\n",
        "<PIL.JpegImagePlugin.JpegImageFile image mode=RGB size=800x600 at 0xAB78408>"
       ]
      },
      {
       "output_type": "stream",
       "stream": "stdout",
       "text": [
        "\n",
        "<PIL.JpegImagePlugin.JpegImageFile image mode=RGB size=800x600 at 0xA9B7088>"
       ]
      },
      {
       "output_type": "stream",
       "stream": "stdout",
       "text": [
        "\n",
        "<PIL.JpegImagePlugin.JpegImageFile image mode=RGB size=800x600 at 0xA9B7088>"
       ]
      },
      {
       "output_type": "stream",
       "stream": "stdout",
       "text": [
        "\n",
        "<PIL.JpegImagePlugin.JpegImageFile image mode=RGB size=800x600 at 0xAC36E48>"
       ]
      },
      {
       "output_type": "stream",
       "stream": "stdout",
       "text": [
        "\n",
        "<PIL.JpegImagePlugin.JpegImageFile image mode=RGB size=800x600 at 0xAC36E48>"
       ]
      },
      {
       "output_type": "stream",
       "stream": "stdout",
       "text": [
        "\n",
        "<PIL.JpegImagePlugin.JpegImageFile image mode=RGB size=800x600 at 0xAA868C8>"
       ]
      },
      {
       "output_type": "stream",
       "stream": "stdout",
       "text": [
        "\n",
        "<PIL.JpegImagePlugin.JpegImageFile image mode=RGB size=800x600 at 0xAA868C8>"
       ]
      },
      {
       "output_type": "stream",
       "stream": "stdout",
       "text": [
        "\n",
        "<PIL.JpegImagePlugin.JpegImageFile image mode=RGB size=800x600 at 0xAB67E08>"
       ]
      },
      {
       "output_type": "stream",
       "stream": "stdout",
       "text": [
        "\n",
        "<PIL.JpegImagePlugin.JpegImageFile image mode=RGB size=800x600 at 0xAB67E08>"
       ]
      },
      {
       "output_type": "stream",
       "stream": "stdout",
       "text": [
        "\n",
        "<PIL.JpegImagePlugin.JpegImageFile image mode=RGB size=800x600 at 0xA9B7088>"
       ]
      },
      {
       "output_type": "stream",
       "stream": "stdout",
       "text": [
        "\n",
        "<PIL.JpegImagePlugin.JpegImageFile image mode=RGB size=800x600 at 0xA9B7088>"
       ]
      },
      {
       "output_type": "stream",
       "stream": "stdout",
       "text": [
        "\n",
        "<PIL.JpegImagePlugin.JpegImageFile image mode=RGB size=800x600 at 0xABF9A88>"
       ]
      },
      {
       "output_type": "stream",
       "stream": "stdout",
       "text": [
        "\n",
        "<PIL.JpegImagePlugin.JpegImageFile image mode=RGB size=800x600 at 0xABF9A88>"
       ]
      },
      {
       "output_type": "stream",
       "stream": "stdout",
       "text": [
        "\n",
        "<PIL.JpegImagePlugin.JpegImageFile image mode=RGB size=800x600 at 0xAC2B388>"
       ]
      },
      {
       "output_type": "stream",
       "stream": "stdout",
       "text": [
        "\n",
        "<PIL.JpegImagePlugin.JpegImageFile image mode=RGB size=800x600 at 0xAC2B388>"
       ]
      },
      {
       "output_type": "stream",
       "stream": "stdout",
       "text": [
        "\n",
        "<PIL.JpegImagePlugin.JpegImageFile image mode=RGB size=800x600 at 0xAC317C8>"
       ]
      },
      {
       "output_type": "stream",
       "stream": "stdout",
       "text": [
        "\n",
        "<PIL.JpegImagePlugin.JpegImageFile image mode=RGB size=800x600 at 0xAC317C8>"
       ]
      },
      {
       "output_type": "stream",
       "stream": "stdout",
       "text": [
        "\n",
        "<PIL.JpegImagePlugin.JpegImageFile image mode=RGB size=800x600 at 0xAA86908>"
       ]
      },
      {
       "output_type": "stream",
       "stream": "stdout",
       "text": [
        "\n",
        "<PIL.JpegImagePlugin.JpegImageFile image mode=RGB size=800x600 at 0xAA86908>"
       ]
      },
      {
       "output_type": "stream",
       "stream": "stdout",
       "text": [
        "\n",
        "<PIL.JpegImagePlugin.JpegImageFile image mode=RGB size=800x600 at 0xAA86608>"
       ]
      },
      {
       "output_type": "stream",
       "stream": "stdout",
       "text": [
        "\n",
        "<PIL.JpegImagePlugin.JpegImageFile image mode=RGB size=800x600 at 0xAA86608>"
       ]
      },
      {
       "output_type": "stream",
       "stream": "stdout",
       "text": [
        "\n",
        "<PIL.JpegImagePlugin.JpegImageFile image mode=RGB size=800x600 at 0xAB9A9C8>"
       ]
      },
      {
       "output_type": "stream",
       "stream": "stdout",
       "text": [
        "\n",
        "<PIL.JpegImagePlugin.JpegImageFile image mode=RGB size=800x600 at 0xAB9A9C8>"
       ]
      },
      {
       "output_type": "stream",
       "stream": "stdout",
       "text": [
        "\n",
        "<PIL.JpegImagePlugin.JpegImageFile image mode=RGB size=800x600 at 0xAB6AC88>"
       ]
      },
      {
       "output_type": "stream",
       "stream": "stdout",
       "text": [
        "\n",
        "<PIL.JpegImagePlugin.JpegImageFile image mode=RGB size=800x600 at 0xAB6AC88>"
       ]
      },
      {
       "output_type": "stream",
       "stream": "stdout",
       "text": [
        "\n",
        "<PIL.JpegImagePlugin.JpegImageFile image mode=RGB size=800x600 at 0xAC1DE48>"
       ]
      },
      {
       "output_type": "stream",
       "stream": "stdout",
       "text": [
        "\n",
        "<PIL.JpegImagePlugin.JpegImageFile image mode=RGB size=800x600 at 0xAC1DE48>"
       ]
      },
      {
       "output_type": "stream",
       "stream": "stdout",
       "text": [
        "\n",
        "<PIL.JpegImagePlugin.JpegImageFile image mode=RGB size=800x600 at 0xAB61B48>"
       ]
      },
      {
       "output_type": "stream",
       "stream": "stdout",
       "text": [
        "\n",
        "<PIL.JpegImagePlugin.JpegImageFile image mode=RGB size=800x600 at 0xAB61B48>"
       ]
      },
      {
       "output_type": "stream",
       "stream": "stdout",
       "text": [
        "\n",
        "<PIL.JpegImagePlugin.JpegImageFile image mode=RGB size=800x600 at 0xAAC2AC8>"
       ]
      },
      {
       "output_type": "stream",
       "stream": "stdout",
       "text": [
        "\n",
        "<PIL.JpegImagePlugin.JpegImageFile image mode=RGB size=800x600 at 0xAAC2AC8>"
       ]
      },
      {
       "output_type": "stream",
       "stream": "stdout",
       "text": [
        "\n",
        "<PIL.JpegImagePlugin.JpegImageFile image mode=RGB size=800x600 at 0xAB6AE08>"
       ]
      },
      {
       "output_type": "stream",
       "stream": "stdout",
       "text": [
        "\n",
        "<PIL.JpegImagePlugin.JpegImageFile image mode=RGB size=800x600 at 0xAB6AE08>"
       ]
      },
      {
       "output_type": "stream",
       "stream": "stdout",
       "text": [
        "\n",
        "<PIL.JpegImagePlugin.JpegImageFile image mode=RGB size=800x600 at 0xAC2B488>"
       ]
      },
      {
       "output_type": "stream",
       "stream": "stdout",
       "text": [
        "\n",
        "<PIL.JpegImagePlugin.JpegImageFile image mode=RGB size=800x600 at 0xAC2B488>"
       ]
      },
      {
       "output_type": "stream",
       "stream": "stdout",
       "text": [
        "\n",
        "<PIL.JpegImagePlugin.JpegImageFile image mode=RGB size=800x600 at 0xAB8AD88>"
       ]
      },
      {
       "output_type": "stream",
       "stream": "stdout",
       "text": [
        "\n",
        "<PIL.JpegImagePlugin.JpegImageFile image mode=RGB size=800x600 at 0xAB8AD88>"
       ]
      },
      {
       "output_type": "stream",
       "stream": "stdout",
       "text": [
        "\n",
        "<PIL.JpegImagePlugin.JpegImageFile image mode=RGB size=800x600 at 0xAB6C0C8>"
       ]
      },
      {
       "output_type": "stream",
       "stream": "stdout",
       "text": [
        "\n",
        "<PIL.JpegImagePlugin.JpegImageFile image mode=RGB size=800x600 at 0xAB6C0C8>"
       ]
      },
      {
       "output_type": "stream",
       "stream": "stdout",
       "text": [
        "\n",
        "<PIL.JpegImagePlugin.JpegImageFile image mode=RGB size=800x600 at 0xAB6B108>"
       ]
      },
      {
       "output_type": "stream",
       "stream": "stdout",
       "text": [
        "\n",
        "<PIL.JpegImagePlugin.JpegImageFile image mode=RGB size=800x600 at 0xAB6B108>"
       ]
      },
      {
       "output_type": "stream",
       "stream": "stdout",
       "text": [
        "\n",
        "<PIL.JpegImagePlugin.JpegImageFile image mode=RGB size=800x600 at 0xAB686C8>"
       ]
      },
      {
       "output_type": "stream",
       "stream": "stdout",
       "text": [
        "\n",
        "<PIL.JpegImagePlugin.JpegImageFile image mode=RGB size=800x600 at 0xAB686C8>"
       ]
      },
      {
       "output_type": "stream",
       "stream": "stdout",
       "text": [
        "\n",
        "<PIL.JpegImagePlugin.JpegImageFile image mode=RGB size=800x600 at 0xAB8AC48>"
       ]
      },
      {
       "output_type": "stream",
       "stream": "stdout",
       "text": [
        "\n",
        "<PIL.JpegImagePlugin.JpegImageFile image mode=RGB size=800x600 at 0xAB8AC48>"
       ]
      },
      {
       "output_type": "stream",
       "stream": "stdout",
       "text": [
        "\n",
        "<PIL.JpegImagePlugin.JpegImageFile image mode=RGB size=800x600 at 0xAB8AC48>"
       ]
      },
      {
       "output_type": "stream",
       "stream": "stdout",
       "text": [
        "\n",
        "<PIL.JpegImagePlugin.JpegImageFile image mode=RGB size=800x600 at 0xAB8AC48>"
       ]
      },
      {
       "output_type": "stream",
       "stream": "stdout",
       "text": [
        "\n",
        "<PIL.JpegImagePlugin.JpegImageFile image mode=RGB size=800x600 at 0xAB8AE88>"
       ]
      },
      {
       "output_type": "stream",
       "stream": "stdout",
       "text": [
        "\n",
        "<PIL.JpegImagePlugin.JpegImageFile image mode=RGB size=800x600 at 0xAB8AE88>"
       ]
      },
      {
       "output_type": "stream",
       "stream": "stdout",
       "text": [
        "\n",
        "<PIL.JpegImagePlugin.JpegImageFile image mode=RGB size=800x600 at 0xAB8AC48>"
       ]
      },
      {
       "output_type": "stream",
       "stream": "stdout",
       "text": [
        "\n",
        "<PIL.JpegImagePlugin.JpegImageFile image mode=RGB size=800x600 at 0xAB8AC48>"
       ]
      },
      {
       "output_type": "stream",
       "stream": "stdout",
       "text": [
        "\n",
        "<PIL.JpegImagePlugin.JpegImageFile image mode=RGB size=800x600 at 0xABFA888>"
       ]
      },
      {
       "output_type": "stream",
       "stream": "stdout",
       "text": [
        "\n",
        "<PIL.JpegImagePlugin.JpegImageFile image mode=RGB size=800x600 at 0xABFA888>"
       ]
      },
      {
       "output_type": "stream",
       "stream": "stdout",
       "text": [
        "\n",
        "<PIL.JpegImagePlugin.JpegImageFile image mode=RGB size=800x600 at 0xAB8ABC8>"
       ]
      },
      {
       "output_type": "stream",
       "stream": "stdout",
       "text": [
        "\n",
        "<PIL.JpegImagePlugin.JpegImageFile image mode=RGB size=800x600 at 0xAB8ABC8>"
       ]
      },
      {
       "output_type": "stream",
       "stream": "stdout",
       "text": [
        "\n",
        "<PIL.JpegImagePlugin.JpegImageFile image mode=RGB size=800x600 at 0xABFAFC8>"
       ]
      },
      {
       "output_type": "stream",
       "stream": "stdout",
       "text": [
        "\n",
        "<PIL.JpegImagePlugin.JpegImageFile image mode=RGB size=800x600 at 0xABFAFC8>"
       ]
      },
      {
       "output_type": "stream",
       "stream": "stdout",
       "text": [
        "\n",
        "<PIL.JpegImagePlugin.JpegImageFile image mode=RGB size=800x600 at 0xAAC1D08>"
       ]
      },
      {
       "output_type": "stream",
       "stream": "stdout",
       "text": [
        "\n",
        "<PIL.JpegImagePlugin.JpegImageFile image mode=RGB size=800x600 at 0xAAC1D08>"
       ]
      },
      {
       "output_type": "stream",
       "stream": "stdout",
       "text": [
        "\n",
        "<PIL.JpegImagePlugin.JpegImageFile image mode=RGB size=800x600 at 0xAAC0748>"
       ]
      },
      {
       "output_type": "stream",
       "stream": "stdout",
       "text": [
        "\n",
        "<PIL.JpegImagePlugin.JpegImageFile image mode=RGB size=800x600 at 0xAAC0748>"
       ]
      },
      {
       "output_type": "stream",
       "stream": "stdout",
       "text": [
        "\n",
        "<PIL.JpegImagePlugin.JpegImageFile image mode=RGB size=800x600 at 0xAC1D5C8>"
       ]
      },
      {
       "output_type": "stream",
       "stream": "stdout",
       "text": [
        "\n",
        "<PIL.JpegImagePlugin.JpegImageFile image mode=RGB size=800x600 at 0xAC1D5C8>"
       ]
      },
      {
       "output_type": "stream",
       "stream": "stdout",
       "text": [
        "\n",
        "<PIL.JpegImagePlugin.JpegImageFile image mode=RGB size=800x600 at 0xAC2F948>"
       ]
      },
      {
       "output_type": "stream",
       "stream": "stdout",
       "text": [
        "\n",
        "<PIL.JpegImagePlugin.JpegImageFile image mode=RGB size=800x600 at 0xAC2F948>"
       ]
      },
      {
       "output_type": "stream",
       "stream": "stdout",
       "text": [
        "\n",
        "<PIL.JpegImagePlugin.JpegImageFile image mode=RGB size=800x600 at 0xAC1D2C8>"
       ]
      },
      {
       "output_type": "stream",
       "stream": "stdout",
       "text": [
        "\n",
        "<PIL.JpegImagePlugin.JpegImageFile image mode=RGB size=800x600 at 0xAC1D2C8>"
       ]
      },
      {
       "output_type": "stream",
       "stream": "stdout",
       "text": [
        "\n",
        "<PIL.JpegImagePlugin.JpegImageFile image mode=RGB size=800x600 at 0xAC2FE88>"
       ]
      },
      {
       "output_type": "stream",
       "stream": "stdout",
       "text": [
        "\n",
        "<PIL.JpegImagePlugin.JpegImageFile image mode=RGB size=800x600 at 0xAC2FE88>"
       ]
      },
      {
       "output_type": "stream",
       "stream": "stdout",
       "text": [
        "\n",
        "<PIL.JpegImagePlugin.JpegImageFile image mode=RGB size=800x600 at 0xAB67788>"
       ]
      },
      {
       "output_type": "stream",
       "stream": "stdout",
       "text": [
        "\n",
        "<PIL.JpegImagePlugin.JpegImageFile image mode=RGB size=800x600 at 0xAB67788>"
       ]
      },
      {
       "output_type": "stream",
       "stream": "stdout",
       "text": [
        "\n",
        "<PIL.JpegImagePlugin.JpegImageFile image mode=RGB size=800x600 at 0xAB8BAC8>"
       ]
      },
      {
       "output_type": "stream",
       "stream": "stdout",
       "text": [
        "\n",
        "<PIL.JpegImagePlugin.JpegImageFile image mode=RGB size=800x600 at 0xAB8BAC8>"
       ]
      },
      {
       "output_type": "stream",
       "stream": "stdout",
       "text": [
        "\n",
        "<PIL.JpegImagePlugin.JpegImageFile image mode=RGB size=800x600 at 0xAB64048>"
       ]
      },
      {
       "output_type": "stream",
       "stream": "stdout",
       "text": [
        "\n",
        "<PIL.JpegImagePlugin.JpegImageFile image mode=RGB size=800x600 at 0xAB64048>"
       ]
      },
      {
       "output_type": "stream",
       "stream": "stdout",
       "text": [
        "\n",
        "<PIL.JpegImagePlugin.JpegImageFile image mode=RGB size=800x600 at 0xAB9F5C8>"
       ]
      },
      {
       "output_type": "stream",
       "stream": "stdout",
       "text": [
        "\n",
        "<PIL.JpegImagePlugin.JpegImageFile image mode=RGB size=800x600 at 0xAB9F5C8>"
       ]
      },
      {
       "output_type": "stream",
       "stream": "stdout",
       "text": [
        "\n",
        "<PIL.JpegImagePlugin.JpegImageFile image mode=RGB size=800x600 at 0xAB8AEC8>"
       ]
      },
      {
       "output_type": "stream",
       "stream": "stdout",
       "text": [
        "\n",
        "<PIL.JpegImagePlugin.JpegImageFile image mode=RGB size=800x600 at 0xAB8AEC8>"
       ]
      },
      {
       "output_type": "stream",
       "stream": "stdout",
       "text": [
        "\n",
        "<PIL.JpegImagePlugin.JpegImageFile image mode=RGB size=800x600 at 0xAB64E08>"
       ]
      },
      {
       "output_type": "stream",
       "stream": "stdout",
       "text": [
        "\n",
        "<PIL.JpegImagePlugin.JpegImageFile image mode=RGB size=800x600 at 0xAB64E08>"
       ]
      },
      {
       "output_type": "stream",
       "stream": "stdout",
       "text": [
        "\n",
        "<PIL.JpegImagePlugin.JpegImageFile image mode=RGB size=800x600 at 0xAB680C8>"
       ]
      },
      {
       "output_type": "stream",
       "stream": "stdout",
       "text": [
        "\n",
        "<PIL.JpegImagePlugin.JpegImageFile image mode=RGB size=800x600 at 0xAB680C8>"
       ]
      },
      {
       "output_type": "stream",
       "stream": "stdout",
       "text": [
        "\n",
        "<PIL.JpegImagePlugin.JpegImageFile image mode=RGB size=800x600 at 0xAB78688>"
       ]
      },
      {
       "output_type": "stream",
       "stream": "stdout",
       "text": [
        "\n",
        "<PIL.JpegImagePlugin.JpegImageFile image mode=RGB size=800x600 at 0xAB78688>"
       ]
      },
      {
       "output_type": "stream",
       "stream": "stdout",
       "text": [
        "\n",
        "<PIL.JpegImagePlugin.JpegImageFile image mode=RGB size=800x600 at 0xAA868C8>"
       ]
      },
      {
       "output_type": "stream",
       "stream": "stdout",
       "text": [
        "\n",
        "<PIL.JpegImagePlugin.JpegImageFile image mode=RGB size=800x600 at 0xAA868C8>"
       ]
      },
      {
       "output_type": "stream",
       "stream": "stdout",
       "text": [
        "\n",
        "<PIL.JpegImagePlugin.JpegImageFile image mode=RGB size=800x600 at 0xAC2C848>"
       ]
      },
      {
       "output_type": "stream",
       "stream": "stdout",
       "text": [
        "\n",
        "<PIL.JpegImagePlugin.JpegImageFile image mode=RGB size=800x600 at 0xAC2C848>"
       ]
      },
      {
       "output_type": "stream",
       "stream": "stdout",
       "text": [
        "\n",
        "<PIL.JpegImagePlugin.JpegImageFile image mode=RGB size=800x600 at 0xAB78148>"
       ]
      },
      {
       "output_type": "stream",
       "stream": "stdout",
       "text": [
        "\n",
        "<PIL.JpegImagePlugin.JpegImageFile image mode=RGB size=800x600 at 0xAB78148>"
       ]
      },
      {
       "output_type": "stream",
       "stream": "stdout",
       "text": [
        "\n",
        "<PIL.JpegImagePlugin.JpegImageFile image mode=RGB size=800x600 at 0xABFB6C8>"
       ]
      },
      {
       "output_type": "stream",
       "stream": "stdout",
       "text": [
        "\n",
        "<PIL.JpegImagePlugin.JpegImageFile image mode=RGB size=800x600 at 0xABFB6C8>"
       ]
      },
      {
       "output_type": "stream",
       "stream": "stdout",
       "text": [
        "\n",
        "<PIL.JpegImagePlugin.JpegImageFile image mode=RGB size=800x600 at 0xAB9B348>"
       ]
      },
      {
       "output_type": "stream",
       "stream": "stdout",
       "text": [
        "\n",
        "<PIL.JpegImagePlugin.JpegImageFile image mode=RGB size=800x600 at 0xAB9B348>"
       ]
      },
      {
       "output_type": "stream",
       "stream": "stdout",
       "text": [
        "\n",
        "<PIL.JpegImagePlugin.JpegImageFile image mode=RGB size=800x600 at 0xAAC1F88>"
       ]
      },
      {
       "output_type": "stream",
       "stream": "stdout",
       "text": [
        "\n",
        "<PIL.JpegImagePlugin.JpegImageFile image mode=RGB size=800x600 at 0xAAC1F88>"
       ]
      },
      {
       "output_type": "stream",
       "stream": "stdout",
       "text": [
        "\n",
        "<PIL.JpegImagePlugin.JpegImageFile image mode=RGB size=800x600 at 0xAB63848>"
       ]
      },
      {
       "output_type": "stream",
       "stream": "stdout",
       "text": [
        "\n",
        "<PIL.JpegImagePlugin.JpegImageFile image mode=RGB size=800x600 at 0xAB63848>"
       ]
      },
      {
       "output_type": "stream",
       "stream": "stdout",
       "text": [
        "\n",
        "<PIL.JpegImagePlugin.JpegImageFile image mode=RGB size=800x600 at 0xAAC13C8>"
       ]
      },
      {
       "output_type": "stream",
       "stream": "stdout",
       "text": [
        "\n",
        "<PIL.JpegImagePlugin.JpegImageFile image mode=RGB size=800x600 at 0xAAC13C8>"
       ]
      },
      {
       "output_type": "stream",
       "stream": "stdout",
       "text": [
        "\n",
        "<PIL.JpegImagePlugin.JpegImageFile image mode=RGB size=800x600 at 0xAB64D88>"
       ]
      },
      {
       "output_type": "stream",
       "stream": "stdout",
       "text": [
        "\n",
        "<PIL.JpegImagePlugin.JpegImageFile image mode=RGB size=800x600 at 0xAB64D88>"
       ]
      },
      {
       "output_type": "stream",
       "stream": "stdout",
       "text": [
        "\n",
        "<PIL.JpegImagePlugin.JpegImageFile image mode=RGB size=800x600 at 0xABF9948>"
       ]
      },
      {
       "output_type": "stream",
       "stream": "stdout",
       "text": [
        "\n",
        "<PIL.JpegImagePlugin.JpegImageFile image mode=RGB size=800x600 at 0xABF9948>"
       ]
      },
      {
       "output_type": "stream",
       "stream": "stdout",
       "text": [
        "\n",
        "<PIL.JpegImagePlugin.JpegImageFile image mode=RGB size=800x600 at 0xABFD548>"
       ]
      },
      {
       "output_type": "stream",
       "stream": "stdout",
       "text": [
        "\n",
        "<PIL.JpegImagePlugin.JpegImageFile image mode=RGB size=800x600 at 0xABFD548>"
       ]
      },
      {
       "output_type": "stream",
       "stream": "stdout",
       "text": [
        "\n",
        "<PIL.JpegImagePlugin.JpegImageFile image mode=RGB size=800x600 at 0xAA86908>"
       ]
      },
      {
       "output_type": "stream",
       "stream": "stdout",
       "text": [
        "\n",
        "<PIL.JpegImagePlugin.JpegImageFile image mode=RGB size=800x600 at 0xAA86908>"
       ]
      },
      {
       "output_type": "stream",
       "stream": "stdout",
       "text": [
        "\n",
        "<PIL.JpegImagePlugin.JpegImageFile image mode=RGB size=800x600 at 0xAC2EBC8>"
       ]
      },
      {
       "output_type": "stream",
       "stream": "stdout",
       "text": [
        "\n",
        "<PIL.JpegImagePlugin.JpegImageFile image mode=RGB size=800x600 at 0xAC2EBC8>"
       ]
      },
      {
       "output_type": "stream",
       "stream": "stdout",
       "text": [
        "\n",
        "<PIL.JpegImagePlugin.JpegImageFile image mode=RGB size=800x600 at 0xAAC3588>"
       ]
      },
      {
       "output_type": "stream",
       "stream": "stdout",
       "text": [
        "\n",
        "<PIL.JpegImagePlugin.JpegImageFile image mode=RGB size=800x600 at 0xAAC3588>"
       ]
      },
      {
       "output_type": "stream",
       "stream": "stdout",
       "text": [
        "\n",
        "<PIL.JpegImagePlugin.JpegImageFile image mode=RGB size=800x600 at 0xAB8B4C8>"
       ]
      },
      {
       "output_type": "stream",
       "stream": "stdout",
       "text": [
        "\n",
        "<PIL.JpegImagePlugin.JpegImageFile image mode=RGB size=800x600 at 0xAB8B4C8>"
       ]
      },
      {
       "output_type": "stream",
       "stream": "stdout",
       "text": [
        "\n",
        "<PIL.JpegImagePlugin.JpegImageFile image mode=RGB size=800x600 at 0xAB9A348>"
       ]
      },
      {
       "output_type": "stream",
       "stream": "stdout",
       "text": [
        "\n",
        "<PIL.JpegImagePlugin.JpegImageFile image mode=RGB size=800x600 at 0xAB9A348>"
       ]
      },
      {
       "output_type": "stream",
       "stream": "stdout",
       "text": [
        "\n",
        "<PIL.JpegImagePlugin.JpegImageFile image mode=RGB size=800x600 at 0xAABFEC8>"
       ]
      },
      {
       "output_type": "stream",
       "stream": "stdout",
       "text": [
        "\n",
        "<PIL.JpegImagePlugin.JpegImageFile image mode=RGB size=800x600 at 0xAABFEC8>"
       ]
      },
      {
       "output_type": "stream",
       "stream": "stdout",
       "text": [
        "\n",
        "<PIL.JpegImagePlugin.JpegImageFile image mode=RGB size=800x600 at 0xAB9A648>"
       ]
      },
      {
       "output_type": "stream",
       "stream": "stdout",
       "text": [
        "\n",
        "<PIL.JpegImagePlugin.JpegImageFile image mode=RGB size=800x600 at 0xAB9A648>"
       ]
      },
      {
       "output_type": "stream",
       "stream": "stdout",
       "text": [
        "\n",
        "<PIL.JpegImagePlugin.JpegImageFile image mode=RGB size=800x600 at 0xABFBDC8>"
       ]
      },
      {
       "output_type": "stream",
       "stream": "stdout",
       "text": [
        "\n",
        "<PIL.JpegImagePlugin.JpegImageFile image mode=RGB size=800x600 at 0xABFBDC8>"
       ]
      },
      {
       "output_type": "stream",
       "stream": "stdout",
       "text": [
        "\n",
        "<PIL.JpegImagePlugin.JpegImageFile image mode=RGB size=800x600 at 0xAC2FCC8>"
       ]
      },
      {
       "output_type": "stream",
       "stream": "stdout",
       "text": [
        "\n",
        "<PIL.JpegImagePlugin.JpegImageFile image mode=RGB size=800x600 at 0xAC2FCC8>"
       ]
      },
      {
       "output_type": "stream",
       "stream": "stdout",
       "text": [
        "\n"
       ]
      },
      {
       "ename": "KeyboardInterrupt",
       "evalue": "",
       "output_type": "pyerr",
       "traceback": [
        "\u001b[1;31m---------------------------------------------------------------------------\u001b[0m\n\u001b[1;31mKeyboardInterrupt\u001b[0m                         Traceback (most recent call last)",
        "\u001b[1;32m<ipython-input-38-662f10738e69>\u001b[0m in \u001b[0;36m<module>\u001b[1;34m()\u001b[0m\n\u001b[1;32m----> 1\u001b[1;33m \u001b[0manalyzerun\u001b[0m\u001b[1;33m(\u001b[0m\u001b[1;34m'run11'\u001b[0m\u001b[1;33m)\u001b[0m\u001b[1;33m\u001b[0m\u001b[0m\n\u001b[0m",
        "\u001b[1;32m<ipython-input-12-08a623f9f8ad>\u001b[0m in \u001b[0;36manalyzerun\u001b[1;34m(run, threshold)\u001b[0m\n\u001b[0;32m      1\u001b[0m \u001b[1;32mdef\u001b[0m \u001b[0manalyzerun\u001b[0m\u001b[1;33m(\u001b[0m\u001b[0mrun\u001b[0m\u001b[1;33m,\u001b[0m\u001b[0mthreshold\u001b[0m\u001b[1;33m=\u001b[0m\u001b[1;36m500\u001b[0m\u001b[1;33m)\u001b[0m\u001b[1;33m:\u001b[0m\u001b[1;33m\u001b[0m\u001b[0m\n\u001b[1;32m----> 2\u001b[1;33m     \u001b[0mdatagen\u001b[0m\u001b[1;33m(\u001b[0m\u001b[0mrun\u001b[0m\u001b[1;33m,\u001b[0m\u001b[0mthreshold\u001b[0m\u001b[1;33m)\u001b[0m\u001b[1;33m\u001b[0m\u001b[0m\n\u001b[0m\u001b[0;32m      3\u001b[0m     \u001b[0mAvoEstim\u001b[0m\u001b[1;33m(\u001b[0m\u001b[0mrun\u001b[0m\u001b[1;33m)\u001b[0m\u001b[1;33m\u001b[0m\u001b[0m\n",
        "\u001b[1;32m<ipython-input-10-d0c33bc395eb>\u001b[0m in \u001b[0;36mdatagen\u001b[1;34m(run, threshold)\u001b[0m\n\u001b[0;32m      5\u001b[0m     \u001b[1;32mfor\u001b[0m \u001b[0mimgs\u001b[0m \u001b[1;32min\u001b[0m \u001b[0mimgnames\u001b[0m\u001b[1;33m:\u001b[0m\u001b[1;33m\u001b[0m\u001b[0m\n\u001b[0;32m      6\u001b[0m         \u001b[0mfilename\u001b[0m \u001b[1;33m=\u001b[0m \u001b[0mrun\u001b[0m\u001b[1;33m+\u001b[0m\u001b[1;34m'\\\\data\\\\'\u001b[0m\u001b[1;33m+\u001b[0m\u001b[0mimgs\u001b[0m\u001b[1;33m.\u001b[0m\u001b[0mreplace\u001b[0m\u001b[1;33m(\u001b[0m\u001b[1;34m'.jpg'\u001b[0m\u001b[1;33m,\u001b[0m\u001b[1;34m''\u001b[0m\u001b[1;33m)\u001b[0m\u001b[1;33m+\u001b[0m\u001b[1;34m'.txt'\u001b[0m\u001b[1;33m\u001b[0m\u001b[0m\n\u001b[1;32m----> 7\u001b[1;33m         \u001b[0manalyzepic\u001b[0m\u001b[1;33m(\u001b[0m\u001b[0mimgs\u001b[0m\u001b[1;33m,\u001b[0m\u001b[0mfilename\u001b[0m\u001b[1;33m,\u001b[0m\u001b[0mrun\u001b[0m\u001b[1;33m,\u001b[0m\u001b[0mthreshold\u001b[0m\u001b[1;33m)\u001b[0m\u001b[1;33m\u001b[0m\u001b[0m\n\u001b[0m",
        "\u001b[1;32m<ipython-input-9-22382871ba09>\u001b[0m in \u001b[0;36manalyzepic\u001b[1;34m(imgname, outname, run, threshold)\u001b[0m\n\u001b[0;32m      2\u001b[0m     \u001b[0mfillfunc\u001b[0m \u001b[1;33m=\u001b[0m \u001b[1;34m'fill2'\u001b[0m\u001b[1;33m\u001b[0m\u001b[0m\n\u001b[0;32m      3\u001b[0m     \u001b[0mpicture\u001b[0m \u001b[1;33m=\u001b[0m \u001b[0mresetimg2\u001b[0m\u001b[1;33m(\u001b[0m\u001b[0mimgname\u001b[0m\u001b[1;33m,\u001b[0m\u001b[0mthreshold\u001b[0m\u001b[1;33m,\u001b[0m\u001b[0mrun\u001b[0m\u001b[1;33m)\u001b[0m\u001b[1;33m\u001b[0m\u001b[0m\n\u001b[1;32m----> 4\u001b[1;33m     \u001b[0mresult\u001b[0m \u001b[1;33m=\u001b[0m \u001b[0mcount2\u001b[0m\u001b[1;33m(\u001b[0m\u001b[0mpicture\u001b[0m\u001b[1;33m,\u001b[0m\u001b[0mfill2\u001b[0m\u001b[1;33m)\u001b[0m\u001b[1;33m\u001b[0m\u001b[0m\n\u001b[0m\u001b[0;32m      5\u001b[0m     \u001b[1;31m#print proctime, result[0]\u001b[0m\u001b[1;33m\u001b[0m\u001b[1;33m\u001b[0m\u001b[0m\n\u001b[0;32m      6\u001b[0m     \u001b[0mstars\u001b[0m \u001b[1;33m=\u001b[0m \u001b[0mnp\u001b[0m\u001b[1;33m.\u001b[0m\u001b[0marray\u001b[0m\u001b[1;33m(\u001b[0m\u001b[0mresult\u001b[0m\u001b[1;33m[\u001b[0m\u001b[1;36m1\u001b[0m\u001b[1;33m]\u001b[0m\u001b[1;33m)\u001b[0m\u001b[1;33m\u001b[0m\u001b[0m\n",
        "\u001b[1;32m<ipython-input-5-2484c0e563c7>\u001b[0m in \u001b[0;36mcount2\u001b[1;34m(picture, fillfunc)\u001b[0m\n\u001b[0;32m     12\u001b[0m             \u001b[1;32mif\u001b[0m \u001b[0mtemp\u001b[0m\u001b[1;33m[\u001b[0m\u001b[0mx\u001b[0m\u001b[1;33m,\u001b[0m\u001b[0my\u001b[0m\u001b[1;33m]\u001b[0m \u001b[1;33m>\u001b[0m \u001b[0mBLACK\u001b[0m\u001b[1;33m:\u001b[0m\u001b[1;33m\u001b[0m\u001b[0m\n\u001b[0;32m     13\u001b[0m                 \u001b[0mresult\u001b[0m \u001b[1;33m+=\u001b[0m \u001b[1;36m1\u001b[0m\u001b[1;33m\u001b[0m\u001b[0m\n\u001b[1;32m---> 14\u001b[1;33m                 \u001b[0mx\u001b[0m\u001b[1;33m,\u001b[0m\u001b[0my\u001b[0m\u001b[1;33m,\u001b[0m\u001b[0mmax_val\u001b[0m\u001b[1;33m,\u001b[0m\u001b[0mmass\u001b[0m \u001b[1;33m=\u001b[0m \u001b[0mfillfunc\u001b[0m\u001b[1;33m(\u001b[0m\u001b[0mtemp\u001b[0m\u001b[1;33m,\u001b[0m\u001b[0mxsize\u001b[0m\u001b[1;33m,\u001b[0m\u001b[0mysize\u001b[0m\u001b[1;33m,\u001b[0m\u001b[0mx\u001b[0m\u001b[1;33m,\u001b[0m\u001b[0my\u001b[0m\u001b[1;33m)\u001b[0m\u001b[1;33m\u001b[0m\u001b[0m\n\u001b[0m\u001b[0;32m     15\u001b[0m                 \u001b[0mstarlist\u001b[0m\u001b[1;33m.\u001b[0m\u001b[0mappend\u001b[0m\u001b[1;33m(\u001b[0m\u001b[1;33m(\u001b[0m\u001b[0mx\u001b[0m\u001b[1;33m,\u001b[0m\u001b[0my\u001b[0m\u001b[1;33m,\u001b[0m\u001b[0mmax_val\u001b[0m\u001b[1;33m,\u001b[0m\u001b[0mmass\u001b[0m\u001b[1;33m)\u001b[0m\u001b[1;33m)\u001b[0m\u001b[1;33m\u001b[0m\u001b[0m\n\u001b[0;32m     16\u001b[0m     \u001b[1;32mreturn\u001b[0m \u001b[0mresult\u001b[0m\u001b[1;33m,\u001b[0m\u001b[0mstarlist\u001b[0m\u001b[1;33m\u001b[0m\u001b[0m\n",
        "\u001b[1;32m<ipython-input-6-553cf95b370a>\u001b[0m in \u001b[0;36mfill2\u001b[1;34m(picture, xsize, ysize, xstart, ystart)\u001b[0m\n\u001b[0;32m      7\u001b[0m     \u001b[1;32mwhile\u001b[0m \u001b[0mqueue\u001b[0m\u001b[1;33m:\u001b[0m\u001b[1;33m\u001b[0m\u001b[0m\n\u001b[0;32m      8\u001b[0m         \u001b[0mx\u001b[0m\u001b[1;33m,\u001b[0m\u001b[0my\u001b[0m\u001b[1;33m,\u001b[0m\u001b[0mqueue\u001b[0m \u001b[1;33m=\u001b[0m \u001b[0mqueue\u001b[0m\u001b[1;33m[\u001b[0m\u001b[1;36m0\u001b[0m\u001b[1;33m]\u001b[0m\u001b[1;33m[\u001b[0m\u001b[1;36m0\u001b[0m\u001b[1;33m]\u001b[0m\u001b[1;33m,\u001b[0m \u001b[0mqueue\u001b[0m\u001b[1;33m[\u001b[0m\u001b[1;36m0\u001b[0m\u001b[1;33m]\u001b[0m\u001b[1;33m[\u001b[0m\u001b[1;36m1\u001b[0m\u001b[1;33m]\u001b[0m\u001b[1;33m,\u001b[0m \u001b[0mqueue\u001b[0m\u001b[1;33m[\u001b[0m\u001b[1;36m1\u001b[0m\u001b[1;33m:\u001b[0m\u001b[1;33m]\u001b[0m\u001b[1;33m\u001b[0m\u001b[0m\n\u001b[1;32m----> 9\u001b[1;33m         \u001b[0mr\u001b[0m\u001b[1;33m,\u001b[0m\u001b[0mg\u001b[0m\u001b[1;33m,\u001b[0m\u001b[0mb\u001b[0m \u001b[1;33m=\u001b[0m \u001b[0mpicture\u001b[0m\u001b[1;33m[\u001b[0m\u001b[0mx\u001b[0m\u001b[1;33m,\u001b[0m\u001b[0my\u001b[0m\u001b[1;33m]\u001b[0m\u001b[1;33m\u001b[0m\u001b[0m\n\u001b[0m\u001b[0;32m     10\u001b[0m         \u001b[1;32mif\u001b[0m \u001b[1;33m(\u001b[0m\u001b[0mr\u001b[0m\u001b[1;33m+\u001b[0m\u001b[0mg\u001b[0m\u001b[1;33m+\u001b[0m\u001b[0mb\u001b[0m \u001b[1;33m>\u001b[0m \u001b[0mmaxval\u001b[0m\u001b[1;33m)\u001b[0m\u001b[1;33m:\u001b[0m\u001b[1;33m\u001b[0m\u001b[0m\n\u001b[0;32m     11\u001b[0m             \u001b[0mmaxx\u001b[0m\u001b[1;33m,\u001b[0m\u001b[0mmaxy\u001b[0m\u001b[1;33m,\u001b[0m\u001b[0mmaxval\u001b[0m\u001b[1;33m,\u001b[0m\u001b[0mmass\u001b[0m \u001b[1;33m=\u001b[0m \u001b[0mx\u001b[0m\u001b[1;33m,\u001b[0m\u001b[0my\u001b[0m\u001b[1;33m,\u001b[0m\u001b[0mr\u001b[0m\u001b[1;33m+\u001b[0m\u001b[0mg\u001b[0m\u001b[1;33m+\u001b[0m\u001b[0mb\u001b[0m\u001b[1;33m,\u001b[0m\u001b[0mmass\u001b[0m\u001b[1;33m+\u001b[0m\u001b[1;36m1\u001b[0m\u001b[1;33m\u001b[0m\u001b[0m\n",
        "\u001b[1;31mKeyboardInterrupt\u001b[0m: "
       ]
      }
     ],
     "prompt_number": 38
    },
    {
     "cell_type": "code",
     "collapsed": false,
     "input": [
      "analyzerun('run9',650)"
     ],
     "language": "python",
     "metadata": {},
     "outputs": [
      {
       "output_type": "stream",
       "stream": "stdout",
       "text": [
        "D = 4.86944405299e-13\n",
        "K Estimate = 1.40683380483e-23\n",
        "K Theory = 1.3806488e-23\n",
        "Percent Error = 1.89657245437 %\n",
        "Avogadro's Number Estimate = 5.91012952023e+23\n",
        "Avogadro's Number Theory = 6.0221413e+23\n",
        "Percent Error = 1.85999919611 %\n"
       ]
      }
     ],
     "prompt_number": 46
    },
    {
     "cell_type": "code",
     "collapsed": false,
     "input": [
      "def conv(run):\n",
      "    import os\n",
      "    from os import listdir\n",
      "    imgnames = os.listdir(run+\"\\\\images\")\n",
      "    for imgs in imgnames:\n",
      "        name = imgs\n",
      "        pic = Image.open(os.getcwd() + '\\\\'+run+'\\\\images\\\\' + name)\n",
      "        rgbimg = Image.new(\"RGBA\", pic.size)\n",
      "        rgbimg.paste(pic)\n",
      "        rgbimg.save(os.getcwd() + '\\\\'+run+'\\\\images\\\\' + name)\n",
      "conv('run11')"
     ],
     "language": "python",
     "metadata": {},
     "outputs": [],
     "prompt_number": 47
    },
    {
     "cell_type": "code",
     "collapsed": false,
     "input": [
      "analyzerun('run12',575)"
     ],
     "language": "python",
     "metadata": {},
     "outputs": []
    }
   ],
   "metadata": {}
  }
 ]
}